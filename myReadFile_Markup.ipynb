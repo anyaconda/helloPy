{
 "cells": [
  {
   "cell_type": "code",
   "execution_count": 1,
   "metadata": {},
   "outputs": [],
   "source": [
    "#meta 4/5/2021 How to read a markup file\n",
    "#NLP, LSHTC (large scale hierarchical text classification)\n",
    "#src data http://lshtc.iit.demokritos.gr/ LSHTC3\n",
    "#src code based on https://github.com/Arf4t/Lshtc3_fasttext/blob/master/LSHTC3.ipynb\n",
    "\n",
    "#input: sample.txt markup file\n",
    "#output: df.pkl with documents and labels\n",
    "\n",
    "#history\n",
    "#4/5/2021 READ MARKUP FILE\n",
    "#      OOP class read markup file"
   ]
  },
  {
   "cell_type": "code",
   "execution_count": 2,
   "metadata": {},
   "outputs": [],
   "source": [
    "import time as time #to track performance time\n",
    "import numpy as np\n",
    "import pandas as pd\n",
    "from bs4 import BeautifulSoup\n",
    "from joblib import load, dump"
   ]
  },
  {
   "cell_type": "code",
   "execution_count": 3,
   "metadata": {},
   "outputs": [],
   "source": [
    "#global vars\n",
    "sample_file = 'data/LSHTCv3_sample_wikipediaMediumOriginal-train.txt'"
   ]
  },
  {
   "cell_type": "markdown",
   "metadata": {},
   "source": [
    "## How to: Read a Markup File\n",
    "Define a class to read a markup file, parsing the required data about labels and documents"
   ]
  },
  {
   "cell_type": "code",
   "execution_count": 4,
   "metadata": {},
   "outputs": [],
   "source": [
    "#define a class to read a markup file and extract its elements\n",
    "class myTextReader:\n",
    "    def __init__(self, file_path):\n",
    "        self.file_path = file_path\n",
    "        self.docno=[]\n",
    "        self.labels=[]                      #parsing the required data about labels and documents\n",
    "        self.data=[]\n",
    "        \n",
    "        soup=BeautifulSoup(open(self.file_path,'r',encoding='utf8'),'html.parser')\n",
    "        \n",
    "        for x in list(soup.find_all('docno')):\n",
    "            self.docno.append(x.get_text())\n",
    "\n",
    "        for x in list(soup.find_all('labels')):\n",
    "            self.labels.append([ int(lab) for lab in x.get_text().split()])\n",
    "            self.data.append(x.next_sibling.strip('\\n'))"
   ]
  },
  {
   "cell_type": "code",
   "execution_count": 5,
   "metadata": {
    "scrolled": true
   },
   "outputs": [
    {
     "name": "stdout",
     "output_type": "stream",
     "text": [
      "Processing time (in minutes):  4.996458689371745e-05\n"
     ]
    }
   ],
   "source": [
    "#track time\n",
    "t0 = time.time()\n",
    "\n",
    "#read file\n",
    "sample = myTextReader(sample_file) #class __main__.myTextReader\n",
    "\n",
    "#display a couple of entities\n",
    "sample.docno[1:3], sample.labels[1:3], sample.data[1:3]\n",
    "\n",
    "print(\"Processing time (in minutes): \", (time.time() - t0)/60)"
   ]
  },
  {
   "cell_type": "code",
   "execution_count": 6,
   "metadata": {},
   "outputs": [
    {
     "data": {
      "text/plain": [
       "('5',\n",
       " [14661, 71999, 292915, 188756, 131368],\n",
       " \"Andre Kirk Agassi (born April 29, 1970) is an American former World No. 1 professional tennis player who won eight Grand Slam singles tournaments and an Olympic gold medal in singles. Generally considered by critics and fellow players to be one of the greatest tennis players of all time, he has been called the best service returner in the history of tennis. Known for his unorthodox apparel and attitude, Agassi is often cited as one of the most charismatic players in the history of the game, and is credited for helping revive the popularity of tennis during the 1990s. He is married to fellow retired professional tennis player and multiple Grand Slam champion Steffi Graf. Agassi is, with Rod Laver, Don Budge, Fred Perry, Roy Emerson, and Roger Federer, one of only six men to have achieved a Career Grand Slam, one of only three since the beginning of the Open Era, and the only male player to have achieved a Career Golden Slam. In addition to his Grand Slam and Olympic singles titles, he won the Tennis Masters Cup and was part of a winning Davis Cup team. He won 17 ATP Masters Series tournaments, more than any other player. Agassi's Grand Slam composition is for his career. After suffering from sciatica caused by two bulging discs in his back, a spondylolisthesis and a bone spur that interferes with the nerve, Agassi retired from professional tennis on September 3, 2006, after losing in the third round of the US Open. He is the founder of the Andre Agassi Charitable Foundation, which has raised over $60 million for at-risk children in Southern Nevada. In 2001, the Foundation opened the Andre Agassi College Preparatory Academy in Las Vegas, a K-12 public charter school for at-risk children.\")"
      ]
     },
     "execution_count": 6,
     "metadata": {},
     "output_type": "execute_result"
    }
   ],
   "source": [
    "#explore text - number of documents\n",
    "sample.docno[-1], sample.labels[-1], sample.data[-1]"
   ]
  },
  {
   "cell_type": "code",
   "execution_count": 7,
   "metadata": {},
   "outputs": [
    {
     "name": "stdout",
     "output_type": "stream",
     "text": [
      "(5, 2)\n",
      "labels    object\n",
      "text      object\n",
      "dtype: object\n"
     ]
    },
    {
     "data": {
      "text/html": [
       "<div>\n",
       "<style scoped>\n",
       "    .dataframe tbody tr th:only-of-type {\n",
       "        vertical-align: middle;\n",
       "    }\n",
       "\n",
       "    .dataframe tbody tr th {\n",
       "        vertical-align: top;\n",
       "    }\n",
       "\n",
       "    .dataframe thead th {\n",
       "        text-align: right;\n",
       "    }\n",
       "</style>\n",
       "<table border=\"1\" class=\"dataframe\">\n",
       "  <thead>\n",
       "    <tr style=\"text-align: right;\">\n",
       "      <th></th>\n",
       "      <th>labels</th>\n",
       "      <th>text</th>\n",
       "    </tr>\n",
       "    <tr>\n",
       "      <th>docno</th>\n",
       "      <th></th>\n",
       "      <th></th>\n",
       "    </tr>\n",
       "  </thead>\n",
       "  <tbody>\n",
       "    <tr>\n",
       "      <th>1</th>\n",
       "      <td>[33692, 13402, 393382]</td>\n",
       "      <td>Alabama /\\u02CC\\u00E6l\\u0259\\u02C8b\\u00E6m\\u02...</td>\n",
       "    </tr>\n",
       "    <tr>\n",
       "      <th>2</th>\n",
       "      <td>[130762]</td>\n",
       "      <td>Alain Connes (born 1 April 1947) is a French m...</td>\n",
       "    </tr>\n",
       "    <tr>\n",
       "      <th>3</th>\n",
       "      <td>[352578, 395447, 27512, 157031]</td>\n",
       "      <td>Ayn Rand (born Alisa Zinov'yevna Rosenbaum; Fe...</td>\n",
       "    </tr>\n",
       "    <tr>\n",
       "      <th>4</th>\n",
       "      <td>[390846, 395447, 276114]</td>\n",
       "      <td>Allan Dwan (April 3, 1885 – December 28, 1981)...</td>\n",
       "    </tr>\n",
       "    <tr>\n",
       "      <th>5</th>\n",
       "      <td>[14661, 71999, 292915, 188756, 131368]</td>\n",
       "      <td>Andre Kirk Agassi (born April 29, 1970) is an ...</td>\n",
       "    </tr>\n",
       "  </tbody>\n",
       "</table>\n",
       "</div>"
      ],
      "text/plain": [
       "                                       labels  \\\n",
       "docno                                           \n",
       "1                      [33692, 13402, 393382]   \n",
       "2                                    [130762]   \n",
       "3             [352578, 395447, 27512, 157031]   \n",
       "4                    [390846, 395447, 276114]   \n",
       "5      [14661, 71999, 292915, 188756, 131368]   \n",
       "\n",
       "                                                    text  \n",
       "docno                                                     \n",
       "1      Alabama /\\u02CC\\u00E6l\\u0259\\u02C8b\\u00E6m\\u02...  \n",
       "2      Alain Connes (born 1 April 1947) is a French m...  \n",
       "3      Ayn Rand (born Alisa Zinov'yevna Rosenbaum; Fe...  \n",
       "4      Allan Dwan (April 3, 1885 – December 28, 1981)...  \n",
       "5      Andre Kirk Agassi (born April 29, 1970) is an ...  "
      ]
     },
     "execution_count": 7,
     "metadata": {},
     "output_type": "execute_result"
    }
   ],
   "source": [
    "#make a dataframe\n",
    "df = pd.DataFrame([sample.docno, sample.labels, sample.data]).T\n",
    "df.columns = ['docno', 'labels', 'text']\n",
    "df.set_index('docno', inplace=True)\n",
    "print(df.shape)\n",
    "print(df.dtypes)\n",
    "df.head()"
   ]
  },
  {
   "cell_type": "code",
   "execution_count": 8,
   "metadata": {
    "scrolled": true
   },
   "outputs": [
    {
     "data": {
      "text/plain": [
       "['output/LSHTCv3_sample.pkl']"
      ]
     },
     "execution_count": 8,
     "metadata": {},
     "output_type": "execute_result"
    }
   ],
   "source": [
    "#save df\n",
    "dump(df, 'output/LSHTCv3_sample.pkl')"
   ]
  },
  {
   "cell_type": "code",
   "execution_count": 9,
   "metadata": {},
   "outputs": [
    {
     "ename": "NameError",
     "evalue": "name 'mystop' is not defined",
     "output_type": "error",
     "traceback": [
      "\u001b[1;31m---------------------------------------------------------------------------\u001b[0m",
      "\u001b[1;31mNameError\u001b[0m                                 Traceback (most recent call last)",
      "\u001b[1;32m<ipython-input-9-255d8eb4da7e>\u001b[0m in \u001b[0;36m<module>\u001b[1;34m\u001b[0m\n\u001b[1;32m----> 1\u001b[1;33m \u001b[0mmystop\u001b[0m\u001b[1;33m\u001b[0m\u001b[1;33m\u001b[0m\u001b[0m\n\u001b[0m",
      "\u001b[1;31mNameError\u001b[0m: name 'mystop' is not defined"
     ]
    }
   ],
   "source": [
    "mystop"
   ]
  },
  {
   "cell_type": "markdown",
   "metadata": {},
   "source": [
    "## Xtra"
   ]
  },
  {
   "cell_type": "code",
   "execution_count": null,
   "metadata": {},
   "outputs": [],
   "source": [
    "#$acxtra manually, replicate Class - read an html file\n",
    "tiny_docno=[]\n",
    "tiny_labels=[]                      #parsing the required data about labels and documents\n",
    "tiny_data=[]\n",
    "        \n",
    "soup=BeautifulSoup(open(sample_file,'r',encoding='utf8'),'html.parser')\n",
    "\n",
    "for x in list(soup.find_all('docno')):\n",
    "    tiny_docno.append(x.get_text())\n",
    "\n",
    "for x in list(soup.find_all('labels')):\n",
    "    tiny_labels.append([ int(lab) for lab in x.get_text().split()])\n",
    "    tiny_data.append(x.next_sibling.strip('\\n'))\n",
    "    \n",
    "#results after reading file\n",
    "tiny_docno[1:3], tiny_labels[1:3], tiny_data[1:3]"
   ]
  },
  {
   "cell_type": "code",
   "execution_count": null,
   "metadata": {},
   "outputs": [],
   "source": [
    "#$acxtra OOP class read markup file, take 1 - no param to specify file\n",
    "class myText:\n",
    "    def __init__(self):\n",
    "        self.docno=[]\n",
    "        self.labels=[]                      #parsing the required data about labels and documents\n",
    "        self.data=[]\n",
    "        \n",
    "        soup=BeautifulSoup(open(sample_file,'r',encoding='utf8'),'html.parser')\n",
    "        \n",
    "        for x in list(soup.find_all('docno')):\n",
    "            self.docno.append(x.get_text())\n",
    "\n",
    "        for x in list(soup.find_all('labels')):\n",
    "            self.labels.append([ int(lab) for lab in x.get_text().split()])\n",
    "            self.data.append(x.next_sibling.strip('\\n'))\n",
    "            \n",
    "#read file\n",
    "sample = myText() #class __main__.myText\n",
    "\n",
    "#display a couple of entities\n",
    "sample.docno[1:3], sample.labels[1:3], sample.data[1:3]"
   ]
  }
 ],
 "metadata": {
  "hide_input": false,
  "kernelspec": {
   "display_name": "Python 3",
   "language": "python",
   "name": "python3"
  },
  "language_info": {
   "codemirror_mode": {
    "name": "ipython",
    "version": 3
   },
   "file_extension": ".py",
   "mimetype": "text/x-python",
   "name": "python",
   "nbconvert_exporter": "python",
   "pygments_lexer": "ipython3",
   "version": "3.7.6"
  },
  "toc": {
   "base_numbering": 1,
   "nav_menu": {},
   "number_sections": true,
   "sideBar": true,
   "skip_h1_title": false,
   "title_cell": "Table of Contents",
   "title_sidebar": "Contents",
   "toc_cell": false,
   "toc_position": {},
   "toc_section_display": true,
   "toc_window_display": false
  }
 },
 "nbformat": 4,
 "nbformat_minor": 4
}
