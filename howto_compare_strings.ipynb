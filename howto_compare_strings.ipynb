{
 "cells": [
  {
   "cell_type": "code",
   "execution_count": null,
   "metadata": {},
   "outputs": [],
   "source": [
    "#meta 4/17/2023 difflib — Helpers for computing deltas\n",
    "# Refer to https://docs.python.org/3/library/difflib.html\n",
    "#Use: apples to oranges"
   ]
  },
  {
   "attachments": {},
   "cell_type": "markdown",
   "metadata": {},
   "source": [
    "# myUtilities: Strings\n",
    "\n",
    "\n",
    "-`difflib` https://docs.python.org/3/library/difflib.html  \n",
    "helper for computing deltas  \n",
    "use case: finding deltas in long error strings"
   ]
  },
  {
   "cell_type": "code",
   "execution_count": 2,
   "metadata": {},
   "outputs": [],
   "source": [
    "import difflib"
   ]
  },
  {
   "cell_type": "code",
   "execution_count": 15,
   "metadata": {},
   "outputs": [
    {
     "data": {
      "text/plain": [
       "['  This is a random string.\\n',\n",
       " '-  Lets call it string 1. \\n',\n",
       " '?                      ^\\n',\n",
       " '+  Lets call it string 2. \\n',\n",
       " '?                      ^\\n',\n",
       " '-  This is so random\\n',\n",
       " '+  This is so random.\\n',\n",
       " '?                   +\\n',\n",
       " '+  Or mayble not, or is it.\\n',\n",
       " '   ']"
      ]
     },
     "execution_count": 15,
     "metadata": {},
     "output_type": "execute_result"
    }
   ],
   "source": [
    "from difflib import Differ\n",
    "\n",
    "differ_inst = Differ()\n",
    " \n",
    "string1 = \"\"\"This is a random string.\n",
    " Lets call it string 1. \n",
    " This is so random\n",
    " \"\"\".splitlines(keepends=True)\n",
    " \n",
    "string2 = \"\"\"This is a random string.\n",
    " Lets call it string 2. \n",
    " This is so random.\n",
    " Or mayble not, or is it.\n",
    " \"\"\".splitlines(keepends=True)\n",
    " \n",
    "deltas = list(differ_inst.compare(string1,string2))\n",
    "deltas"
   ]
  },
  {
   "cell_type": "code",
   "execution_count": 16,
   "metadata": {},
   "outputs": [
    {
     "data": {
      "text/plain": [
       "['  a', '  n', '  y', '- a', '+ 0']"
      ]
     },
     "execution_count": 16,
     "metadata": {},
     "output_type": "execute_result"
    }
   ],
   "source": [
    "#a simple example\n",
    "str1 = \"anya\"\n",
    "str2 = \"any0\"\n",
    "deltas = list(differ_inst.compare(str1,str2))\n",
    "deltas"
   ]
  },
  {
   "cell_type": "code",
   "execution_count": 17,
   "metadata": {},
   "outputs": [
    {
     "name": "stdout",
     "output_type": "stream",
     "text": [
      "anya => any0\n",
      "Common string \"a\" to position 0\n",
      "Common string \"n\" to position 1\n",
      "Common string \"y\" to position 2\n",
      "Delete \"a\" from position 3\n",
      "Add \"0\" to position 4\n",
      "\n"
     ]
    }
   ],
   "source": [
    "for a,b in [(str1,str2)]:     \n",
    "    print('{} => {}'.format(a,b))  \n",
    "    for i,s in enumerate(difflib.ndiff(a, b)):\n",
    "        #if s[0]==' ': continue\n",
    "        if s[0]==' ':\n",
    "            print(u'Common string \"{}\" to position {}'.format(s[-1],i)) \n",
    "        elif s[0]=='-':\n",
    "            print(u'Delete \"{}\" from position {}'.format(s[-1],i))\n",
    "        elif s[0]=='+':\n",
    "            print(u'Add \"{}\" to position {}'.format(s[-1],i))    \n",
    "    print()"
   ]
  },
  {
   "attachments": {},
   "cell_type": "markdown",
   "metadata": {},
   "source": [
    "## Match Strings\n",
    "For exact string matches\n",
    "\n",
    "`SequenceMatcher() object`  \n",
    "- `get_matching_blocks`  \n",
    "- `find_longest_match`"
   ]
  },
  {
   "cell_type": "code",
   "execution_count": 3,
   "metadata": {},
   "outputs": [],
   "source": [
    "#a simple example\n",
    "str1 = \"Hey, teacher, leave them kids alone All in all, it's just another brick in the wall\"\n",
    "str2 = \"Song by Pink Floyd Hey, teacher, leave them kids alone Titled Another Brick in the Wall All in all, it's just another brick in the wall part of movie The Wall\""
   ]
  },
  {
   "cell_type": "code",
   "execution_count": 4,
   "metadata": {},
   "outputs": [
    {
     "data": {
      "text/plain": [
       "[Match(a=0, b=19, size=35),\n",
       " Match(a=35, b=87, size=48),\n",
       " Match(a=83, b=158, size=0)]"
      ]
     },
     "execution_count": 4,
     "metadata": {},
     "output_type": "execute_result"
    }
   ],
   "source": [
    "#SequenceMatcher\n",
    "match_seq = difflib.SequenceMatcher(a=str1,b=str2)\n",
    "\n",
    "#all matches\n",
    "match_seq.get_matching_blocks()"
   ]
  },
  {
   "cell_type": "code",
   "execution_count": 5,
   "metadata": {},
   "outputs": [
    {
     "name": "stdout",
     "output_type": "stream",
     "text": [
      "Match object:Match(a=0, b=19, size=35)\n",
      "Matching sequence list_one: Hey, teacher, leave them kids alone\n",
      "Matching sequence list_two: Hey, teacher, leave them kids alone\n",
      "\n",
      "Match object:Match(a=35, b=87, size=48)\n",
      "Matching sequence list_one:  All in all, it's just another brick in the wall\n",
      "Matching sequence list_two:  All in all, it's just another brick in the wall\n",
      "\n",
      "Match object:Match(a=83, b=158, size=0)\n",
      "Matching sequence list_one: \n",
      "Matching sequence list_two: \n",
      "\n"
     ]
    }
   ],
   "source": [
    "for match in match_seq.get_matching_blocks():\n",
    "    print(f\"Match object:{match}\")\n",
    "    print(f\"Matching sequence list_one: {str1[match.a:match.a+match.size]}\")\n",
    "    print(f\"Matching sequence list_two: {str2[match.b:match.b+match.size]}\")\n",
    "    print()\n"
   ]
  },
  {
   "cell_type": "code",
   "execution_count": 8,
   "metadata": {},
   "outputs": [
    {
     "name": "stdout",
     "output_type": "stream",
     "text": [
      "Match(a=35, b=87, size=48)\n"
     ]
    },
    {
     "data": {
      "text/plain": [
       "\" All in all, it's just another brick in the wall\""
      ]
     },
     "execution_count": 8,
     "metadata": {},
     "output_type": "execute_result"
    }
   ],
   "source": [
    "#longest match\n",
    "match_longest = match_seq.find_longest_match(alo=0,ahi=len(str1),blo=0,bhi=len(str2))\n",
    "print(match_longest)\n",
    "str1[match_longest.a:match_longest.a+match_longest.size]"
   ]
  },
  {
   "cell_type": "code",
   "execution_count": null,
   "metadata": {},
   "outputs": [],
   "source": []
  }
 ],
 "metadata": {
  "kernelspec": {
   "display_name": ".venv",
   "language": "python",
   "name": "python3"
  },
  "language_info": {
   "codemirror_mode": {
    "name": "ipython",
    "version": 3
   },
   "file_extension": ".py",
   "mimetype": "text/x-python",
   "name": "python",
   "nbconvert_exporter": "python",
   "pygments_lexer": "ipython3",
   "version": "3.10.4"
  },
  "orig_nbformat": 4
 },
 "nbformat": 4,
 "nbformat_minor": 2
}
