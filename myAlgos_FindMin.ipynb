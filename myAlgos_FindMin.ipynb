{
 "cells": [
  {
   "cell_type": "code",
   "execution_count": 1,
   "metadata": {},
   "outputs": [],
   "source": [
    "#meta 9/29/2018\n",
    "\n",
    "#random examples for practicing\n",
    "#src: bookGLed1.  Five Algo Approaches, pg.34"
   ]
  },
  {
   "cell_type": "markdown",
   "metadata": {},
   "source": [
    "### Example: Find a min value in a sorted list that's been rotated\n",
    "A sorted array has been rotated.  Find the minimum element."
   ]
  },
  {
   "cell_type": "code",
   "execution_count": 219,
   "metadata": {},
   "outputs": [],
   "source": [
    "#simple list with 3 elements\n",
    "myList = [9,7,8]\n",
    "myList = [8,9,7]\n",
    "myList = [7,8,9] #error\n",
    "\n",
    "#longer lists\n",
    "#myList = [2,3,4,5,1] #works\n",
    "#myList = [5,1,2,3,4] #works\n",
    "#myList = [3,4,5,6,7,8,9,10,11,12,13,1,2] #works\n",
    "#myList = [2,3,4,5,6,7,8,9,10,11,12,13,1] #works\n",
    "myList = [12,13,1,2,3,4,5,6,7,8,9,10,11] #works\n"
   ]
  },
  {
   "cell_type": "markdown",
   "metadata": {},
   "source": [
    "Function: Find min in a sorted list that's been rotated  \n",
    "Input: sorted list that's been rotated  \n",
    "Output: min value  \n",
    "\n",
    "Pseudocode:  \n",
    "1. Take in the list\n",
    "2. Check base cases: n<=2\n",
    "    - If list is only 1 element long, that's the min\n",
    "    - If list is only 2 elements long, if e1 > e2, return smallest; if e1<e2, return -1 error => not a rotated list  \n",
    "\n",
    "\n",
    "3. Perform binary like search\n",
    "    - assign min, mid and max indices\n",
    "    - check if mid > min, then continue into 2nd half\n",
    "    - check if mid < min, then continue into 1st half\n",
    "    - loop until done\n",
    "    - validate that found min is smaller than prev value\n",
    "    \n",
    "4. Handle input errors: when a list passed is not a sorted list that's been rotated.\n"
   ]
  },
  {
   "cell_type": "code",
   "execution_count": 222,
   "metadata": {},
   "outputs": [],
   "source": [
    "def searchRotatedList(l):\n",
    "    \n",
    "    n=len(l)\n",
    "    #base case - list of length 1 \n",
    "    if n==0:\n",
    "        print('no elements in the list')\n",
    "        return -1\n",
    "    elif n==1:\n",
    "        print('only one element in the list, which makes it a min value')\n",
    "        return l[0]\n",
    "    elif n==2:\n",
    "        if l[0]>l[1]:\n",
    "            return l[1]\n",
    "        else:\n",
    "            print(\"error: looks like not a sorted list that's been rotated; check for input requirements\")\n",
    "            print('two elements in the list are sorted in ascending order, which means no rotated sorted list')\n",
    "            return -1 #error, not a rotated list\n",
    "    \n",
    "    min_idx = 0\n",
    "    max_idx = n -1\n",
    "    mid_idx = (min_idx + max_idx)//2\n",
    "    \n",
    "    #compare 1st half, if mid>min, continue to 2nd half\n",
    "    while l[mid_idx] > l[min_idx]:\n",
    "        ##print('continue to 2nd half: mid {} is greater than min {}'.format(l[mid_idx], l[min_idx]))\n",
    "        \n",
    "        #print('mid is not at reset point: {} is less than {}'.format(l[mid_idx], l[mid_idx+1]))\n",
    "        min_idx = mid_idx\n",
    "        mid_idx = (min_idx + max_idx)//2\n",
    "        \n",
    "    while l[mid_idx] < l[min_idx]:\n",
    "        ##print('continue to 1st half: mid {} is less than min {}'.format(l[mid_idx], l[min_idx]))\n",
    "        \n",
    "        #print('mid is not at reset point: {} is less than {}'.format(l[mid_idx], l[mid_idx+1]))\n",
    "        max_idx = mid_idx\n",
    "        mid_idx = (min_idx + max_idx)//2\n",
    "        \n",
    "    #validate\n",
    "    if l[mid_idx+1] < l[mid_idx]:\n",
    "        return l[mid_idx+1]\n",
    "    else:\n",
    "        print(\"error: looks like not a sorted list that's been rotated; check for input requirements\")\n",
    "        print('mid {} is less than next element {}'.format(l[mid_idx], l[mid_idx+1]))\n",
    "        return -1\n"
   ]
  },
  {
   "cell_type": "code",
   "execution_count": 223,
   "metadata": {},
   "outputs": [
    {
     "name": "stdout",
     "output_type": "stream",
     "text": [
      "1\n"
     ]
    }
   ],
   "source": [
    "print(searchRotatedList(myList))"
   ]
  },
  {
   "cell_type": "markdown",
   "metadata": {},
   "source": [
    "### Test cases"
   ]
  },
  {
   "cell_type": "code",
   "execution_count": 234,
   "metadata": {},
   "outputs": [
    {
     "name": "stdout",
     "output_type": "stream",
     "text": [
      "1\n"
     ]
    }
   ],
   "source": [
    "#base cases\n",
    "myList = [] #empty list\n",
    "myList = [7] #one element only, which makes it min value\n",
    "myList = [8,7] #two elements\n",
    "myList = [7,8] #error: two elements in ascending order, which means it's not a sorted list that's been rotated \n",
    "\n",
    "#3 elements\n",
    "myList = [9,7,8]\n",
    "myList = [8,9,7]\n",
    "myList = [7,8,9] #error\n",
    "\n",
    "myList = [3,4,5,6,7,8,9,10,11,12,13,1,2] #works\n",
    "myList = [2,3,4,5,6,7,8,9,10,11,12,13,1] #works\n",
    "myList = [12,13,1,2,3,4,5,6,7,8,9,10,11] #works\n",
    "myList = [2,3,4,5,1] #works\n",
    "myList = [5,1,2,3,4] #works\"\"\"\n",
    "print(searchRotatedList(myList))"
   ]
  },
  {
   "cell_type": "code",
   "execution_count": null,
   "metadata": {},
   "outputs": [],
   "source": []
  }
 ],
 "metadata": {
  "kernelspec": {
   "display_name": "Python 3",
   "language": "python",
   "name": "python3"
  },
  "language_info": {
   "codemirror_mode": {
    "name": "ipython",
    "version": 3
   },
   "file_extension": ".py",
   "mimetype": "text/x-python",
   "name": "python",
   "nbconvert_exporter": "python",
   "pygments_lexer": "ipython3",
   "version": "3.6.5"
  }
 },
 "nbformat": 4,
 "nbformat_minor": 2
}
