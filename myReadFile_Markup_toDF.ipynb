{
 "cells": [
  {
   "cell_type": "code",
   "execution_count": 1,
   "metadata": {},
   "outputs": [],
   "source": [
    "#meta 4/14/2021 How to read a markup file and tranform it into a dataframe\n",
    "#NLP, LSHTC (large scale hierarchical text classification)\n",
    "#src data http://lshtc.iit.demokritos.gr/ LSHTC3\n",
    "#src code based on https://github.com/Arf4t/Lshtc3_fasttext/blob/master/LSHTC3.ipynb\n",
    "\n",
    "#input: sample.txt markup file\n",
    "#output: df.pkl with documents and labels\n",
    "\n",
    "#based on helloPy/myReadFile_Markup.ipynb\n",
    "#4/5/2021 READ MARKUP FILE\n",
    "#      OOP class read markup file\n",
    "\n",
    "#history\n",
    "#4/14/2021 READ MARKUP FILE AND RETURN TIDY DF\n",
    "#      Explore labels\n",
    "#      Prep data - df, one label per df row\n",
    "\n",
    "#4/20/2021 [OPTIONAL] TIDY DF WITH LESS LABELS, REINDEXED\n",
    "#      pandas df.explode lists to rows, ignore index - requires pandas 1.1.0+\n",
    "#      N_LOW_COUNT = 1 (or some small number), 500 here - so full dataset\n",
    "\n",
    "#4/21/2021 DF FINAL - DOCNO, TEXT and MULTI-LABELS\n",
    "#      Encode target - multi-labels per document"
   ]
  },
  {
   "cell_type": "code",
   "execution_count": 2,
   "metadata": {},
   "outputs": [],
   "source": [
    "import time as time #to track performance time\n",
    "import numpy as np\n",
    "import pandas as pd\n",
    "import matplotlib.pyplot as plt\n",
    "plt.rcParams[\"figure.figsize\"] = (10,6)\n",
    "\n",
    "from bs4 import BeautifulSoup\n",
    "from scipy import stats\n",
    "from sklearn.preprocessing import OneHotEncoder\n",
    "\n",
    "from joblib import load, dump"
   ]
  },
  {
   "cell_type": "code",
   "execution_count": 3,
   "metadata": {},
   "outputs": [],
   "source": [
    "#global vars\n",
    "TRAIN_FILE = 'data/LSHTCv3_sample_wikipediaMediumOriginal-train.txt'\n",
    "DOC_LABEL = 13402\n",
    "N_LOW_COUNT = 500\n",
    "N_BINS = 25"
   ]
  },
  {
   "cell_type": "code",
   "execution_count": 4,
   "metadata": {},
   "outputs": [],
   "source": [
    "#define a class to read a markup file and extract its elements\n",
    "class myTextReader:\n",
    "    \"\"\"\n",
    "    docstring for myTextReader\n",
    "    read a markup file and return index, text, and labels\n",
    "    input: specifically formattted file, i.e. LSHTCv3 markup text file\n",
    "    output: lists of docs index, text, and labels\n",
    "    \"\"\"\n",
    "    def __init__(self, file_path):\n",
    "        self.file_path = file_path\n",
    "        self.docno=[]\n",
    "        self.labels=[]                      #parsing the required data about labels and documents\n",
    "        self.data=[]\n",
    "        \n",
    "        soup=BeautifulSoup(open(self.file_path,'r',encoding='utf8'),'html.parser')\n",
    "        \n",
    "        for x in list(soup.find_all('docno')):\n",
    "            self.docno.append(x.get_text())\n",
    "\n",
    "        for x in list(soup.find_all('labels')):\n",
    "            self.labels.append([ int(lab) for lab in x.get_text().split()])\n",
    "            self.data.append(x.next_sibling.strip('\\n'))"
   ]
  },
  {
   "cell_type": "markdown",
   "metadata": {},
   "source": [
    "# LSHTC3\n",
    "\n",
    "## 0.  Load Train Data\n",
    "Read a Markup File - input and multiple labels\n",
    "\n",
    "507 documents -> 1418 exploded documents  \n",
    "1418 transformed labels -> 981 unique labels\n",
    "\n",
    "Final ds shape:  \n",
    "507 docs x 981 unique labels"
   ]
  },
  {
   "cell_type": "code",
   "execution_count": 5,
   "metadata": {},
   "outputs": [
    {
     "name": "stdout",
     "output_type": "stream",
     "text": [
      "Processing time (in minutes):  0.0015819589296976724\n"
     ]
    }
   ],
   "source": [
    "#track time\n",
    "t0 = time.time()\n",
    "\n",
    "#read file\n",
    "train_data = myTextReader(TRAIN_FILE) #class __main__.myTextReader\n",
    "\n",
    "#display a couple of entities\n",
    "train_data.docno[1:3], train_data.labels[1:3], train_data.data[1:3]\n",
    "\n",
    "print(\"Processing time (in minutes): \", (time.time() - t0)/60)"
   ]
  },
  {
   "cell_type": "code",
   "execution_count": 6,
   "metadata": {},
   "outputs": [
    {
     "data": {
      "text/plain": [
       "('507',\n",
       " [358040],\n",
       " 'The Federal Bureau of Investigation\\'s Most Wanted Terrorists is a list of fugitives who have been indicted by sitting Federal grand juries in the United States district courts, for alleged crimes of terrorism. The initial list was formed in late 2001 in the immediate aftermath of the 9/11 attacks and contained the names of 22 terrorists. It was the second major \\\\\"wanted\\\\\" list following the FBI\\'s Ten Most Wanted Fugitives list. It now serves as a companion to that earlier list, which in years past, had listed several major terrorist fugitives.')"
      ]
     },
     "execution_count": 6,
     "metadata": {},
     "output_type": "execute_result"
    }
   ],
   "source": [
    "#explore text - number of documents\n",
    "train_data.docno[-1], train_data.labels[-1], train_data.data[-1]"
   ]
  },
  {
   "cell_type": "markdown",
   "metadata": {},
   "source": [
    "### 0.1 EDA"
   ]
  },
  {
   "cell_type": "markdown",
   "metadata": {},
   "source": [
    "#### Explore Labels\n",
    "Flatten labels - convert a nD list into a 1D list by un-nesting each list item stored in the list of lists\n",
    "\n",
    "> Note: run into a nb limitation.  To change this limit, set the config variable `--NotebookApp.iopub_data_rate_limit`.  \n",
    "jupyter notebook --NotebookApp.iopub_data_rate_limit=1.0e10"
   ]
  },
  {
   "cell_type": "code",
   "execution_count": 7,
   "metadata": {},
   "outputs": [
    {
     "name": "stdout",
     "output_type": "stream",
     "text": [
      "Transformed list preview:  [33692, 13402, 393382, 130762, 352578, 395447, 27512, 157031, 390846, 395447, 276114, 14661, 71999, 292915, 188756, 131368, 106615, 228092, 420589, 228506, 307963, 207086, 119558, 159586, 188582]\n",
      "Transformed list count:  1418\n"
     ]
    }
   ],
   "source": [
    "#flatten labels\n",
    "labels_list = [item for sublist in train_data.labels for item in sublist]\n",
    "print('Transformed list preview: ', labels_list[:25])\n",
    "print('Transformed list count: ', len(labels_list))"
   ]
  },
  {
   "cell_type": "code",
   "execution_count": 8,
   "metadata": {},
   "outputs": [
    {
     "name": "stdout",
     "output_type": "stream",
     "text": [
      "[ 369  677  684 1087 1375 1640 2374 2549 2912 3403] [1 1 3 1 1 1 1 1 1 1]\n",
      "[ 87  36 863 293 775 866  74 343 858 866] [ 33692  13402 393382 130762 352578 395447  27512 157031 390846 395447]\n"
     ]
    },
    {
     "data": {
      "text/plain": [
       "((981,), 444296, 19)"
      ]
     },
     "execution_count": 8,
     "metadata": {},
     "output_type": "execute_result"
    }
   ],
   "source": [
    "#unique labels with counts\n",
    "#src https://numpy.org/doc/stable/reference/generated/numpy.unique.html\n",
    "labels_unique, labels_indices, labels_counts = np.unique(np.array(labels_list), return_inverse=True, return_counts = True)\n",
    "print(labels_unique[:10], labels_counts[:10]) \n",
    "#print(labels_unique[-10:], labels_counts[-10:])\n",
    "print(labels_indices[:10], labels_unique[labels_indices[:10]])\n",
    "\n",
    "labels_unique.shape, labels_unique.max(), labels_counts.max()"
   ]
  },
  {
   "cell_type": "markdown",
   "metadata": {},
   "source": [
    "Confirmed count of labels"
   ]
  },
  {
   "cell_type": "code",
   "execution_count": 9,
   "metadata": {},
   "outputs": [
    {
     "data": {
      "text/plain": [
       "DescribeResult(nobs=981, minmax=(1, 19), mean=1.4454638124362895, variance=1.673808483638104, skewness=5.762150330971793, kurtosis=50.227742461522276)"
      ]
     },
     "execution_count": 9,
     "metadata": {},
     "output_type": "execute_result"
    }
   ],
   "source": [
    "stats.describe(labels_counts)"
   ]
  },
  {
   "cell_type": "code",
   "execution_count": 10,
   "metadata": {},
   "outputs": [
    {
     "data": {
      "text/plain": [
       "(1, 1.4454638124362895, 1.0, 19)"
      ]
     },
     "execution_count": 10,
     "metadata": {},
     "output_type": "execute_result"
    }
   ],
   "source": [
    "labels_counts.min(), labels_counts.mean(), np.median(labels_counts), labels_counts.max()"
   ]
  },
  {
   "cell_type": "markdown",
   "metadata": {},
   "source": [
    "#### Explore Labels Visually"
   ]
  },
  {
   "cell_type": "code",
   "execution_count": 11,
   "metadata": {},
   "outputs": [
    {
     "name": "stdout",
     "output_type": "stream",
     "text": [
      "(array([777, 114,  38,   0,  23,  12,   5,   0,   4,   1,   0,   1,   3,\n",
      "         1,   0,   1,   0,   0,   0,   0,   0,   0,   0,   0,   1],\n",
      "      dtype=int64), array([ 1.  ,  1.72,  2.44,  3.16,  3.88,  4.6 ,  5.32,  6.04,  6.76,\n",
      "        7.48,  8.2 ,  8.92,  9.64, 10.36, 11.08, 11.8 , 12.52, 13.24,\n",
      "       13.96, 14.68, 15.4 , 16.12, 16.84, 17.56, 18.28, 19.  ]))\n"
     ]
    },
    {
     "data": {
      "image/png": "[encoded data removed]",
      "text/plain": [
       "<Figure size 720x432 with 1 Axes>"
      ]
     },
     "metadata": {
      "needs_background": "light"
     },
     "output_type": "display_data"
    }
   ],
   "source": [
    "#visualize labels shape - so many ones\n",
    "print(np.histogram(labels_counts, bins = N_BINS))\n",
    "plt.hist(labels_counts, bins = N_BINS)\n",
    "plt.title(\"Label Counts Histogram\")\n",
    "plt.ylabel(\"Count\")\n",
    "plt.show()"
   ]
  },
  {
   "cell_type": "code",
   "execution_count": 12,
   "metadata": {},
   "outputs": [
    {
     "data": {
      "image/png": "[encoded data removed]",
      "text/plain": [
       "<Figure size 720x432 with 1 Axes>"
      ]
     },
     "metadata": {
      "needs_background": "light"
     },
     "output_type": "display_data"
    }
   ],
   "source": [
    "#visualize labels shape\n",
    "plt.hist(np.log(labels_counts), bins = N_BINS)\n",
    "plt.title(\"Log Label Counts Histogram\")\n",
    "plt.ylabel(\"Count\")\n",
    "plt.show()"
   ]
  },
  {
   "cell_type": "markdown",
   "metadata": {},
   "source": [
    "#### Explore a Specific Label\n",
    "How many labels 13402? Label 13402 indices"
   ]
  },
  {
   "cell_type": "code",
   "execution_count": 13,
   "metadata": {},
   "outputs": [
    {
     "name": "stdout",
     "output_type": "stream",
     "text": [
      "3\n"
     ]
    },
    {
     "data": {
      "text/plain": [
       "array([247], dtype=int64)"
      ]
     },
     "execution_count": 13,
     "metadata": {},
     "output_type": "execute_result"
    }
   ],
   "source": [
    "print(labels_list.count(DOC_LABEL))\n",
    "\n",
    "#first index with label 1?\n",
    "labels_list.index(DOC_LABEL)\n",
    "\n",
    "#all indices with label 1\n",
    "np.where(labels_indices == 0)[0]\n",
    "#labels_list[104236]\n"
   ]
  },
  {
   "cell_type": "markdown",
   "metadata": {},
   "source": [
    "#### Explore Labels with Low Count\n",
    "How many labels with count 1? Count 1 indices, count 1 labels"
   ]
  },
  {
   "cell_type": "code",
   "execution_count": 14,
   "metadata": {},
   "outputs": [
    {
     "name": "stdout",
     "output_type": "stream",
     "text": [
      "777\n"
     ]
    },
    {
     "data": {
      "text/plain": [
       "(array([  0,   1,   3,   4,   5,   6,   7,   8,   9,  10,  11,  12,  14,\n",
       "         15,  16,  17,  18,  20,  21,  22,  23,  25,  26,  27,  28,  30,\n",
       "         31,  34,  35,  37,  39,  40,  41,  42,  43,  44,  46,  47,  48,\n",
       "         49,  51,  52,  53,  54,  55,  56,  57,  58,  60,  61,  62,  63,\n",
       "         64,  65,  66,  67,  69,  70,  72,  73,  75,  76,  78,  79,  80,\n",
       "         81,  83,  84,  85,  86,  88,  89,  90,  91,  93,  94,  95,  96,\n",
       "         97,  98,  99, 100, 102, 103, 105, 106, 107, 108, 109, 110, 111,\n",
       "        112, 113, 114, 115, 116, 117, 119, 121, 122, 123, 125, 126, 128,\n",
       "        129, 130, 131, 132, 133, 135, 136, 137, 138, 139, 140, 141, 143,\n",
       "        145, 146, 147, 148, 149, 150, 151, 152, 154, 155, 158, 160, 161,\n",
       "        162, 163, 164, 165, 166, 167, 169, 170, 171, 172, 174, 175, 177,\n",
       "        178, 180, 181, 182, 183, 184, 185, 188, 190, 191, 192, 193, 195,\n",
       "        196, 197, 198, 200, 201, 202, 204, 205, 206, 208, 209, 211, 212,\n",
       "        213, 214, 216, 217, 218, 220, 221, 222, 224, 225, 226, 228, 229,\n",
       "        231, 232, 233, 234, 235, 236, 237, 238, 240, 243, 244, 250, 252,\n",
       "        253, 254, 257, 258, 259, 262, 263, 264, 265, 266, 268, 269, 271,\n",
       "        272, 273, 274, 275, 276, 278, 279, 280, 281, 283, 284, 285, 286,\n",
       "        287, 288, 289, 290, 291, 292, 294, 295, 296, 297, 298, 299, 301,\n",
       "        303, 304, 305, 306, 307, 308, 312, 313, 314, 315, 316, 318, 319,\n",
       "        321, 322, 323, 324, 325, 326, 327, 329, 330, 331, 332, 334, 335,\n",
       "        336, 338, 339, 340, 341, 344, 345, 346, 348, 349, 350, 351, 352,\n",
       "        353, 354, 355, 356, 357, 359, 360, 362, 364, 365, 366, 370, 371,\n",
       "        373, 374, 375, 376, 378, 379, 380, 382, 385, 387, 388, 390, 392,\n",
       "        393, 394, 395, 396, 397, 398, 399, 400, 401, 402, 403, 404, 405,\n",
       "        406, 407, 408, 409, 410, 411, 412, 413, 414, 415, 417, 418, 419,\n",
       "        420, 422, 423, 424, 425, 426, 427, 428, 429, 431, 433, 434, 436,\n",
       "        437, 438, 439, 440, 441, 442, 443, 444, 445, 446, 449, 450, 451,\n",
       "        453, 455, 458, 460, 461, 462, 463, 464, 466, 467, 468, 469, 470,\n",
       "        471, 472, 473, 474, 475, 476, 477, 478, 479, 481, 483, 484, 486,\n",
       "        487, 488, 490, 491, 492, 494, 495, 496, 497, 498, 499, 500, 501,\n",
       "        502, 503, 505, 506, 508, 509, 510, 511, 512, 513, 515, 516, 517,\n",
       "        518, 519, 520, 521, 522, 523, 524, 525, 526, 527, 528, 529, 531,\n",
       "        533, 535, 536, 537, 538, 540, 541, 542, 543, 544, 545, 546, 547,\n",
       "        548, 549, 550, 551, 553, 554, 555, 556, 558, 559, 560, 561, 562,\n",
       "        564, 565, 566, 567, 568, 570, 572, 573, 574, 575, 577, 579, 580,\n",
       "        582, 584, 585, 586, 587, 588, 589, 590, 591, 592, 593, 595, 596,\n",
       "        597, 598, 599, 600, 601, 602, 603, 604, 605, 608, 609, 611, 614,\n",
       "        615, 618, 621, 622, 623, 624, 626, 628, 629, 630, 631, 632, 634,\n",
       "        635, 636, 637, 638, 639, 640, 641, 642, 643, 644, 645, 646, 647,\n",
       "        648, 650, 651, 652, 653, 655, 656, 657, 659, 660, 661, 662, 663,\n",
       "        664, 665, 666, 667, 668, 669, 671, 672, 673, 677, 680, 681, 683,\n",
       "        685, 686, 688, 691, 692, 693, 694, 695, 696, 697, 698, 699, 700,\n",
       "        701, 702, 703, 705, 706, 707, 708, 709, 710, 711, 712, 713, 715,\n",
       "        716, 717, 718, 720, 721, 722, 723, 724, 725, 726, 728, 729, 730,\n",
       "        731, 732, 733, 735, 737, 738, 739, 740, 742, 743, 745, 746, 747,\n",
       "        748, 749, 750, 751, 752, 753, 754, 755, 756, 757, 758, 759, 761,\n",
       "        763, 765, 766, 767, 768, 769, 770, 771, 772, 773, 774, 776, 777,\n",
       "        778, 780, 782, 783, 785, 786, 787, 789, 790, 791, 792, 793, 794,\n",
       "        795, 796, 797, 800, 802, 803, 805, 806, 807, 808, 809, 810, 811,\n",
       "        813, 814, 816, 818, 819, 820, 821, 822, 823, 824, 825, 826, 827,\n",
       "        829, 830, 831, 832, 833, 834, 835, 836, 837, 838, 839, 840, 842,\n",
       "        843, 844, 845, 848, 849, 851, 852, 854, 855, 856, 857, 859, 860,\n",
       "        861, 863, 864, 865, 867, 868, 869, 870, 871, 872, 873, 875, 876,\n",
       "        878, 881, 882, 883, 884, 885, 886, 887, 888, 890, 891, 892, 893,\n",
       "        894, 895, 896, 897, 898, 899, 900, 901, 903, 904, 905, 906, 907,\n",
       "        908, 909, 910, 911, 912, 913, 915, 918, 919, 920, 921, 922, 924,\n",
       "        925, 926, 927, 928, 929, 930, 931, 932, 933, 934, 935, 936, 937,\n",
       "        938, 939, 940, 941, 943, 944, 945, 946, 947, 949, 950, 951, 952,\n",
       "        953, 954, 955, 956, 957, 958, 959, 960, 961, 962, 963, 964, 965,\n",
       "        966, 967, 969, 971, 972, 974, 976, 978, 979, 980], dtype=int64),\n",
       " array([   369,    677,   1087,   1375,   1640,   2374,   2549,   2912,\n",
       "          3403,   3903,   4284,   4331,   4682,   5516,   6176,   6644,\n",
       "          6702,   8158,   8957,   9187,   9717,  10292,  10309,  10590,\n",
       "         11078,  12031,  12788,  13279,  13299,  14305,  15065,  15187,\n",
       "         15233,  15269,  16046,  16502,  17569,  17936,  18419,  18567,\n",
       "         19083,  19538,  20977,  21705,  21722,  21866,  21882,  22739,\n",
       "         22984,  23207,  23214,  24101,  24576,  24982,  24990,  25724,\n",
       "         26135,  26856,  27079,  27271,  28606,  28614,  29931,  30281,\n",
       "         31055,  31058,  31610,  32644,  32791,  32833,  33840,  34024,\n",
       "         34575,  34803,  35169,  35437,  35592,  36160,  36228,  36333,\n",
       "         36372,  36417,  37462,  37967,  38616,  38678,  38982,  39448,\n",
       "         39495,  40301,  40645,  40662,  40720,  41117,  41417,  41459,\n",
       "         42317,  42688,  43744,  46184,  46781,  46881,  48562,  49695,\n",
       "         49798,  49945,  50340,  50606,  51370,  52611,  53030,  53237,\n",
       "         53954,  54110,  54158,  54358,  55116,  56572,  56936,  57026,\n",
       "         57164,  57375,  57449,  58628,  58693,  59793,  59797,  60146,\n",
       "         61859,  61880,  61960,  62178,  62541,  63369,  63801,  63844,\n",
       "         65446,  65566,  66133,  66562,  68651,  71537,  72420,  72823,\n",
       "         73312,  73502,  74161,  74505,  74674,  74755,  76883,  77351,\n",
       "         77766,  78122,  78128,  79410,  79513,  79778,  80126,  80336,\n",
       "         80567,  81086,  82268,  84757,  84900,  85740,  86040,  86763,\n",
       "         87062,  88179,  88460,  88865,  89366,  90771,  92128,  92206,\n",
       "         92296,  93267,  93282,  95381,  97319,  97769,  99284, 100306,\n",
       "        100929, 100945, 101079, 102088, 102695, 103829, 104176, 105840,\n",
       "        106358, 108921, 109279, 109466, 110143, 111573, 112493, 112885,\n",
       "        114712, 115139, 115646, 116518, 116553, 119558, 119795, 120754,\n",
       "        120760, 121525, 121972, 123151, 123291, 124347, 124623, 124851,\n",
       "        125234, 125316, 126450, 126886, 127241, 127375, 127495, 129194,\n",
       "        130060, 130395, 130482, 130774, 131368, 132580, 134663, 136941,\n",
       "        137043, 137989, 138763, 139301, 140590, 141068, 141074, 141717,\n",
       "        142889, 143758, 144164, 144201, 144442, 144936, 145189, 146181,\n",
       "        148042, 148172, 148400, 148632, 148746, 148857, 150012, 150023,\n",
       "        151697, 153384, 153606, 154493, 154610, 156441, 156467, 156513,\n",
       "        156640, 157050, 157144, 157171, 158091, 158324, 159102, 159586,\n",
       "        160648, 160782, 161238, 161806, 162053, 163148, 163990, 164163,\n",
       "        165132, 166001, 166232, 166440, 169081, 169360, 169806, 170723,\n",
       "        170875, 171080, 173016, 173026, 173667, 174618, 175769, 178635,\n",
       "        178657, 181157, 181682, 182384, 182706, 182898, 183060, 183551,\n",
       "        183835, 184101, 184244, 185116, 185279, 185801, 186102, 186779,\n",
       "        186866, 186939, 187744, 188077, 188104, 188582, 188756, 189243,\n",
       "        190023, 190388, 191088, 191434, 192062, 192314, 193046, 193098,\n",
       "        193669, 193682, 195307, 195321, 195696, 196054, 196762, 198732,\n",
       "        199981, 200959, 201178, 201539, 201786, 202433, 202786, 202886,\n",
       "        202888, 203673, 203715, 203967, 204822, 205064, 205356, 205709,\n",
       "        206241, 207089, 207289, 207384, 207531, 207737, 208119, 208847,\n",
       "        209294, 209345, 209802, 210668, 211466, 213070, 214578, 214935,\n",
       "        215366, 216341, 216803, 217337, 217978, 218219, 218993, 219126,\n",
       "        219618, 219751, 219990, 220749, 220936, 221363, 222178, 222501,\n",
       "        222742, 222834, 224524, 225183, 226635, 226816, 227637, 227699,\n",
       "        228506, 228943, 229070, 229215, 229403, 230165, 230880, 231157,\n",
       "        231531, 232129, 232628, 232737, 233490, 233648, 233708, 234635,\n",
       "        234746, 235133, 235373, 235700, 237433, 238168, 238191, 238514,\n",
       "        239347, 241090, 241177, 241357, 241380, 242390, 242704, 244201,\n",
       "        244703, 245285, 245609, 246203, 246312, 246999, 247084, 247454,\n",
       "        248517, 249717, 249729, 249733, 249932, 251816, 252842, 253808,\n",
       "        256204, 256523, 256847, 256885, 257309, 257425, 258048, 258419,\n",
       "        259377, 259511, 259783, 260119, 261517, 262284, 262805, 264271,\n",
       "        264844, 265243, 265728, 265904, 266250, 267496, 267694, 268457,\n",
       "        269248, 269307, 269989, 270125, 270221, 270952, 271517, 272387,\n",
       "        272741, 272861, 273301, 274270, 274859, 276266, 276442, 276624,\n",
       "        281997, 282881, 283887, 285202, 285221, 285303, 285331, 285920,\n",
       "        286773, 287951, 288112, 288402, 288569, 289326, 290005, 290648,\n",
       "        290911, 290975, 291599, 292546, 292915, 292948, 293514, 294093,\n",
       "        294932, 295868, 296023, 296783, 297290, 297461, 297564, 298278,\n",
       "        299192, 299459, 299761, 300559, 301027, 301237, 301385, 301738,\n",
       "        302125, 302422, 302937, 303303, 303372, 303393, 304528, 304562,\n",
       "        304660, 305494, 306340, 307027, 307963, 308011, 308269, 308335,\n",
       "        309299, 309426, 309439, 310019, 311365, 311749, 312941, 313185,\n",
       "        313333, 313985, 315176, 315384, 315576, 316819, 316934, 317016,\n",
       "        317219, 317513, 318457, 318898, 318950, 320084, 321941, 322611,\n",
       "        322798, 322978, 323890, 324183, 324441, 325145, 326627, 329680,\n",
       "        329692, 331595, 331654, 331726, 331827, 332455, 332976, 333586,\n",
       "        335724, 336064, 336241, 336505, 336771, 337359, 339100, 339353,\n",
       "        340177, 340327, 340453, 340620, 341364, 341955, 343363, 343805,\n",
       "        343950, 344621, 345920, 345947, 346758, 347147, 347383, 348722,\n",
       "        349442, 349654, 350249, 350471, 351333, 351700, 352209, 352482,\n",
       "        352490, 353218, 353943, 354137, 355026, 355879, 357221, 357636,\n",
       "        357768, 358040, 360615, 360932, 360998, 361909, 364084, 365138,\n",
       "        365498, 365590, 366273, 367161, 367485, 367812, 368464, 369692,\n",
       "        370222, 370223, 370853, 370955, 371400, 371626, 371700, 372259,\n",
       "        373019, 373246, 373510, 374691, 374802, 374846, 374888, 375365,\n",
       "        377124, 377299, 377812, 377978, 378629, 378771, 379241, 379600,\n",
       "        381341, 381858, 383310, 383535, 383817, 384164, 384469, 384492,\n",
       "        384593, 384719, 385751, 385953, 387071, 387254, 387725, 388075,\n",
       "        388531, 389905, 390872, 392501, 392686, 393382, 394138, 394269,\n",
       "        395860, 396565, 396769, 398030, 398425, 400380, 400501, 401536,\n",
       "        403449, 404058, 405334, 406628, 406777, 407379, 408341, 409509,\n",
       "        409897, 409919, 410360, 410736, 410839, 411305, 411319, 411722,\n",
       "        411751, 412291, 412479, 412519, 412530, 413190, 415412, 415675,\n",
       "        415742, 415883, 415978, 416001, 416543, 417958, 418319, 418625,\n",
       "        419238, 420589, 421274, 421389, 421837, 422133, 423281, 423449,\n",
       "        423810, 423854, 424137, 424932, 425037, 425371, 425737, 426137,\n",
       "        426280, 426311, 426530, 426685, 426918, 427959, 428448, 428692,\n",
       "        428823, 429480, 429537, 429602, 429649, 430137, 431817, 432535,\n",
       "        432879, 433103, 433392, 433599, 433901, 434866, 435706, 435787,\n",
       "        435997, 436298, 437070, 437120, 437441, 437532, 437923, 438478,\n",
       "        438691, 440774, 441100, 441670, 443038, 443549, 444058, 444110,\n",
       "        444296]))"
      ]
     },
     "execution_count": 14,
     "metadata": {},
     "output_type": "execute_result"
    }
   ],
   "source": [
    "print(labels_counts.tolist().count(1))\n",
    "#all indices with label count=1, all labels with count=1\n",
    "np.where(labels_counts == 1)[0], labels_unique[np.where(labels_counts == 1)[0]]"
   ]
  },
  {
   "cell_type": "markdown",
   "metadata": {},
   "source": [
    "Consider rolling up one level\n",
    "\n",
    "#### Explore Most frequent Labels (with Highest Count)"
   ]
  },
  {
   "cell_type": "code",
   "execution_count": 15,
   "metadata": {},
   "outputs": [
    {
     "name": "stdout",
     "output_type": "stream",
     "text": [
      "[7, 7, 8, 9, 10, 10, 10, 11, 12, 19]\n"
     ]
    },
    {
     "data": {
      "text/plain": [
       "(array([], dtype=int64), array([], dtype=int32))"
      ]
     },
     "execution_count": 15,
     "metadata": {},
     "output_type": "execute_result"
    }
   ],
   "source": [
    "#most frequent labels counts\n",
    "print((sorted(labels_counts))[-10:])\n",
    "\n",
    "#which label most frequent?\n",
    "idx_label_most_frequent, = np.where(labels_counts == 11400) #tuple\n",
    "label_most_frequent = labels_unique[idx_label_most_frequent]\n",
    "idx_label_most_frequent, label_most_frequent"
   ]
  },
  {
   "cell_type": "markdown",
   "metadata": {},
   "source": [
    "## 1. Prep Data "
   ]
  },
  {
   "cell_type": "code",
   "execution_count": 16,
   "metadata": {
    "scrolled": true
   },
   "outputs": [
    {
     "name": "stdout",
     "output_type": "stream",
     "text": [
      "(507, 3)\n",
      "docno     object\n",
      "labels    object\n",
      "text      object\n",
      "dtype: object\n"
     ]
    },
    {
     "data": {
      "text/html": [
       "<div>\n",
       "<style scoped>\n",
       "    .dataframe tbody tr th:only-of-type {\n",
       "        vertical-align: middle;\n",
       "    }\n",
       "\n",
       "    .dataframe tbody tr th {\n",
       "        vertical-align: top;\n",
       "    }\n",
       "\n",
       "    .dataframe thead th {\n",
       "        text-align: right;\n",
       "    }\n",
       "</style>\n",
       "<table border=\"1\" class=\"dataframe\">\n",
       "  <thead>\n",
       "    <tr style=\"text-align: right;\">\n",
       "      <th></th>\n",
       "      <th>docno</th>\n",
       "      <th>labels</th>\n",
       "      <th>text</th>\n",
       "    </tr>\n",
       "  </thead>\n",
       "  <tbody>\n",
       "    <tr>\n",
       "      <th>0</th>\n",
       "      <td>1</td>\n",
       "      <td>[33692, 13402, 393382]</td>\n",
       "      <td>Alabama /\\u02CC\\u00E6l\\u0259\\u02C8b\\u00E6m\\u02...</td>\n",
       "    </tr>\n",
       "    <tr>\n",
       "      <th>1</th>\n",
       "      <td>2</td>\n",
       "      <td>[130762]</td>\n",
       "      <td>Alain Connes (born 1 April 1947) is a French m...</td>\n",
       "    </tr>\n",
       "    <tr>\n",
       "      <th>2</th>\n",
       "      <td>3</td>\n",
       "      <td>[352578, 395447, 27512, 157031]</td>\n",
       "      <td>Ayn Rand (born Alisa Zinov'yevna Rosenbaum; Fe...</td>\n",
       "    </tr>\n",
       "    <tr>\n",
       "      <th>3</th>\n",
       "      <td>4</td>\n",
       "      <td>[390846, 395447, 276114]</td>\n",
       "      <td>Allan Dwan (April 3, 1885 – December 28, 1981)...</td>\n",
       "    </tr>\n",
       "    <tr>\n",
       "      <th>4</th>\n",
       "      <td>5</td>\n",
       "      <td>[14661, 71999, 292915, 188756, 131368]</td>\n",
       "      <td>Andre Kirk Agassi (born April 29, 1970) is an ...</td>\n",
       "    </tr>\n",
       "  </tbody>\n",
       "</table>\n",
       "</div>"
      ],
      "text/plain": [
       "  docno                                  labels  \\\n",
       "0     1                  [33692, 13402, 393382]   \n",
       "1     2                                [130762]   \n",
       "2     3         [352578, 395447, 27512, 157031]   \n",
       "3     4                [390846, 395447, 276114]   \n",
       "4     5  [14661, 71999, 292915, 188756, 131368]   \n",
       "\n",
       "                                                text  \n",
       "0  Alabama /\\u02CC\\u00E6l\\u0259\\u02C8b\\u00E6m\\u02...  \n",
       "1  Alain Connes (born 1 April 1947) is a French m...  \n",
       "2  Ayn Rand (born Alisa Zinov'yevna Rosenbaum; Fe...  \n",
       "3  Allan Dwan (April 3, 1885 – December 28, 1981)...  \n",
       "4  Andre Kirk Agassi (born April 29, 1970) is an ...  "
      ]
     },
     "execution_count": 16,
     "metadata": {},
     "output_type": "execute_result"
    }
   ],
   "source": [
    "#make a dataframe with 'docno', 'labels', and 'text'\n",
    "df = pd.DataFrame([train_data.docno, train_data.labels, train_data.data]).T\n",
    "df.columns = ['docno', 'labels', 'text']\n",
    "#df.set_index('docno', inplace=True)\n",
    "print(df.shape)\n",
    "print(df.dtypes)\n",
    "df.head()"
   ]
  },
  {
   "cell_type": "code",
   "execution_count": 17,
   "metadata": {},
   "outputs": [
    {
     "name": "stdout",
     "output_type": "stream",
     "text": [
      "<class 'pandas.core.frame.DataFrame'>\n",
      "RangeIndex: 507 entries, 0 to 506\n",
      "Data columns (total 3 columns):\n",
      " #   Column  Non-Null Count  Dtype \n",
      "---  ------  --------------  ----- \n",
      " 0   docno   507 non-null    object\n",
      " 1   labels  507 non-null    object\n",
      " 2   text    507 non-null    object\n",
      "dtypes: object(3)\n",
      "memory usage: 12.0+ KB\n"
     ]
    }
   ],
   "source": [
    "df.info()"
   ]
  },
  {
   "cell_type": "markdown",
   "metadata": {},
   "source": [
    "### 1.1 Explode list - one label per df row\n",
    "Exploded lists to rows of the subset columns; index will be duplicated for these rows  \n",
    "https://pandas.pydata.org/pandas-docs/stable/reference/api/pandas.DataFrame.explode.html"
   ]
  },
  {
   "cell_type": "code",
   "execution_count": 18,
   "metadata": {},
   "outputs": [
    {
     "name": "stdout",
     "output_type": "stream",
     "text": [
      "(1418, 3)\n"
     ]
    },
    {
     "data": {
      "text/html": [
       "<div>\n",
       "<style scoped>\n",
       "    .dataframe tbody tr th:only-of-type {\n",
       "        vertical-align: middle;\n",
       "    }\n",
       "\n",
       "    .dataframe tbody tr th {\n",
       "        vertical-align: top;\n",
       "    }\n",
       "\n",
       "    .dataframe thead th {\n",
       "        text-align: right;\n",
       "    }\n",
       "</style>\n",
       "<table border=\"1\" class=\"dataframe\">\n",
       "  <thead>\n",
       "    <tr style=\"text-align: right;\">\n",
       "      <th></th>\n",
       "      <th>docno</th>\n",
       "      <th>labels</th>\n",
       "      <th>text</th>\n",
       "    </tr>\n",
       "  </thead>\n",
       "  <tbody>\n",
       "    <tr>\n",
       "      <th>0</th>\n",
       "      <td>1</td>\n",
       "      <td>33692</td>\n",
       "      <td>Alabama /\\u02CC\\u00E6l\\u0259\\u02C8b\\u00E6m\\u02...</td>\n",
       "    </tr>\n",
       "    <tr>\n",
       "      <th>1</th>\n",
       "      <td>1</td>\n",
       "      <td>13402</td>\n",
       "      <td>Alabama /\\u02CC\\u00E6l\\u0259\\u02C8b\\u00E6m\\u02...</td>\n",
       "    </tr>\n",
       "    <tr>\n",
       "      <th>2</th>\n",
       "      <td>1</td>\n",
       "      <td>393382</td>\n",
       "      <td>Alabama /\\u02CC\\u00E6l\\u0259\\u02C8b\\u00E6m\\u02...</td>\n",
       "    </tr>\n",
       "    <tr>\n",
       "      <th>3</th>\n",
       "      <td>2</td>\n",
       "      <td>130762</td>\n",
       "      <td>Alain Connes (born 1 April 1947) is a French m...</td>\n",
       "    </tr>\n",
       "    <tr>\n",
       "      <th>4</th>\n",
       "      <td>3</td>\n",
       "      <td>352578</td>\n",
       "      <td>Ayn Rand (born Alisa Zinov'yevna Rosenbaum; Fe...</td>\n",
       "    </tr>\n",
       "    <tr>\n",
       "      <th>5</th>\n",
       "      <td>3</td>\n",
       "      <td>395447</td>\n",
       "      <td>Ayn Rand (born Alisa Zinov'yevna Rosenbaum; Fe...</td>\n",
       "    </tr>\n",
       "    <tr>\n",
       "      <th>6</th>\n",
       "      <td>3</td>\n",
       "      <td>27512</td>\n",
       "      <td>Ayn Rand (born Alisa Zinov'yevna Rosenbaum; Fe...</td>\n",
       "    </tr>\n",
       "    <tr>\n",
       "      <th>7</th>\n",
       "      <td>3</td>\n",
       "      <td>157031</td>\n",
       "      <td>Ayn Rand (born Alisa Zinov'yevna Rosenbaum; Fe...</td>\n",
       "    </tr>\n",
       "    <tr>\n",
       "      <th>8</th>\n",
       "      <td>4</td>\n",
       "      <td>390846</td>\n",
       "      <td>Allan Dwan (April 3, 1885 – December 28, 1981)...</td>\n",
       "    </tr>\n",
       "    <tr>\n",
       "      <th>9</th>\n",
       "      <td>4</td>\n",
       "      <td>395447</td>\n",
       "      <td>Allan Dwan (April 3, 1885 – December 28, 1981)...</td>\n",
       "    </tr>\n",
       "  </tbody>\n",
       "</table>\n",
       "</div>"
      ],
      "text/plain": [
       "  docno  labels                                               text\n",
       "0     1   33692  Alabama /\\u02CC\\u00E6l\\u0259\\u02C8b\\u00E6m\\u02...\n",
       "1     1   13402  Alabama /\\u02CC\\u00E6l\\u0259\\u02C8b\\u00E6m\\u02...\n",
       "2     1  393382  Alabama /\\u02CC\\u00E6l\\u0259\\u02C8b\\u00E6m\\u02...\n",
       "3     2  130762  Alain Connes (born 1 April 1947) is a French m...\n",
       "4     3  352578  Ayn Rand (born Alisa Zinov'yevna Rosenbaum; Fe...\n",
       "5     3  395447  Ayn Rand (born Alisa Zinov'yevna Rosenbaum; Fe...\n",
       "6     3   27512  Ayn Rand (born Alisa Zinov'yevna Rosenbaum; Fe...\n",
       "7     3  157031  Ayn Rand (born Alisa Zinov'yevna Rosenbaum; Fe...\n",
       "8     4  390846  Allan Dwan (April 3, 1885 – December 28, 1981)...\n",
       "9     4  395447  Allan Dwan (April 3, 1885 – December 28, 1981)..."
      ]
     },
     "execution_count": 18,
     "metadata": {},
     "output_type": "execute_result"
    }
   ],
   "source": [
    "#explode lists to rows, keep index\n",
    "#df_tidy = df.explode('labels')\n",
    "\n",
    "#explode lists to rows, ignore index - requires pandas 1.1.0+\n",
    "df_tidy = df.explode('labels', ignore_index=True)\n",
    "print(df_tidy.shape)\n",
    "df_tidy.head(10)"
   ]
  },
  {
   "cell_type": "markdown",
   "metadata": {},
   "source": [
    "#### Remove low count labels"
   ]
  },
  {
   "cell_type": "code",
   "execution_count": 19,
   "metadata": {},
   "outputs": [
    {
     "name": "stdout",
     "output_type": "stream",
     "text": [
      "777\n"
     ]
    },
    {
     "data": {
      "text/plain": [
       "(array([], dtype=int64), array([], dtype=int32))"
      ]
     },
     "execution_count": 19,
     "metadata": {},
     "output_type": "execute_result"
    }
   ],
   "source": [
    "#repeat from above\n",
    "print(labels_counts.tolist().count(1))\n",
    "#all indices with label count=1, all labels with count=1\n",
    "np.where(labels_counts == N_LOW_COUNT)[0], labels_unique[np.where(labels_counts == N_LOW_COUNT)[0]]"
   ]
  },
  {
   "cell_type": "code",
   "execution_count": 20,
   "metadata": {},
   "outputs": [
    {
     "data": {
      "text/plain": [
       "(1, 1)"
      ]
     },
     "execution_count": 20,
     "metadata": {},
     "output_type": "execute_result"
    }
   ],
   "source": [
    "#ie. in full train ds - know that labels 19, 445729 only happened once, in sample it's label 369, 444296\n",
    "labels_list.count(369), labels_list.count(444296)"
   ]
  },
  {
   "cell_type": "code",
   "execution_count": 21,
   "metadata": {},
   "outputs": [
    {
     "data": {
      "text/plain": [
       "array([], dtype=int32)"
      ]
     },
     "execution_count": 21,
     "metadata": {},
     "output_type": "execute_result"
    }
   ],
   "source": [
    "labels_low_count = labels_unique[np.where(labels_counts == N_LOW_COUNT)[0]]\n",
    "labels_low_count"
   ]
  },
  {
   "cell_type": "code",
   "execution_count": 22,
   "metadata": {},
   "outputs": [
    {
     "name": "stdout",
     "output_type": "stream",
     "text": [
      "(1418, 3)\n"
     ]
    },
    {
     "data": {
      "text/html": [
       "<div>\n",
       "<style scoped>\n",
       "    .dataframe tbody tr th:only-of-type {\n",
       "        vertical-align: middle;\n",
       "    }\n",
       "\n",
       "    .dataframe tbody tr th {\n",
       "        vertical-align: top;\n",
       "    }\n",
       "\n",
       "    .dataframe thead th {\n",
       "        text-align: right;\n",
       "    }\n",
       "</style>\n",
       "<table border=\"1\" class=\"dataframe\">\n",
       "  <thead>\n",
       "    <tr style=\"text-align: right;\">\n",
       "      <th></th>\n",
       "      <th>docno</th>\n",
       "      <th>labels</th>\n",
       "      <th>text</th>\n",
       "    </tr>\n",
       "  </thead>\n",
       "  <tbody>\n",
       "    <tr>\n",
       "      <th>0</th>\n",
       "      <td>1</td>\n",
       "      <td>33692</td>\n",
       "      <td>Alabama /\\u02CC\\u00E6l\\u0259\\u02C8b\\u00E6m\\u02...</td>\n",
       "    </tr>\n",
       "    <tr>\n",
       "      <th>1</th>\n",
       "      <td>1</td>\n",
       "      <td>13402</td>\n",
       "      <td>Alabama /\\u02CC\\u00E6l\\u0259\\u02C8b\\u00E6m\\u02...</td>\n",
       "    </tr>\n",
       "    <tr>\n",
       "      <th>2</th>\n",
       "      <td>1</td>\n",
       "      <td>393382</td>\n",
       "      <td>Alabama /\\u02CC\\u00E6l\\u0259\\u02C8b\\u00E6m\\u02...</td>\n",
       "    </tr>\n",
       "    <tr>\n",
       "      <th>3</th>\n",
       "      <td>2</td>\n",
       "      <td>130762</td>\n",
       "      <td>Alain Connes (born 1 April 1947) is a French m...</td>\n",
       "    </tr>\n",
       "    <tr>\n",
       "      <th>4</th>\n",
       "      <td>3</td>\n",
       "      <td>352578</td>\n",
       "      <td>Ayn Rand (born Alisa Zinov'yevna Rosenbaum; Fe...</td>\n",
       "    </tr>\n",
       "    <tr>\n",
       "      <th>5</th>\n",
       "      <td>3</td>\n",
       "      <td>395447</td>\n",
       "      <td>Ayn Rand (born Alisa Zinov'yevna Rosenbaum; Fe...</td>\n",
       "    </tr>\n",
       "    <tr>\n",
       "      <th>6</th>\n",
       "      <td>3</td>\n",
       "      <td>27512</td>\n",
       "      <td>Ayn Rand (born Alisa Zinov'yevna Rosenbaum; Fe...</td>\n",
       "    </tr>\n",
       "    <tr>\n",
       "      <th>7</th>\n",
       "      <td>3</td>\n",
       "      <td>157031</td>\n",
       "      <td>Ayn Rand (born Alisa Zinov'yevna Rosenbaum; Fe...</td>\n",
       "    </tr>\n",
       "    <tr>\n",
       "      <th>8</th>\n",
       "      <td>4</td>\n",
       "      <td>390846</td>\n",
       "      <td>Allan Dwan (April 3, 1885 – December 28, 1981)...</td>\n",
       "    </tr>\n",
       "    <tr>\n",
       "      <th>9</th>\n",
       "      <td>4</td>\n",
       "      <td>395447</td>\n",
       "      <td>Allan Dwan (April 3, 1885 – December 28, 1981)...</td>\n",
       "    </tr>\n",
       "  </tbody>\n",
       "</table>\n",
       "</div>"
      ],
      "text/plain": [
       "  docno  labels                                               text\n",
       "0     1   33692  Alabama /\\u02CC\\u00E6l\\u0259\\u02C8b\\u00E6m\\u02...\n",
       "1     1   13402  Alabama /\\u02CC\\u00E6l\\u0259\\u02C8b\\u00E6m\\u02...\n",
       "2     1  393382  Alabama /\\u02CC\\u00E6l\\u0259\\u02C8b\\u00E6m\\u02...\n",
       "3     2  130762  Alain Connes (born 1 April 1947) is a French m...\n",
       "4     3  352578  Ayn Rand (born Alisa Zinov'yevna Rosenbaum; Fe...\n",
       "5     3  395447  Ayn Rand (born Alisa Zinov'yevna Rosenbaum; Fe...\n",
       "6     3   27512  Ayn Rand (born Alisa Zinov'yevna Rosenbaum; Fe...\n",
       "7     3  157031  Ayn Rand (born Alisa Zinov'yevna Rosenbaum; Fe...\n",
       "8     4  390846  Allan Dwan (April 3, 1885 – December 28, 1981)...\n",
       "9     4  395447  Allan Dwan (April 3, 1885 – December 28, 1981)..."
      ]
     },
     "execution_count": 22,
     "metadata": {},
     "output_type": "execute_result"
    }
   ],
   "source": [
    "#confirm (manually) counts match before and after  \n",
    "df_tidy = df_tidy[~df_tidy['labels'].isin(labels_low_count)]\n",
    "print(df_tidy.shape)\n",
    "df_tidy.head(10)"
   ]
  },
  {
   "cell_type": "code",
   "execution_count": 23,
   "metadata": {},
   "outputs": [
    {
     "data": {
      "text/plain": [
       "1"
      ]
     },
     "execution_count": 23,
     "metadata": {},
     "output_type": "execute_result"
    }
   ],
   "source": [
    "#confirm that removed label 393382 had only 1 count\n",
    "labels_list.count(393382)"
   ]
  },
  {
   "cell_type": "code",
   "execution_count": 24,
   "metadata": {},
   "outputs": [
    {
     "data": {
      "text/plain": [
       "['output/LSHTCv3_sample_df.pkl']"
      ]
     },
     "execution_count": 24,
     "metadata": {},
     "output_type": "execute_result"
    }
   ],
   "source": [
    "#save df\n",
    "dump(df_tidy, 'output/LSHTCv3_sample_df.pkl')"
   ]
  },
  {
   "cell_type": "markdown",
   "metadata": {},
   "source": [
    "### 1.2 Encode target - multi-labels per document\n",
    "\n",
    "Given a dataset with two features, we let the encoder find the unique values per feature and transform the data to a binary one-hot encoding.  \n",
    "https://stackabuse.com/one-hot-encoding-in-python-with-pandas-and-scikit-learn/"
   ]
  },
  {
   "cell_type": "code",
   "execution_count": 25,
   "metadata": {},
   "outputs": [
    {
     "name": "stdout",
     "output_type": "stream",
     "text": [
      "(1418, 981)\n"
     ]
    },
    {
     "data": {
      "text/html": [
       "<div>\n",
       "<style scoped>\n",
       "    .dataframe tbody tr th:only-of-type {\n",
       "        vertical-align: middle;\n",
       "    }\n",
       "\n",
       "    .dataframe tbody tr th {\n",
       "        vertical-align: top;\n",
       "    }\n",
       "\n",
       "    .dataframe thead th {\n",
       "        text-align: right;\n",
       "    }\n",
       "</style>\n",
       "<table border=\"1\" class=\"dataframe\">\n",
       "  <thead>\n",
       "    <tr style=\"text-align: right;\">\n",
       "      <th></th>\n",
       "      <th>label_369</th>\n",
       "      <th>label_677</th>\n",
       "      <th>label_684</th>\n",
       "      <th>label_1087</th>\n",
       "      <th>label_1375</th>\n",
       "      <th>label_1640</th>\n",
       "      <th>label_2374</th>\n",
       "      <th>label_2549</th>\n",
       "      <th>label_2912</th>\n",
       "      <th>label_3403</th>\n",
       "      <th>...</th>\n",
       "      <th>label_441100</th>\n",
       "      <th>label_441670</th>\n",
       "      <th>label_442888</th>\n",
       "      <th>label_443038</th>\n",
       "      <th>label_443106</th>\n",
       "      <th>label_443549</th>\n",
       "      <th>label_443820</th>\n",
       "      <th>label_444058</th>\n",
       "      <th>label_444110</th>\n",
       "      <th>label_444296</th>\n",
       "    </tr>\n",
       "  </thead>\n",
       "  <tbody>\n",
       "    <tr>\n",
       "      <th>0</th>\n",
       "      <td>0</td>\n",
       "      <td>0</td>\n",
       "      <td>0</td>\n",
       "      <td>0</td>\n",
       "      <td>0</td>\n",
       "      <td>0</td>\n",
       "      <td>0</td>\n",
       "      <td>0</td>\n",
       "      <td>0</td>\n",
       "      <td>0</td>\n",
       "      <td>...</td>\n",
       "      <td>0</td>\n",
       "      <td>0</td>\n",
       "      <td>0</td>\n",
       "      <td>0</td>\n",
       "      <td>0</td>\n",
       "      <td>0</td>\n",
       "      <td>0</td>\n",
       "      <td>0</td>\n",
       "      <td>0</td>\n",
       "      <td>0</td>\n",
       "    </tr>\n",
       "    <tr>\n",
       "      <th>1</th>\n",
       "      <td>0</td>\n",
       "      <td>0</td>\n",
       "      <td>0</td>\n",
       "      <td>0</td>\n",
       "      <td>0</td>\n",
       "      <td>0</td>\n",
       "      <td>0</td>\n",
       "      <td>0</td>\n",
       "      <td>0</td>\n",
       "      <td>0</td>\n",
       "      <td>...</td>\n",
       "      <td>0</td>\n",
       "      <td>0</td>\n",
       "      <td>0</td>\n",
       "      <td>0</td>\n",
       "      <td>0</td>\n",
       "      <td>0</td>\n",
       "      <td>0</td>\n",
       "      <td>0</td>\n",
       "      <td>0</td>\n",
       "      <td>0</td>\n",
       "    </tr>\n",
       "    <tr>\n",
       "      <th>2</th>\n",
       "      <td>0</td>\n",
       "      <td>0</td>\n",
       "      <td>0</td>\n",
       "      <td>0</td>\n",
       "      <td>0</td>\n",
       "      <td>0</td>\n",
       "      <td>0</td>\n",
       "      <td>0</td>\n",
       "      <td>0</td>\n",
       "      <td>0</td>\n",
       "      <td>...</td>\n",
       "      <td>0</td>\n",
       "      <td>0</td>\n",
       "      <td>0</td>\n",
       "      <td>0</td>\n",
       "      <td>0</td>\n",
       "      <td>0</td>\n",
       "      <td>0</td>\n",
       "      <td>0</td>\n",
       "      <td>0</td>\n",
       "      <td>0</td>\n",
       "    </tr>\n",
       "    <tr>\n",
       "      <th>3</th>\n",
       "      <td>0</td>\n",
       "      <td>0</td>\n",
       "      <td>0</td>\n",
       "      <td>0</td>\n",
       "      <td>0</td>\n",
       "      <td>0</td>\n",
       "      <td>0</td>\n",
       "      <td>0</td>\n",
       "      <td>0</td>\n",
       "      <td>0</td>\n",
       "      <td>...</td>\n",
       "      <td>0</td>\n",
       "      <td>0</td>\n",
       "      <td>0</td>\n",
       "      <td>0</td>\n",
       "      <td>0</td>\n",
       "      <td>0</td>\n",
       "      <td>0</td>\n",
       "      <td>0</td>\n",
       "      <td>0</td>\n",
       "      <td>0</td>\n",
       "    </tr>\n",
       "    <tr>\n",
       "      <th>4</th>\n",
       "      <td>0</td>\n",
       "      <td>0</td>\n",
       "      <td>0</td>\n",
       "      <td>0</td>\n",
       "      <td>0</td>\n",
       "      <td>0</td>\n",
       "      <td>0</td>\n",
       "      <td>0</td>\n",
       "      <td>0</td>\n",
       "      <td>0</td>\n",
       "      <td>...</td>\n",
       "      <td>0</td>\n",
       "      <td>0</td>\n",
       "      <td>0</td>\n",
       "      <td>0</td>\n",
       "      <td>0</td>\n",
       "      <td>0</td>\n",
       "      <td>0</td>\n",
       "      <td>0</td>\n",
       "      <td>0</td>\n",
       "      <td>0</td>\n",
       "    </tr>\n",
       "  </tbody>\n",
       "</table>\n",
       "<p>5 rows × 981 columns</p>\n",
       "</div>"
      ],
      "text/plain": [
       "   label_369  label_677  label_684  label_1087  label_1375  label_1640  \\\n",
       "0          0          0          0           0           0           0   \n",
       "1          0          0          0           0           0           0   \n",
       "2          0          0          0           0           0           0   \n",
       "3          0          0          0           0           0           0   \n",
       "4          0          0          0           0           0           0   \n",
       "\n",
       "   label_2374  label_2549  label_2912  label_3403  ...  label_441100  \\\n",
       "0           0           0           0           0  ...             0   \n",
       "1           0           0           0           0  ...             0   \n",
       "2           0           0           0           0  ...             0   \n",
       "3           0           0           0           0  ...             0   \n",
       "4           0           0           0           0  ...             0   \n",
       "\n",
       "   label_441670  label_442888  label_443038  label_443106  label_443549  \\\n",
       "0             0             0             0             0             0   \n",
       "1             0             0             0             0             0   \n",
       "2             0             0             0             0             0   \n",
       "3             0             0             0             0             0   \n",
       "4             0             0             0             0             0   \n",
       "\n",
       "   label_443820  label_444058  label_444110  label_444296  \n",
       "0             0             0             0             0  \n",
       "1             0             0             0             0  \n",
       "2             0             0             0             0  \n",
       "3             0             0             0             0  \n",
       "4             0             0             0             0  \n",
       "\n",
       "[5 rows x 981 columns]"
      ]
     },
     "execution_count": 25,
     "metadata": {},
     "output_type": "execute_result"
    }
   ],
   "source": [
    "ohe = pd.get_dummies(df_tidy['labels'], prefix='label')\n",
    "print(ohe.shape)\n",
    "ohe.head()"
   ]
  },
  {
   "cell_type": "code",
   "execution_count": 26,
   "metadata": {},
   "outputs": [
    {
     "name": "stdout",
     "output_type": "stream",
     "text": [
      "(1418, 984)\n"
     ]
    },
    {
     "data": {
      "text/html": [
       "<div>\n",
       "<style scoped>\n",
       "    .dataframe tbody tr th:only-of-type {\n",
       "        vertical-align: middle;\n",
       "    }\n",
       "\n",
       "    .dataframe tbody tr th {\n",
       "        vertical-align: top;\n",
       "    }\n",
       "\n",
       "    .dataframe thead th {\n",
       "        text-align: right;\n",
       "    }\n",
       "</style>\n",
       "<table border=\"1\" class=\"dataframe\">\n",
       "  <thead>\n",
       "    <tr style=\"text-align: right;\">\n",
       "      <th></th>\n",
       "      <th>docno</th>\n",
       "      <th>labels</th>\n",
       "      <th>text</th>\n",
       "      <th>label_369</th>\n",
       "      <th>label_677</th>\n",
       "      <th>label_684</th>\n",
       "      <th>label_1087</th>\n",
       "      <th>label_1375</th>\n",
       "      <th>label_1640</th>\n",
       "      <th>label_2374</th>\n",
       "      <th>...</th>\n",
       "      <th>label_441100</th>\n",
       "      <th>label_441670</th>\n",
       "      <th>label_442888</th>\n",
       "      <th>label_443038</th>\n",
       "      <th>label_443106</th>\n",
       "      <th>label_443549</th>\n",
       "      <th>label_443820</th>\n",
       "      <th>label_444058</th>\n",
       "      <th>label_444110</th>\n",
       "      <th>label_444296</th>\n",
       "    </tr>\n",
       "  </thead>\n",
       "  <tbody>\n",
       "    <tr>\n",
       "      <th>0</th>\n",
       "      <td>1</td>\n",
       "      <td>33692</td>\n",
       "      <td>Alabama /\\u02CC\\u00E6l\\u0259\\u02C8b\\u00E6m\\u02...</td>\n",
       "      <td>0</td>\n",
       "      <td>0</td>\n",
       "      <td>0</td>\n",
       "      <td>0</td>\n",
       "      <td>0</td>\n",
       "      <td>0</td>\n",
       "      <td>0</td>\n",
       "      <td>...</td>\n",
       "      <td>0</td>\n",
       "      <td>0</td>\n",
       "      <td>0</td>\n",
       "      <td>0</td>\n",
       "      <td>0</td>\n",
       "      <td>0</td>\n",
       "      <td>0</td>\n",
       "      <td>0</td>\n",
       "      <td>0</td>\n",
       "      <td>0</td>\n",
       "    </tr>\n",
       "    <tr>\n",
       "      <th>1</th>\n",
       "      <td>1</td>\n",
       "      <td>13402</td>\n",
       "      <td>Alabama /\\u02CC\\u00E6l\\u0259\\u02C8b\\u00E6m\\u02...</td>\n",
       "      <td>0</td>\n",
       "      <td>0</td>\n",
       "      <td>0</td>\n",
       "      <td>0</td>\n",
       "      <td>0</td>\n",
       "      <td>0</td>\n",
       "      <td>0</td>\n",
       "      <td>...</td>\n",
       "      <td>0</td>\n",
       "      <td>0</td>\n",
       "      <td>0</td>\n",
       "      <td>0</td>\n",
       "      <td>0</td>\n",
       "      <td>0</td>\n",
       "      <td>0</td>\n",
       "      <td>0</td>\n",
       "      <td>0</td>\n",
       "      <td>0</td>\n",
       "    </tr>\n",
       "    <tr>\n",
       "      <th>2</th>\n",
       "      <td>1</td>\n",
       "      <td>393382</td>\n",
       "      <td>Alabama /\\u02CC\\u00E6l\\u0259\\u02C8b\\u00E6m\\u02...</td>\n",
       "      <td>0</td>\n",
       "      <td>0</td>\n",
       "      <td>0</td>\n",
       "      <td>0</td>\n",
       "      <td>0</td>\n",
       "      <td>0</td>\n",
       "      <td>0</td>\n",
       "      <td>...</td>\n",
       "      <td>0</td>\n",
       "      <td>0</td>\n",
       "      <td>0</td>\n",
       "      <td>0</td>\n",
       "      <td>0</td>\n",
       "      <td>0</td>\n",
       "      <td>0</td>\n",
       "      <td>0</td>\n",
       "      <td>0</td>\n",
       "      <td>0</td>\n",
       "    </tr>\n",
       "    <tr>\n",
       "      <th>3</th>\n",
       "      <td>2</td>\n",
       "      <td>130762</td>\n",
       "      <td>Alain Connes (born 1 April 1947) is a French m...</td>\n",
       "      <td>0</td>\n",
       "      <td>0</td>\n",
       "      <td>0</td>\n",
       "      <td>0</td>\n",
       "      <td>0</td>\n",
       "      <td>0</td>\n",
       "      <td>0</td>\n",
       "      <td>...</td>\n",
       "      <td>0</td>\n",
       "      <td>0</td>\n",
       "      <td>0</td>\n",
       "      <td>0</td>\n",
       "      <td>0</td>\n",
       "      <td>0</td>\n",
       "      <td>0</td>\n",
       "      <td>0</td>\n",
       "      <td>0</td>\n",
       "      <td>0</td>\n",
       "    </tr>\n",
       "    <tr>\n",
       "      <th>4</th>\n",
       "      <td>3</td>\n",
       "      <td>352578</td>\n",
       "      <td>Ayn Rand (born Alisa Zinov'yevna Rosenbaum; Fe...</td>\n",
       "      <td>0</td>\n",
       "      <td>0</td>\n",
       "      <td>0</td>\n",
       "      <td>0</td>\n",
       "      <td>0</td>\n",
       "      <td>0</td>\n",
       "      <td>0</td>\n",
       "      <td>...</td>\n",
       "      <td>0</td>\n",
       "      <td>0</td>\n",
       "      <td>0</td>\n",
       "      <td>0</td>\n",
       "      <td>0</td>\n",
       "      <td>0</td>\n",
       "      <td>0</td>\n",
       "      <td>0</td>\n",
       "      <td>0</td>\n",
       "      <td>0</td>\n",
       "    </tr>\n",
       "  </tbody>\n",
       "</table>\n",
       "<p>5 rows × 984 columns</p>\n",
       "</div>"
      ],
      "text/plain": [
       "  docno  labels                                               text  label_369  \\\n",
       "0     1   33692  Alabama /\\u02CC\\u00E6l\\u0259\\u02C8b\\u00E6m\\u02...          0   \n",
       "1     1   13402  Alabama /\\u02CC\\u00E6l\\u0259\\u02C8b\\u00E6m\\u02...          0   \n",
       "2     1  393382  Alabama /\\u02CC\\u00E6l\\u0259\\u02C8b\\u00E6m\\u02...          0   \n",
       "3     2  130762  Alain Connes (born 1 April 1947) is a French m...          0   \n",
       "4     3  352578  Ayn Rand (born Alisa Zinov'yevna Rosenbaum; Fe...          0   \n",
       "\n",
       "   label_677  label_684  label_1087  label_1375  label_1640  label_2374  ...  \\\n",
       "0          0          0           0           0           0           0  ...   \n",
       "1          0          0           0           0           0           0  ...   \n",
       "2          0          0           0           0           0           0  ...   \n",
       "3          0          0           0           0           0           0  ...   \n",
       "4          0          0           0           0           0           0  ...   \n",
       "\n",
       "   label_441100  label_441670  label_442888  label_443038  label_443106  \\\n",
       "0             0             0             0             0             0   \n",
       "1             0             0             0             0             0   \n",
       "2             0             0             0             0             0   \n",
       "3             0             0             0             0             0   \n",
       "4             0             0             0             0             0   \n",
       "\n",
       "   label_443549  label_443820  label_444058  label_444110  label_444296  \n",
       "0             0             0             0             0             0  \n",
       "1             0             0             0             0             0  \n",
       "2             0             0             0             0             0  \n",
       "3             0             0             0             0             0  \n",
       "4             0             0             0             0             0  \n",
       "\n",
       "[5 rows x 984 columns]"
      ]
     },
     "execution_count": 26,
     "metadata": {},
     "output_type": "execute_result"
    }
   ],
   "source": [
    "#add ohe labels to df_tidy\n",
    "df_final = pd.concat([df_tidy, ohe], axis=1)\n",
    "print(df_final.shape)\n",
    "df_final.head()"
   ]
  },
  {
   "cell_type": "markdown",
   "metadata": {},
   "source": [
    "Get to matrix shape:  \n",
    "507 docs x 981 unique labels"
   ]
  },
  {
   "cell_type": "code",
   "execution_count": 34,
   "metadata": {},
   "outputs": [
    {
     "name": "stdout",
     "output_type": "stream",
     "text": [
      "(507, 981)\n"
     ]
    },
    {
     "data": {
      "text/html": [
       "<div>\n",
       "<style scoped>\n",
       "    .dataframe tbody tr th:only-of-type {\n",
       "        vertical-align: middle;\n",
       "    }\n",
       "\n",
       "    .dataframe tbody tr th {\n",
       "        vertical-align: top;\n",
       "    }\n",
       "\n",
       "    .dataframe thead th {\n",
       "        text-align: right;\n",
       "    }\n",
       "</style>\n",
       "<table border=\"1\" class=\"dataframe\">\n",
       "  <thead>\n",
       "    <tr style=\"text-align: right;\">\n",
       "      <th></th>\n",
       "      <th>label_369</th>\n",
       "      <th>label_677</th>\n",
       "      <th>label_684</th>\n",
       "      <th>label_1087</th>\n",
       "      <th>label_1375</th>\n",
       "      <th>label_1640</th>\n",
       "      <th>label_2374</th>\n",
       "      <th>label_2549</th>\n",
       "      <th>label_2912</th>\n",
       "      <th>label_3403</th>\n",
       "      <th>...</th>\n",
       "      <th>label_441100</th>\n",
       "      <th>label_441670</th>\n",
       "      <th>label_442888</th>\n",
       "      <th>label_443038</th>\n",
       "      <th>label_443106</th>\n",
       "      <th>label_443549</th>\n",
       "      <th>label_443820</th>\n",
       "      <th>label_444058</th>\n",
       "      <th>label_444110</th>\n",
       "      <th>label_444296</th>\n",
       "    </tr>\n",
       "    <tr>\n",
       "      <th>docno</th>\n",
       "      <th></th>\n",
       "      <th></th>\n",
       "      <th></th>\n",
       "      <th></th>\n",
       "      <th></th>\n",
       "      <th></th>\n",
       "      <th></th>\n",
       "      <th></th>\n",
       "      <th></th>\n",
       "      <th></th>\n",
       "      <th></th>\n",
       "      <th></th>\n",
       "      <th></th>\n",
       "      <th></th>\n",
       "      <th></th>\n",
       "      <th></th>\n",
       "      <th></th>\n",
       "      <th></th>\n",
       "      <th></th>\n",
       "      <th></th>\n",
       "      <th></th>\n",
       "    </tr>\n",
       "  </thead>\n",
       "  <tbody>\n",
       "    <tr>\n",
       "      <th>1</th>\n",
       "      <td>0</td>\n",
       "      <td>0</td>\n",
       "      <td>0</td>\n",
       "      <td>0</td>\n",
       "      <td>0</td>\n",
       "      <td>0</td>\n",
       "      <td>0</td>\n",
       "      <td>0</td>\n",
       "      <td>0</td>\n",
       "      <td>0</td>\n",
       "      <td>...</td>\n",
       "      <td>0</td>\n",
       "      <td>0</td>\n",
       "      <td>0</td>\n",
       "      <td>0</td>\n",
       "      <td>0</td>\n",
       "      <td>0</td>\n",
       "      <td>0</td>\n",
       "      <td>0</td>\n",
       "      <td>0</td>\n",
       "      <td>0</td>\n",
       "    </tr>\n",
       "    <tr>\n",
       "      <th>10</th>\n",
       "      <td>0</td>\n",
       "      <td>0</td>\n",
       "      <td>0</td>\n",
       "      <td>0</td>\n",
       "      <td>0</td>\n",
       "      <td>0</td>\n",
       "      <td>0</td>\n",
       "      <td>0</td>\n",
       "      <td>0</td>\n",
       "      <td>0</td>\n",
       "      <td>...</td>\n",
       "      <td>0</td>\n",
       "      <td>0</td>\n",
       "      <td>0</td>\n",
       "      <td>0</td>\n",
       "      <td>0</td>\n",
       "      <td>0</td>\n",
       "      <td>0</td>\n",
       "      <td>0</td>\n",
       "      <td>0</td>\n",
       "      <td>0</td>\n",
       "    </tr>\n",
       "    <tr>\n",
       "      <th>100</th>\n",
       "      <td>0</td>\n",
       "      <td>0</td>\n",
       "      <td>0</td>\n",
       "      <td>0</td>\n",
       "      <td>0</td>\n",
       "      <td>0</td>\n",
       "      <td>0</td>\n",
       "      <td>0</td>\n",
       "      <td>0</td>\n",
       "      <td>0</td>\n",
       "      <td>...</td>\n",
       "      <td>0</td>\n",
       "      <td>0</td>\n",
       "      <td>0</td>\n",
       "      <td>0</td>\n",
       "      <td>0</td>\n",
       "      <td>0</td>\n",
       "      <td>0</td>\n",
       "      <td>0</td>\n",
       "      <td>0</td>\n",
       "      <td>0</td>\n",
       "    </tr>\n",
       "    <tr>\n",
       "      <th>101</th>\n",
       "      <td>0</td>\n",
       "      <td>0</td>\n",
       "      <td>0</td>\n",
       "      <td>0</td>\n",
       "      <td>0</td>\n",
       "      <td>0</td>\n",
       "      <td>0</td>\n",
       "      <td>0</td>\n",
       "      <td>0</td>\n",
       "      <td>0</td>\n",
       "      <td>...</td>\n",
       "      <td>0</td>\n",
       "      <td>0</td>\n",
       "      <td>0</td>\n",
       "      <td>0</td>\n",
       "      <td>0</td>\n",
       "      <td>0</td>\n",
       "      <td>0</td>\n",
       "      <td>0</td>\n",
       "      <td>0</td>\n",
       "      <td>0</td>\n",
       "    </tr>\n",
       "    <tr>\n",
       "      <th>102</th>\n",
       "      <td>0</td>\n",
       "      <td>0</td>\n",
       "      <td>0</td>\n",
       "      <td>0</td>\n",
       "      <td>0</td>\n",
       "      <td>0</td>\n",
       "      <td>0</td>\n",
       "      <td>0</td>\n",
       "      <td>0</td>\n",
       "      <td>0</td>\n",
       "      <td>...</td>\n",
       "      <td>0</td>\n",
       "      <td>0</td>\n",
       "      <td>0</td>\n",
       "      <td>0</td>\n",
       "      <td>0</td>\n",
       "      <td>0</td>\n",
       "      <td>0</td>\n",
       "      <td>0</td>\n",
       "      <td>0</td>\n",
       "      <td>0</td>\n",
       "    </tr>\n",
       "  </tbody>\n",
       "</table>\n",
       "<p>5 rows × 981 columns</p>\n",
       "</div>"
      ],
      "text/plain": [
       "       label_369  label_677  label_684  label_1087  label_1375  label_1640  \\\n",
       "docno                                                                        \n",
       "1              0          0          0           0           0           0   \n",
       "10             0          0          0           0           0           0   \n",
       "100            0          0          0           0           0           0   \n",
       "101            0          0          0           0           0           0   \n",
       "102            0          0          0           0           0           0   \n",
       "\n",
       "       label_2374  label_2549  label_2912  label_3403  ...  label_441100  \\\n",
       "docno                                                  ...                 \n",
       "1               0           0           0           0  ...             0   \n",
       "10              0           0           0           0  ...             0   \n",
       "100             0           0           0           0  ...             0   \n",
       "101             0           0           0           0  ...             0   \n",
       "102             0           0           0           0  ...             0   \n",
       "\n",
       "       label_441670  label_442888  label_443038  label_443106  label_443549  \\\n",
       "docno                                                                         \n",
       "1                 0             0             0             0             0   \n",
       "10                0             0             0             0             0   \n",
       "100               0             0             0             0             0   \n",
       "101               0             0             0             0             0   \n",
       "102               0             0             0             0             0   \n",
       "\n",
       "       label_443820  label_444058  label_444110  label_444296  \n",
       "docno                                                          \n",
       "1                 0             0             0             0  \n",
       "10                0             0             0             0  \n",
       "100               0             0             0             0  \n",
       "101               0             0             0             0  \n",
       "102               0             0             0             0  \n",
       "\n",
       "[5 rows x 981 columns]"
      ]
     },
     "execution_count": 34,
     "metadata": {},
     "output_type": "execute_result"
    }
   ],
   "source": [
    "df_y = df_final.groupby('docno').sum()\n",
    "print(df_y.shape)\n",
    "df_y.head()"
   ]
  },
  {
   "cell_type": "markdown",
   "metadata": {},
   "source": [
    "Combine X&y:  \n",
    "507 docs x 981 unique labels + original `labels` and `text` fields"
   ]
  },
  {
   "cell_type": "code",
   "execution_count": 31,
   "metadata": {},
   "outputs": [
    {
     "name": "stdout",
     "output_type": "stream",
     "text": [
      "(507, 2)\n"
     ]
    },
    {
     "data": {
      "text/html": [
       "<div>\n",
       "<style scoped>\n",
       "    .dataframe tbody tr th:only-of-type {\n",
       "        vertical-align: middle;\n",
       "    }\n",
       "\n",
       "    .dataframe tbody tr th {\n",
       "        vertical-align: top;\n",
       "    }\n",
       "\n",
       "    .dataframe thead th {\n",
       "        text-align: right;\n",
       "    }\n",
       "</style>\n",
       "<table border=\"1\" class=\"dataframe\">\n",
       "  <thead>\n",
       "    <tr style=\"text-align: right;\">\n",
       "      <th></th>\n",
       "      <th>labels</th>\n",
       "      <th>text</th>\n",
       "    </tr>\n",
       "    <tr>\n",
       "      <th>docno</th>\n",
       "      <th></th>\n",
       "      <th></th>\n",
       "    </tr>\n",
       "  </thead>\n",
       "  <tbody>\n",
       "    <tr>\n",
       "      <th>1</th>\n",
       "      <td>[33692, 13402, 393382]</td>\n",
       "      <td>Alabama /\\u02CC\\u00E6l\\u0259\\u02C8b\\u00E6m\\u02...</td>\n",
       "    </tr>\n",
       "    <tr>\n",
       "      <th>2</th>\n",
       "      <td>[130762]</td>\n",
       "      <td>Alain Connes (born 1 April 1947) is a French m...</td>\n",
       "    </tr>\n",
       "    <tr>\n",
       "      <th>3</th>\n",
       "      <td>[352578, 395447, 27512, 157031]</td>\n",
       "      <td>Ayn Rand (born Alisa Zinov'yevna Rosenbaum; Fe...</td>\n",
       "    </tr>\n",
       "    <tr>\n",
       "      <th>4</th>\n",
       "      <td>[390846, 395447, 276114]</td>\n",
       "      <td>Allan Dwan (April 3, 1885 – December 28, 1981)...</td>\n",
       "    </tr>\n",
       "    <tr>\n",
       "      <th>5</th>\n",
       "      <td>[14661, 71999, 292915, 188756, 131368]</td>\n",
       "      <td>Andre Kirk Agassi (born April 29, 1970) is an ...</td>\n",
       "    </tr>\n",
       "  </tbody>\n",
       "</table>\n",
       "</div>"
      ],
      "text/plain": [
       "                                       labels  \\\n",
       "docno                                           \n",
       "1                      [33692, 13402, 393382]   \n",
       "2                                    [130762]   \n",
       "3             [352578, 395447, 27512, 157031]   \n",
       "4                    [390846, 395447, 276114]   \n",
       "5      [14661, 71999, 292915, 188756, 131368]   \n",
       "\n",
       "                                                    text  \n",
       "docno                                                     \n",
       "1      Alabama /\\u02CC\\u00E6l\\u0259\\u02C8b\\u00E6m\\u02...  \n",
       "2      Alain Connes (born 1 April 1947) is a French m...  \n",
       "3      Ayn Rand (born Alisa Zinov'yevna Rosenbaum; Fe...  \n",
       "4      Allan Dwan (April 3, 1885 – December 28, 1981)...  \n",
       "5      Andre Kirk Agassi (born April 29, 1970) is an ...  "
      ]
     },
     "execution_count": 31,
     "metadata": {},
     "output_type": "execute_result"
    }
   ],
   "source": [
    "df.set_index('docno', inplace=True)\n",
    "print(df.shape)\n",
    "df.head()"
   ]
  },
  {
   "cell_type": "code",
   "execution_count": 36,
   "metadata": {},
   "outputs": [
    {
     "name": "stdout",
     "output_type": "stream",
     "text": [
      "(507, 983)\n"
     ]
    },
    {
     "data": {
      "text/html": [
       "<div>\n",
       "<style scoped>\n",
       "    .dataframe tbody tr th:only-of-type {\n",
       "        vertical-align: middle;\n",
       "    }\n",
       "\n",
       "    .dataframe tbody tr th {\n",
       "        vertical-align: top;\n",
       "    }\n",
       "\n",
       "    .dataframe thead th {\n",
       "        text-align: right;\n",
       "    }\n",
       "</style>\n",
       "<table border=\"1\" class=\"dataframe\">\n",
       "  <thead>\n",
       "    <tr style=\"text-align: right;\">\n",
       "      <th></th>\n",
       "      <th>labels</th>\n",
       "      <th>text</th>\n",
       "      <th>label_369</th>\n",
       "      <th>label_677</th>\n",
       "      <th>label_684</th>\n",
       "      <th>label_1087</th>\n",
       "      <th>label_1375</th>\n",
       "      <th>label_1640</th>\n",
       "      <th>label_2374</th>\n",
       "      <th>label_2549</th>\n",
       "      <th>...</th>\n",
       "      <th>label_441100</th>\n",
       "      <th>label_441670</th>\n",
       "      <th>label_442888</th>\n",
       "      <th>label_443038</th>\n",
       "      <th>label_443106</th>\n",
       "      <th>label_443549</th>\n",
       "      <th>label_443820</th>\n",
       "      <th>label_444058</th>\n",
       "      <th>label_444110</th>\n",
       "      <th>label_444296</th>\n",
       "    </tr>\n",
       "    <tr>\n",
       "      <th>docno</th>\n",
       "      <th></th>\n",
       "      <th></th>\n",
       "      <th></th>\n",
       "      <th></th>\n",
       "      <th></th>\n",
       "      <th></th>\n",
       "      <th></th>\n",
       "      <th></th>\n",
       "      <th></th>\n",
       "      <th></th>\n",
       "      <th></th>\n",
       "      <th></th>\n",
       "      <th></th>\n",
       "      <th></th>\n",
       "      <th></th>\n",
       "      <th></th>\n",
       "      <th></th>\n",
       "      <th></th>\n",
       "      <th></th>\n",
       "      <th></th>\n",
       "      <th></th>\n",
       "    </tr>\n",
       "  </thead>\n",
       "  <tbody>\n",
       "    <tr>\n",
       "      <th>1</th>\n",
       "      <td>[33692, 13402, 393382]</td>\n",
       "      <td>Alabama /\\u02CC\\u00E6l\\u0259\\u02C8b\\u00E6m\\u02...</td>\n",
       "      <td>0</td>\n",
       "      <td>0</td>\n",
       "      <td>0</td>\n",
       "      <td>0</td>\n",
       "      <td>0</td>\n",
       "      <td>0</td>\n",
       "      <td>0</td>\n",
       "      <td>0</td>\n",
       "      <td>...</td>\n",
       "      <td>0</td>\n",
       "      <td>0</td>\n",
       "      <td>0</td>\n",
       "      <td>0</td>\n",
       "      <td>0</td>\n",
       "      <td>0</td>\n",
       "      <td>0</td>\n",
       "      <td>0</td>\n",
       "      <td>0</td>\n",
       "      <td>0</td>\n",
       "    </tr>\n",
       "    <tr>\n",
       "      <th>2</th>\n",
       "      <td>[130762]</td>\n",
       "      <td>Alain Connes (born 1 April 1947) is a French m...</td>\n",
       "      <td>0</td>\n",
       "      <td>0</td>\n",
       "      <td>0</td>\n",
       "      <td>0</td>\n",
       "      <td>0</td>\n",
       "      <td>0</td>\n",
       "      <td>0</td>\n",
       "      <td>0</td>\n",
       "      <td>...</td>\n",
       "      <td>0</td>\n",
       "      <td>0</td>\n",
       "      <td>0</td>\n",
       "      <td>0</td>\n",
       "      <td>0</td>\n",
       "      <td>0</td>\n",
       "      <td>0</td>\n",
       "      <td>0</td>\n",
       "      <td>0</td>\n",
       "      <td>0</td>\n",
       "    </tr>\n",
       "    <tr>\n",
       "      <th>3</th>\n",
       "      <td>[352578, 395447, 27512, 157031]</td>\n",
       "      <td>Ayn Rand (born Alisa Zinov'yevna Rosenbaum; Fe...</td>\n",
       "      <td>0</td>\n",
       "      <td>0</td>\n",
       "      <td>0</td>\n",
       "      <td>0</td>\n",
       "      <td>0</td>\n",
       "      <td>0</td>\n",
       "      <td>0</td>\n",
       "      <td>0</td>\n",
       "      <td>...</td>\n",
       "      <td>0</td>\n",
       "      <td>0</td>\n",
       "      <td>0</td>\n",
       "      <td>0</td>\n",
       "      <td>0</td>\n",
       "      <td>0</td>\n",
       "      <td>0</td>\n",
       "      <td>0</td>\n",
       "      <td>0</td>\n",
       "      <td>0</td>\n",
       "    </tr>\n",
       "    <tr>\n",
       "      <th>4</th>\n",
       "      <td>[390846, 395447, 276114]</td>\n",
       "      <td>Allan Dwan (April 3, 1885 – December 28, 1981)...</td>\n",
       "      <td>0</td>\n",
       "      <td>0</td>\n",
       "      <td>0</td>\n",
       "      <td>0</td>\n",
       "      <td>0</td>\n",
       "      <td>0</td>\n",
       "      <td>0</td>\n",
       "      <td>0</td>\n",
       "      <td>...</td>\n",
       "      <td>0</td>\n",
       "      <td>0</td>\n",
       "      <td>0</td>\n",
       "      <td>0</td>\n",
       "      <td>0</td>\n",
       "      <td>0</td>\n",
       "      <td>0</td>\n",
       "      <td>0</td>\n",
       "      <td>0</td>\n",
       "      <td>0</td>\n",
       "    </tr>\n",
       "    <tr>\n",
       "      <th>5</th>\n",
       "      <td>[14661, 71999, 292915, 188756, 131368]</td>\n",
       "      <td>Andre Kirk Agassi (born April 29, 1970) is an ...</td>\n",
       "      <td>0</td>\n",
       "      <td>0</td>\n",
       "      <td>0</td>\n",
       "      <td>0</td>\n",
       "      <td>0</td>\n",
       "      <td>0</td>\n",
       "      <td>0</td>\n",
       "      <td>0</td>\n",
       "      <td>...</td>\n",
       "      <td>0</td>\n",
       "      <td>0</td>\n",
       "      <td>0</td>\n",
       "      <td>0</td>\n",
       "      <td>0</td>\n",
       "      <td>0</td>\n",
       "      <td>0</td>\n",
       "      <td>0</td>\n",
       "      <td>0</td>\n",
       "      <td>0</td>\n",
       "    </tr>\n",
       "  </tbody>\n",
       "</table>\n",
       "<p>5 rows × 983 columns</p>\n",
       "</div>"
      ],
      "text/plain": [
       "                                       labels  \\\n",
       "docno                                           \n",
       "1                      [33692, 13402, 393382]   \n",
       "2                                    [130762]   \n",
       "3             [352578, 395447, 27512, 157031]   \n",
       "4                    [390846, 395447, 276114]   \n",
       "5      [14661, 71999, 292915, 188756, 131368]   \n",
       "\n",
       "                                                    text  label_369  \\\n",
       "docno                                                                 \n",
       "1      Alabama /\\u02CC\\u00E6l\\u0259\\u02C8b\\u00E6m\\u02...          0   \n",
       "2      Alain Connes (born 1 April 1947) is a French m...          0   \n",
       "3      Ayn Rand (born Alisa Zinov'yevna Rosenbaum; Fe...          0   \n",
       "4      Allan Dwan (April 3, 1885 – December 28, 1981)...          0   \n",
       "5      Andre Kirk Agassi (born April 29, 1970) is an ...          0   \n",
       "\n",
       "       label_677  label_684  label_1087  label_1375  label_1640  label_2374  \\\n",
       "docno                                                                         \n",
       "1              0          0           0           0           0           0   \n",
       "2              0          0           0           0           0           0   \n",
       "3              0          0           0           0           0           0   \n",
       "4              0          0           0           0           0           0   \n",
       "5              0          0           0           0           0           0   \n",
       "\n",
       "       label_2549  ...  label_441100  label_441670  label_442888  \\\n",
       "docno              ...                                             \n",
       "1               0  ...             0             0             0   \n",
       "2               0  ...             0             0             0   \n",
       "3               0  ...             0             0             0   \n",
       "4               0  ...             0             0             0   \n",
       "5               0  ...             0             0             0   \n",
       "\n",
       "       label_443038  label_443106  label_443549  label_443820  label_444058  \\\n",
       "docno                                                                         \n",
       "1                 0             0             0             0             0   \n",
       "2                 0             0             0             0             0   \n",
       "3                 0             0             0             0             0   \n",
       "4                 0             0             0             0             0   \n",
       "5                 0             0             0             0             0   \n",
       "\n",
       "       label_444110  label_444296  \n",
       "docno                              \n",
       "1                 0             0  \n",
       "2                 0             0  \n",
       "3                 0             0  \n",
       "4                 0             0  \n",
       "5                 0             0  \n",
       "\n",
       "[5 rows x 983 columns]"
      ]
     },
     "execution_count": 36,
     "metadata": {},
     "output_type": "execute_result"
    }
   ],
   "source": [
    "df_final = pd.merge(df, df_y, how='inner', left_index=True, right_index=True)\n",
    "print(df_final.shape)\n",
    "df_final.head()"
   ]
  },
  {
   "cell_type": "code",
   "execution_count": 45,
   "metadata": {},
   "outputs": [
    {
     "name": "stdout",
     "output_type": "stream",
     "text": [
      "labels                               [33692, 13402, 393382]\n",
      "text      Alabama /\\u02CC\\u00E6l\\u0259\\u02C8b\\u00E6m\\u02...\n",
      "Name: 1, dtype: object\n"
     ]
    },
    {
     "data": {
      "text/plain": [
       "text            Alabama /\\u02CC\\u00E6l\\u0259\\u02C8b\\u00E6m\\u02...\n",
       "label_369                                                       0\n",
       "label_33692                                                     1\n",
       "label_13402                                                     1\n",
       "label_393382                                                    1\n",
       "Name: 1, dtype: object"
      ]
     },
     "execution_count": 45,
     "metadata": {},
     "output_type": "execute_result"
    }
   ],
   "source": [
    "#verify right labels for 1st doc\n",
    "print(df.loc['1'])\n",
    "df_final.loc['1'][['text', 'label_369','label_33692', 'label_13402','label_393382']]"
   ]
  },
  {
   "cell_type": "code",
   "execution_count": 46,
   "metadata": {},
   "outputs": [
    {
     "data": {
      "text/plain": [
       "['output/LSHTCv3_sample_df_multilabel.pkl']"
      ]
     },
     "execution_count": 46,
     "metadata": {},
     "output_type": "execute_result"
    }
   ],
   "source": [
    "#save df\n",
    "dump(df_final, 'output/LSHTCv3_sample_df_multilabel.pkl')"
   ]
  },
  {
   "cell_type": "code",
   "execution_count": 29,
   "metadata": {},
   "outputs": [
    {
     "ename": "NameError",
     "evalue": "name 'mystop' is not defined",
     "output_type": "error",
     "traceback": [
      "\u001b[1;31m---------------------------------------------------------------------------\u001b[0m",
      "\u001b[1;31mNameError\u001b[0m                                 Traceback (most recent call last)",
      "\u001b[1;32m<ipython-input-29-255d8eb4da7e>\u001b[0m in \u001b[0;36m<module>\u001b[1;34m\u001b[0m\n\u001b[1;32m----> 1\u001b[1;33m \u001b[0mmystop\u001b[0m\u001b[1;33m\u001b[0m\u001b[1;33m\u001b[0m\u001b[0m\n\u001b[0m",
      "\u001b[1;31mNameError\u001b[0m: name 'mystop' is not defined"
     ]
    }
   ],
   "source": [
    "mystop"
   ]
  },
  {
   "cell_type": "code",
   "execution_count": null,
   "metadata": {},
   "outputs": [],
   "source": [
    "mystop"
   ]
  },
  {
   "cell_type": "markdown",
   "metadata": {},
   "source": [
    "## Xtra"
   ]
  },
  {
   "cell_type": "code",
   "execution_count": null,
   "metadata": {},
   "outputs": [],
   "source": [
    "#$acxtra manually, replicate Class - read an html file\n",
    "tiny_docno=[]\n",
    "tiny_labels=[]                      #parsing the required data about labels and documents\n",
    "tiny_data=[]\n",
    "        \n",
    "soup=BeautifulSoup(open('input/wikipediaMediumOriginalLSHTCv3-train_tiny.txt','r',encoding='utf8'),'html.parser')\n",
    "\n",
    "for x in list(soup.find_all('docno')):\n",
    "    tiny_docno.append([ int(lab) for lab in x.get_text().split()])\n",
    "\n",
    "for x in list(soup.find_all('labels')):\n",
    "    tiny_labels.append([ int(lab) for lab in x.get_text().split()])\n",
    "    tiny_data.append(x.next_sibling.strip('\\n'))\n",
    "    \n",
    "#results after reading file\n",
    "tiny_docno[1:3], tiny_labels[1:3], tiny_data[1:3]"
   ]
  },
  {
   "cell_type": "code",
   "execution_count": null,
   "metadata": {},
   "outputs": [],
   "source": [
    "#$acxtra flatten list of lists example\n",
    "#src https://stackabuse.com/python-how-to-flatten-list-of-lists/\n",
    "#may run into nb limiation -  To change this limit, set the config variable `--NotebookApp.iopub_data_rate_limit`.  \n",
    "#jupyter notebook --NotebookApp.iopub_data_rate_limit=1.0e10\n",
    "\n",
    "regular_list = [[1, 2, 3, 4], [5, 6, 7], [8, 9]]\n",
    "flat_list = [item for sublist in regular_list for item in sublist]\n",
    "print('Original list', regular_list)\n",
    "print('Transformed list', flat_list)"
   ]
  },
  {
   "cell_type": "code",
   "execution_count": null,
   "metadata": {},
   "outputs": [],
   "source": [
    "#$acxtra find indices in array of values (not used here)\n",
    "#Create a numpy array from a list of numbers\n",
    "print([[11, 19, 18], [14, 15, 11], [19, 21, 46], [29, 21, 19]].__class__)\n",
    "arr = np.array([[11, 19, 18], [14, 15, 11], [19, 21, 46], [29, 21, 19]])\n",
    "print(arr)\n",
    "\n",
    "result = np.where(arr == 19)\n",
    "print(result)\n",
    "\n",
    "listOfIndices= list(zip(result[0], result[1]))\n",
    "\n",
    "for indice in listOfIndices:\n",
    "    print(indice)"
   ]
  },
  {
   "cell_type": "code",
   "execution_count": null,
   "metadata": {},
   "outputs": [],
   "source": [
    "#index of where most frequent label $acrevisit\n",
    "idx2_label_most_frequent = []\n",
    "for idx_most in train_data.labels:\n",
    "    if label_most_frequent in idx_most:\n",
    "        idx2_label_most_frequent.append(idx_most)\n",
    "\n",
    "#confirm counts       \n",
    "print(len(idx2_label_most_frequent))\n",
    "#preview\n",
    "idx2_label_most_frequent[:5]"
   ]
  },
  {
   "cell_type": "code",
   "execution_count": null,
   "metadata": {},
   "outputs": [],
   "source": []
  },
  {
   "cell_type": "code",
   "execution_count": null,
   "metadata": {},
   "outputs": [],
   "source": [
    "from sklearn.preprocessing import OneHotEncoder\n",
    "x = [[11, \"Spain\"], [22, \"France\"], [33, \"Spain\"], [44, \"Germany\"], [55, \"France\"]]\n",
    "y = OneHotEncoder().fit_transform(x).toarray()\n",
    "print(y)"
   ]
  },
  {
   "cell_type": "code",
   "execution_count": null,
   "metadata": {},
   "outputs": [],
   "source": [
    "x"
   ]
  },
  {
   "cell_type": "code",
   "execution_count": null,
   "metadata": {},
   "outputs": [],
   "source": []
  }
 ],
 "metadata": {
  "hide_input": false,
  "kernelspec": {
   "display_name": "nlp_lshtc",
   "language": "python",
   "name": "nlp_lshtc"
  },
  "language_info": {
   "codemirror_mode": {
    "name": "ipython",
    "version": 3
   },
   "file_extension": ".py",
   "mimetype": "text/x-python",
   "name": "python",
   "nbconvert_exporter": "python",
   "pygments_lexer": "ipython3",
   "version": "3.7.6"
  },
  "toc": {
   "base_numbering": 1,
   "nav_menu": {},
   "number_sections": true,
   "sideBar": true,
   "skip_h1_title": false,
   "title_cell": "Table of Contents",
   "title_sidebar": "Contents",
   "toc_cell": false,
   "toc_position": {
    "height": "calc(100% - 180px)",
    "left": "10px",
    "top": "150px",
    "width": "270.498px"
   },
   "toc_section_display": true,
   "toc_window_display": true
  }
 },
 "nbformat": 4,
 "nbformat_minor": 4
}
