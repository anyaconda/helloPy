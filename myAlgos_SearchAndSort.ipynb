{
 "cells": [
  {
   "cell_type": "code",
   "execution_count": 12,
   "metadata": {},
   "outputs": [],
   "source": [
    "#meta: Search and Sort Algorithms with Python\n",
    "#9/20/2018"
   ]
  },
  {
   "cell_type": "markdown",
   "metadata": {},
   "source": [
    "## Algorithms\n",
    "src: John Keyser  \n",
    "\n",
    "A precise set of steps or rules to follow to accomplish some task.\n",
    "\n",
    "### 1. Searches\n",
    "### 1.1  Search algorithms - Linear\n",
    "\n",
    "Go thru each element, checking to see if there's a match  \n",
    "Input:  \n",
    "    l list of values  \n",
    "    v value to find  \n",
    "Output: True if v is in L, False otherwise \n"
   ]
  },
  {
   "cell_type": "code",
   "execution_count": 13,
   "metadata": {},
   "outputs": [],
   "source": [
    "#min verbose\n",
    "def isIn(l,v):\n",
    "    #check if list is empty\n",
    "    if len(l)==0:\n",
    "        return False\n",
    "    \n",
    "    #set round count\n",
    "    i_round = 1\n",
    "    \n",
    "    #check each item in the list\n",
    "    for item in l:\n",
    "        if item == v:\n",
    "            print ('[meta] # of rounds taken: ', i_round)  \n",
    "            i_round+=1\n",
    "            return True\n",
    "        i_round+=1\n",
    "        \n",
    "    #if not found\n",
    "    i_round-=1\n",
    "    print ('[meta] # of rounds taken: ', i_round)  \n",
    "    return False\n"
   ]
  },
  {
   "cell_type": "code",
   "execution_count": 14,
   "metadata": {},
   "outputs": [
    {
     "name": "stdout",
     "output_type": "stream",
     "text": [
      "[meta] # of rounds taken:  6\n",
      "True\n",
      "True\n"
     ]
    }
   ],
   "source": [
    "#use linear search \n",
    "my_list = ['apples','pomegranates','cherries','salmon','potatoes','sushi']\n",
    "print (isIn(my_list, 'sushi'))\n",
    "#same as built-in in command\n",
    "print ('sushi' in my_list)"
   ]
  },
  {
   "cell_type": "markdown",
   "metadata": {},
   "source": [
    "### 1.2  Search algorithms - Binary\n",
    "\n",
    "Reducing the search range by a factor of 2 (at each iteration).  Much more efficient than linear search.  \n",
    "Input:  \n",
    "    l sorted list of values  \n",
    "    v value to find  \n",
    "Output: True if v is in L, False otherwise "
   ]
  },
  {
   "cell_type": "code",
   "execution_count": 15,
   "metadata": {},
   "outputs": [],
   "source": [
    "#min verbose\n",
    "def binaryIn(l,v):\n",
    "    #check if list is empty\n",
    "    if len(l)==0:\n",
    "        return False\n",
    "    \n",
    "    #set round count\n",
    "    i_round = 0\n",
    "\n",
    "    #set initial low and high\n",
    "    low=0\n",
    "    high=len(l)-1\n",
    "    #check if match\n",
    "    if l[low]==v or l[high]==v:\n",
    "        print ('[meta] found right away, # of rounds taken: ', i_round)\n",
    "        return True\n",
    "    \n",
    "    \n",
    "    #invariant loop - while value between low and high\n",
    "    while low < high - 1:\n",
    "        i_round+=1\n",
    "        \n",
    "        #compute mid\n",
    "        mid = (low + high) //2\n",
    "        \n",
    "        if l[mid]==v:\n",
    "            print ('[meta] # of rounds taken: ', i_round)     \n",
    "            return True\n",
    "        elif v < l[mid]:\n",
    "            high = mid\n",
    "        else:\n",
    "            low = mid\n",
    "        mid = (low + high) //2\n",
    "        \n",
    "    #if not found\n",
    "    print ('[meta] # of rounds taken: ', i_round)  \n",
    "    return False\n"
   ]
  },
  {
   "cell_type": "code",
   "execution_count": 16,
   "metadata": {},
   "outputs": [
    {
     "name": "stdout",
     "output_type": "stream",
     "text": [
      "['apples', 'pomegranates', 'cherries', 'salmon', 'potatoes', 'sushi']\n",
      "['apples', 'cherries', 'pomegranates', 'potatoes', 'salmon', 'sushi']\n",
      "[meta] # of rounds taken:  3\n",
      "True\n"
     ]
    }
   ],
   "source": [
    "#verify with a list of strings\n",
    "my_list_sorted = sorted(my_list)\n",
    "print(my_list)\n",
    "print(my_list_sorted)\n",
    "\n",
    "print(binaryIn(my_list_sorted, 'salmon'))"
   ]
  },
  {
   "cell_type": "code",
   "execution_count": 17,
   "metadata": {},
   "outputs": [
    {
     "name": "stdout",
     "output_type": "stream",
     "text": [
      "[meta] # of rounds taken:  4\n",
      "False\n"
     ]
    }
   ],
   "source": [
    "#verify with a list of ints, expect log_base2(n) -> max 3 rounds with 8 elements, 4 rounds with 16 elements\n",
    "my_list_sorted = [1,2,3,4,5,6,7,8] #worst case 3 rounds for values 3,5,7 or false\n",
    "my_list_sorted = [1,2,3,4,5,6,7,8,9,10,11,12,13,14,15,16] #worst case 4 rounds for values 3,5,7,9,11,13,15 or false\n",
    "print(binaryIn(my_list_sorted, 17))"
   ]
  },
  {
   "cell_type": "markdown",
   "metadata": {},
   "source": [
    "### 1.2.a Where in the list\n",
    "Often want to know where in the list.  \n",
    "Return index of the value found. \n",
    "\n",
    "Input:\n",
    "l sorted list of values\n",
    "v value to find\n",
    "Output: index of entry that's equal to v, -1 if v is not in the list"
   ]
  },
  {
   "cell_type": "code",
   "execution_count": 18,
   "metadata": {},
   "outputs": [],
   "source": [
    "#min verbose\n",
    "def binaryFind(l,v):\n",
    "    #check if list is empty\n",
    "    if len(l)==0:\n",
    "        return False\n",
    "    \n",
    "    #set round count\n",
    "    i_round = 0\n",
    "\n",
    "    #set initial low and high\n",
    "    low=0\n",
    "    high=len(l)-1\n",
    "    #check if match\n",
    "    if l[low]==v:\n",
    "        print ('[meta] found right away, # of rounds taken: ', i_round)\n",
    "        return low\n",
    "    if l[high]==v:\n",
    "        print ('[meta] found right away, # of rounds taken: ', i_round)\n",
    "        return high\n",
    "    \n",
    "    #invariant loop - while value between low and high\n",
    "    while low < high - 1:\n",
    "        i_round+=1\n",
    "        \n",
    "        #compute mid\n",
    "        mid = (low + high) //2\n",
    "        \n",
    "        if l[mid]==v:\n",
    "            print ('[meta] # of rounds taken: ', i_round)     \n",
    "            return mid\n",
    "        elif v < l[mid]:\n",
    "            high = mid\n",
    "        else:\n",
    "            low = mid\n",
    "        mid = (low + high) //2\n",
    "        \n",
    "    #if not found\n",
    "    print ('[meta] # of rounds taken: ', i_round)  \n",
    "    return -1"
   ]
  },
  {
   "cell_type": "code",
   "execution_count": 19,
   "metadata": {},
   "outputs": [
    {
     "name": "stdout",
     "output_type": "stream",
     "text": [
      "['apples', 'pomegranates', 'cherries', 'salmon', 'potatoes', 'sushi']\n",
      "['apples', 'cherries', 'pomegranates', 'potatoes', 'salmon', 'sushi']\n",
      "[meta] found right away, # of rounds taken:  0\n",
      "5\n"
     ]
    }
   ],
   "source": [
    "#verify with a list of strings\n",
    "my_list_sorted = sorted(my_list)\n",
    "print(my_list)\n",
    "print(my_list_sorted)\n",
    "\n",
    "print(binaryFind(my_list_sorted, 'sushi'))"
   ]
  },
  {
   "cell_type": "code",
   "execution_count": 23,
   "metadata": {},
   "outputs": [
    {
     "name": "stdout",
     "output_type": "stream",
     "text": [
      "[meta] # of rounds taken:  1\n",
      "7\n"
     ]
    }
   ],
   "source": [
    "#verify with a list of ints, expect log_base2(n) -> max 3 rounds with 8 elements, 4 rounds with 16 elements\n",
    "my_list_sorted = [1,2,3,4,5,6,7,8] #worst case 3 rounds for values 3,5,7 or false\n",
    "my_list_sorted = [1,2,3,4,5,6,7,8,9,10,11,12,13,14,15,16] #worst case 4 rounds for values 3,5,7,9,11,13,15 or false\n",
    "print(binaryFind(my_list_sorted, 8))"
   ]
  },
  {
   "cell_type": "markdown",
   "metadata": {},
   "source": [
    "### 2. Sorts\n",
    "Compare two basic sorts: \n",
    "- Selection sort  \n",
    "Start with a mixed up set of values that we want to put in order.  \n",
    "Look thru all values and find the smallest item, put it in first place.  \n",
    "Repeat the process to find the next-smallest and put it in next place. \n",
    "\n",
    "Very simple but looks at every element every single pass -> not efficient.  Spends a lot of time going thru the entire unsorted list on every iteration.  \n",
    "\n",
    "- Insertion sort  \n",
    "For each iteration n, sort the first n elements  \n",
    "Each iteration n+1  \n",
    "So, the only thing to do on each iteration is add one more element into the right spot.  \n",
    "\n",
    "Start with the first item, it's already in the right order.  \n",
    "Then take the second item, all we do is compare it with the 1st item and insert it in correct order.  \n",
    "Continue making iterations, where each time we take one more value and insert it into the list of sorted items.  \n",
    "Avoid scanning the entire list every time.  \n",
    "\n",
    "Input:  L unsorted list of values  \n",
    "Output: L, with elements sorted from smallest to largest "
   ]
  },
  {
   "cell_type": "code",
   "execution_count": 61,
   "metadata": {},
   "outputs": [],
   "source": [
    "def selectionSort(l):\n",
    "    max_idx = len(l)-1\n",
    "\n",
    "    for i in range(0,max_idx+1): #note: range excludes last number => +1\n",
    "        #find the smallest remaining element\n",
    "        min_idx = i\n",
    "        for j in range(i+1,max_idx+1):\n",
    "            if l[j]<l[min_idx]:\n",
    "                min_idx = j\n",
    "        \n",
    "        #swap that item           \n",
    "        temp = l[i]\n",
    "        l[i]=l[min_idx]\n",
    "        l[min_idx]=temp\n",
    "\n",
    "    return(l)\n",
    "        "
   ]
  },
  {
   "cell_type": "code",
   "execution_count": 63,
   "metadata": {},
   "outputs": [
    {
     "name": "stdout",
     "output_type": "stream",
     "text": [
      "before : ['apples', 'pomegranates', 'cherries', 'salmon', 'potatoes', 'sushi', 'bananas']\n",
      "after : ['apples', 'bananas', 'cherries', 'pomegranates', 'potatoes', 'salmon', 'sushi']\n",
      "sorted in-place : ['apples', 'bananas', 'cherries', 'pomegranates', 'potatoes', 'salmon', 'sushi']\n"
     ]
    }
   ],
   "source": [
    "my_list = ['apples','pomegranates','cherries','salmon','potatoes','sushi', 'bananas']\n",
    "print('before :', my_list)\n",
    "print('after :', selectionSort(my_list))\n",
    "print('sorted in-place :', my_list)"
   ]
  },
  {
   "cell_type": "code",
   "execution_count": 116,
   "metadata": {},
   "outputs": [],
   "source": [
    "def myinsertionSort(l):\n",
    "    max_idx = len(l)-1\n",
    "\n",
    "    for i in range(0,max_idx+1):\n",
    "        #print ('i: ', i, l[i])\n",
    "        \n",
    "        for j in range(0,i+1):\n",
    "            #print ('j: ',j, l[j])\n",
    "            if l[i]<l[j]:\n",
    "                temp = l[i]\n",
    "                l[i]=l[j]\n",
    "                l[j]=temp        \n",
    "\n",
    "    return(l)"
   ]
  },
  {
   "cell_type": "code",
   "execution_count": 117,
   "metadata": {},
   "outputs": [
    {
     "name": "stdout",
     "output_type": "stream",
     "text": [
      "before : ['apples', 'pomegranates', 'cherries', 'salmon', 'potatoes', 'sushi', 'bananas']\n",
      "after : ['apples', 'bananas', 'cherries', 'pomegranates', 'potatoes', 'salmon', 'sushi']\n",
      "sorted in-place : ['apples', 'bananas', 'cherries', 'pomegranates', 'potatoes', 'salmon', 'sushi']\n"
     ]
    }
   ],
   "source": [
    "my_list = ['apples','pomegranates','cherries','salmon','potatoes','sushi', 'bananas']\n",
    "print('before :', my_list)\n",
    "print('after :', insertionSort(my_list))\n",
    "print('sorted in-place :', my_list)"
   ]
  },
  {
   "cell_type": "code",
   "execution_count": null,
   "metadata": {},
   "outputs": [],
   "source": []
  }
 ],
 "metadata": {
  "kernelspec": {
   "display_name": "Python 3",
   "language": "python",
   "name": "python3"
  },
  "language_info": {
   "codemirror_mode": {
    "name": "ipython",
    "version": 3
   },
   "file_extension": ".py",
   "mimetype": "text/x-python",
   "name": "python",
   "nbconvert_exporter": "python",
   "pygments_lexer": "ipython3",
   "version": "3.6.5"
  }
 },
 "nbformat": 4,
 "nbformat_minor": 2
}
