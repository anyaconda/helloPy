{
 "cells": [
  {
   "cell_type": "code",
   "execution_count": 1,
   "metadata": {},
   "outputs": [],
   "source": [
    "#meta: Search and Sort Algorithms with Python\n",
    "#9/20/2018"
   ]
  },
  {
   "cell_type": "markdown",
   "metadata": {},
   "source": [
    "## Algorithms\n",
    "src: John Keyser  \n",
    "\n",
    "A precise set of steps or rules to follow to accomplish some task.\n",
    "\n",
    "### 1.1  Search algorithms - Linear\n",
    "\n",
    "Task: go thru each element, checking to see if there's a match  \n",
    "Input:  \n",
    "    l list of values  \n",
    "    v value to find  \n",
    "Output: True if v is in L, False otherwise \n"
   ]
  },
  {
   "cell_type": "code",
   "execution_count": 122,
   "metadata": {},
   "outputs": [],
   "source": [
    "#verbose\n",
    "def isIn_verbose(l,v):\n",
    "    #check if list is empty\n",
    "    if len(l)==0:\n",
    "        return False\n",
    "    \n",
    "    #set round count\n",
    "    i_round = 1\n",
    "    \n",
    "    #check each item in the list\n",
    "    for item in l:\n",
    "        if item == v:\n",
    "            print ('# of rounds taken: ', i_round)  \n",
    "            i_round+=1\n",
    "            return True\n",
    "        i_round+=1\n",
    "        \n",
    "    #if not found\n",
    "    i_round-=1\n",
    "    print ('# of rounds taken: ', i_round)  \n",
    "    return False\n"
   ]
  },
  {
   "cell_type": "code",
   "execution_count": 139,
   "metadata": {},
   "outputs": [
    {
     "name": "stdout",
     "output_type": "stream",
     "text": [
      "# of rounds taken:  6\n",
      "True\n",
      "True\n"
     ]
    }
   ],
   "source": [
    "#use linear search \n",
    "my_list = ['apples','pomegranates','cherries','salmon','potatoes','sushi']\n",
    "print (isIn_verbose(my_list, 'sushi'))\n",
    "#same as built-in in command\n",
    "print ('sushi' in my_list)"
   ]
  },
  {
   "cell_type": "markdown",
   "metadata": {},
   "source": [
    "### 1.2  Search algorithms - Binary\n",
    "\n",
    "Task: go thru each element, checking to see if there's a match  \n",
    "Input:  \n",
    "    l sorted list of values  \n",
    "    v value to find  \n",
    "Output: True if v is in L, False otherwise "
   ]
  },
  {
   "cell_type": "code",
   "execution_count": 133,
   "metadata": {},
   "outputs": [],
   "source": [
    "#verbose\n",
    "def binaryIn_verbose(l,v):\n",
    "    #check if list is empty\n",
    "    if len(l)==0:\n",
    "        return False\n",
    "    \n",
    "    #set round count\n",
    "    i_round = 0\n",
    "\n",
    "    #set initial low and high\n",
    "    low=0\n",
    "    high=len(l)-1\n",
    "    #check if match\n",
    "    if l[low]==v or l[high]==v:\n",
    "        print ('found right away, # of rounds taken: ', i_round)\n",
    "        return True\n",
    "    \n",
    "    #set initial mid\n",
    "    i_round+=1\n",
    "    mid = (low + high) //2\n",
    "    print ('mid', mid)\n",
    "    \n",
    "    #invariant loop - while value between low and high\n",
    "    while mid > low and mid < high:\n",
    "        \n",
    "        if l[mid]==v:\n",
    "            print ('# of rounds taken: ', i_round)     \n",
    "            return True\n",
    "        elif v < l[mid]:\n",
    "            high = mid\n",
    "            print ('low and high:', low, high)\n",
    "        else:\n",
    "            low = mid\n",
    "            print ('low and high:', low, high)\n",
    "        mid = (low + high) //2\n",
    "        print('mid', mid)\n",
    "        i_round+=1\n"
   ]
  },
  {
   "cell_type": "code",
   "execution_count": 140,
   "metadata": {},
   "outputs": [
    {
     "name": "stdout",
     "output_type": "stream",
     "text": [
      "['apples', 'pomegranates', 'cherries', 'salmon', 'potatoes', 'sushi']\n",
      "['apples', 'cherries', 'pomegranates', 'potatoes', 'salmon', 'sushi']\n",
      "mid 2\n",
      "low and high: 2 5\n",
      "mid 3\n",
      "low and high: 3 5\n",
      "mid 4\n",
      "# of rounds taken:  3\n",
      "True\n"
     ]
    }
   ],
   "source": [
    "#verify with a list of strings\n",
    "my_list_sorted = sorted(my_list)\n",
    "print(my_list)\n",
    "print(my_list_sorted)\n",
    "\n",
    "print(binaryIn_verbose(my_list_sorted, 'salmon'))"
   ]
  },
  {
   "cell_type": "code",
   "execution_count": 141,
   "metadata": {},
   "outputs": [
    {
     "name": "stdout",
     "output_type": "stream",
     "text": [
      "mid 7\n",
      "low and high: 7 15\n",
      "mid 11\n",
      "low and high: 11 15\n",
      "mid 13\n",
      "low and high: 13 15\n",
      "mid 14\n",
      "# of rounds taken:  4\n",
      "True\n"
     ]
    }
   ],
   "source": [
    "#verify with a list of ints, expect log_base2(n) -> max 3 rounds with 8 elements, 4 rounds with 16 elements\n",
    "#my_list_sorted = [1,2,3,4,5,6,7,8] #worst case 3 rounds for values 3,5,7\n",
    "my_list_sorted = [1,2,3,4,5,6,7,8,9,10,11,12,13,14,15,16] #worst case 4 rounds for values 3,5,7,9,11,13,15\n",
    "print(binaryIn(my_list_sorted, 15))"
   ]
  },
  {
   "cell_type": "code",
   "execution_count": null,
   "metadata": {},
   "outputs": [],
   "source": []
  }
 ],
 "metadata": {
  "kernelspec": {
   "display_name": "Python 3",
   "language": "python",
   "name": "python3"
  },
  "language_info": {
   "codemirror_mode": {
    "name": "ipython",
    "version": 3
   },
   "file_extension": ".py",
   "mimetype": "text/x-python",
   "name": "python",
   "nbconvert_exporter": "python",
   "pygments_lexer": "ipython3",
   "version": "3.6.5"
  }
 },
 "nbformat": 4,
 "nbformat_minor": 2
}
