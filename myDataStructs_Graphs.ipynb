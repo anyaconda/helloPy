{
 "cells": [
  {
   "cell_type": "code",
   "execution_count": 1,
   "metadata": {},
   "outputs": [],
   "source": [
    "#meta: Common data structures in Python - Graphs\n",
    "#10/28/2018\n",
    "\n",
    "#exploring two ways of looking at graph relationships:\n",
    "#  a) focus on edges\n",
    "#  b) focus on vertices\n",
    "\n",
    "#prev 10/28/2018\n",
    "#  b) implemented only uni-directional edges, i.e. one-way flights\n",
    "\n",
    "#here 10/28/2018\n",
    "#  b) redefine classes Node and Edge, use index instead of name => more efficient\n",
    "#  b) define a function addFlights() to add flights bi-directionally, outside of Node class\n",
    "#  b) find all flights by using Node.getEdges()"
   ]
  },
  {
   "cell_type": "markdown",
   "metadata": {},
   "source": [
    "## Data Structures - Graphs\n",
    "src: John Keyser\n",
    "\n",
    "Graphs offer a structure for capturing an incredibly wide diversity of relationships and \n",
    "the connections that are formed all over.  \n",
    "i.e. connections between locations \n",
    "\n",
    "Vertex/node are represented entities.  \n",
    "Edges - the connections between nodes. Edges let us know that there's a relation between the 2 nodes.    \n",
    "i.e. cities and roads.  \n",
    "\n",
    "Codewise, graphs can have more than one representation:\n",
    "1. global – represent a graph as two lists: one list of nodes and one list of edges \n",
    "2. adjacency list - focuses on adjacent neighbors \n",
    "3. adjacency matrix \n",
    "\n",
    "### 1. Global List\n",
    "Each node will contain information about itself.  \n",
    "An edge would reference the two nodes.   \n",
    "If it's a weighted graph, the edges will also store a weight.  \n",
    "\n",
    "Most useful if need to regularly look at all of the edges. "
   ]
  },
  {
   "cell_type": "code",
   "execution_count": 2,
   "metadata": {},
   "outputs": [],
   "source": [
    "#create classes Node and Edge\n",
    "\n",
    "# -----------------------------------------------------------------------------------------------------------\n",
    "# class: Node\n",
    "# member variables: name, weight\n",
    "# getters: getName(), getWeight()\n",
    "# setters: none\n",
    "# -----------------------------------------------------------------------------------------------------------\n",
    "\n",
    "class Node:\n",
    "    #use __init__() function to assign values\n",
    "    def __init__(self, name, weight):\n",
    "        self._name = name\n",
    "        self._weight = weight\n",
    "        \n",
    "    #define getters\n",
    "    def getName(self):\n",
    "        return self._name\n",
    "    def getWeight(self):\n",
    "        return self._weight\n",
    "# -----------------------------------------------------------------------------------------------------------\n",
    "# class: Edge\n",
    "# member variables: neighbor names, weight\n",
    "# getters: get Node names, getWeight()\n",
    "# setters: none\n",
    "# -----------------------------------------------------------------------------------------------------------\n",
    "        \n",
    "class Edge:\n",
    "    def __init__(self,name1,name2,weight):\n",
    "        self._name1=name1\n",
    "        self._name2=name2\n",
    "        self._weight=weight\n",
    "        \n",
    "    #define getters\n",
    "    def getNodeName1(self):\n",
    "        return self._name1\n",
    "    def getNodeName2(self):\n",
    "        return self._name2\n",
    "    def getNodeNames(self):\n",
    "        return (self._name1,self._name2)\n",
    "    def getWeight(self):\n",
    "        return self._weight\n",
    "        "
   ]
  },
  {
   "cell_type": "code",
   "execution_count": 3,
   "metadata": {},
   "outputs": [],
   "source": [
    "#setup\n",
    "cities=[]\n",
    "flights=[]\n",
    "\n",
    "#create cities - population in 1K units\n",
    "city = Node('Seattle',705)\n",
    "cities.append(city)\n",
    "city = Node('New York',8538)\n",
    "cities.append(city)\n",
    "city = Node('Amsterdam',593)\n",
    "cities.append(city)\n",
    "city = Node('Kiev',2804)\n",
    "cities.append(city)\n",
    "city = Node('Kharkiv',1431)\n",
    "cities.append(city)\n",
    "#print(cities[0].getName())\n",
    "\n",
    "#create connections - air miles\n",
    "flight = Edge('Seattle', 'New York',  2402.63)\n",
    "flights.append(flight)\n",
    "flight = Edge('Seattle', 'Amsterdam',  4863.65 )\n",
    "flights.append(flight)\n",
    "flight = Edge('New York', 'Amsterdam',  3598.83 )\n",
    "flights.append(flight)\n",
    "flight = Edge('Amsterdam','Kiev', 1107.00 )\n",
    "flights.append(flight)\n",
    "flight = Edge('Kiev','Kharkiv',  255.40 )\n",
    "flights.append(flight)"
   ]
  },
  {
   "cell_type": "markdown",
   "metadata": {},
   "source": [
    "#### Using edges - i.e. find the total population that lives on a connection\n",
    "Need to find population of the cities at each end (population is stored in the city nodes.  Connection only knows the names of the cities."
   ]
  },
  {
   "cell_type": "code",
   "execution_count": 4,
   "metadata": {},
   "outputs": [
    {
     "name": "stdout",
     "output_type": "stream",
     "text": [
      "Population on connections between Seattle and New York is 9243\n"
     ]
    }
   ],
   "source": [
    "#set the connections ur interested in\n",
    "flight = flights[0]\n",
    "city1=flight.getNodeName1()\n",
    "city2=flight.getNodeName2()\n",
    "\n",
    "#performance issue: linear => not efficient\n",
    "#loop thru the list of cities\n",
    "for i in cities:\n",
    "    if i.getName()==city1:\n",
    "        pop1 = i.getWeight()\n",
    "    if i.getName()==city2:\n",
    "        pop2 = i.getWeight()\n",
    "\n",
    "#compute total population\n",
    "total_pop = pop1 + pop2\n",
    "print ('Population on connections between {} and {} is {}'.format(city1, city2, total_pop))"
   ]
  },
  {
   "cell_type": "markdown",
   "metadata": {},
   "source": [
    "Issue: Linear search - loop thru names of the cities.  \n",
    "If have a large list of cities, not effiecient because is O(n) operation.  \n",
    "Better: instead of using names of cities, use index of cities. "
   ]
  },
  {
   "cell_type": "code",
   "execution_count": 5,
   "metadata": {},
   "outputs": [],
   "source": [
    "#redefine class Edge, use index instead of name => more efficient\n",
    "# -----------------------------------------------------------------------------------------------------------\n",
    "# class: Edge\n",
    "# member variables: neighbor_idx, weight\n",
    "# getters: get Node indices, getWeight()\n",
    "# setters: none\n",
    "# -----------------------------------------------------------------------------------------------------------\n",
    "\n",
    "class Edge:\n",
    "    def __init__(self,node1_idx,node2_idx,weight):\n",
    "        self._node1_idx=node1_idx\n",
    "        self._node2_idx=node2_idx\n",
    "        self._weight=weight\n",
    "        \n",
    "    #define getters\n",
    "    def getNode1idx(self):\n",
    "        return self._node1_idx\n",
    "    def getNode2idx(self):\n",
    "        return self._node2_idx\n",
    "    def getNodeIndices(self):\n",
    "        return (self._node1_idx, self._node2_idx)\n",
    "    def getWeight(self):\n",
    "        return self._weight"
   ]
  },
  {
   "cell_type": "code",
   "execution_count": 6,
   "metadata": {},
   "outputs": [],
   "source": [
    "#setup\n",
    "cities=[]\n",
    "flights=[]\n",
    "\n",
    "#create cities - population in 1K units\n",
    "city = Node('Seattle',705)\n",
    "cities.append(city)\n",
    "city = Node('New York',8538)\n",
    "cities.append(city)\n",
    "city = Node('Amsterdam',593)\n",
    "cities.append(city)\n",
    "city = Node('Kiev',2804)\n",
    "cities.append(city)\n",
    "city = Node('Kharkiv',1431)\n",
    "cities.append(city)\n",
    "#print(cities[0].getName())\n",
    "\n",
    "#create connections - flights in air miles\n",
    "flight = Edge(0, 1,  2402.63)\n",
    "flights.append(flight)\n",
    "flight = Edge(0, 2,  4863.65 )\n",
    "flights.append(flight)\n",
    "flight = Edge(1, 2,  3598.83 )\n",
    "flights.append(flight)\n",
    "flight = Edge(2,3, 1107.00 )\n",
    "flights.append(flight)\n",
    "flight = Edge(3,4,  255.40 )\n",
    "flights.append(flight)"
   ]
  },
  {
   "cell_type": "code",
   "execution_count": 7,
   "metadata": {},
   "outputs": [
    {
     "name": "stdout",
     "output_type": "stream",
     "text": [
      "Population on connections between Kiev and Kharkiv is 4235\n"
     ]
    }
   ],
   "source": [
    "#set the connections ur interested in\n",
    "flight= flights[4]\n",
    "\n",
    "citi1_idx = flight.getNode1idx()\n",
    "citi2_idx = flight.getNode2idx()\n",
    "\n",
    "#compute total population\n",
    "total_pop = cities[citi1_idx].getWeight() + cities[citi2_idx].getWeight()\n",
    "print ('Population on connections between {} and {} is {}'.format(cities[citi1_idx].getName(), cities[citi2_idx].getName(), total_pop))\n"
   ]
  },
  {
   "cell_type": "markdown",
   "metadata": {},
   "source": [
    "Using index makes it easier to find the cities, we can jump right to the cities.  \n",
    "This is a constant time operation O(1) - takes the same time no matter how many cities in the list.  \n",
    "Downside: the list of cities must remain unchanged.  \n",
    "Restriction: need to know the index of each city in the list when we set up the edge.  \n",
    "\n",
    "Indirection - using an index to refer to an item instead of the items' name or value.  Very common, i.e. a dictionary.\n",
    "#### Bottom line: Global list is optimized for looking at edges"
   ]
  },
  {
   "cell_type": "code",
   "execution_count": null,
   "metadata": {},
   "outputs": [],
   "source": []
  },
  {
   "cell_type": "markdown",
   "metadata": {},
   "source": [
    "### 2. Adjacency List\n",
    "\n",
    "Keep a list of edges in each node. \n",
    "\n",
    "Is useful in most typical graph operations, I.e. airline connections, social networks, etc. \n",
    "\n",
    "Works well because most graph algorithms are already designed to work just looking at one node at a time and its neighbors.  \n",
    "\n",
    "\n",
    "Let's say want to take a city and find all the connections of that city.  \n",
    "A painful operation in global approach - have to go thru the list of edges trying to find the edges that have our city as either first or second city in the edge.  \n",
    "\n",
    "Instead of keeping a global list of all edges in the graph, let's keep a local list of the edges for each node. Each node will keep track of all the edges connected to it.  In this case, it's just one list.  "
   ]
  },
  {
   "cell_type": "code",
   "execution_count": 8,
   "metadata": {},
   "outputs": [],
   "source": [
    "#create classes Node and Edge\n",
    "\n",
    "# -----------------------------------------------------------------------------------------------------------\n",
    "# class: Node\n",
    "# member variables: name, weight, edges[]\n",
    "# getters: getName(), getWeight(), getEdges()\n",
    "# setters: addNeighbor(neighbor_idx, weight=0)\n",
    "# -----------------------------------------------------------------------------------------------------------\n",
    "\n",
    "class Node:\n",
    "    def __init__(self, name, weight):\n",
    "        self._name = name\n",
    "        self._weight = weight\n",
    "        self._edges = []\n",
    "        \n",
    "    #define getters\n",
    "    def getName(self):\n",
    "        return self._name\n",
    "    def getWeight(self):\n",
    "        return self._weight\n",
    "    def getEdges(self):\n",
    "        return self._edges\n",
    "    \n",
    "    #define setters\n",
    "    def addNeighbor(self, neighbor_idx, weight=0):\n",
    "        edge = Edge(neighbor_idx, weight)\n",
    "        self._edges.append(edge)\n",
    "        #for bi-directional\n",
    "        \n",
    "# -----------------------------------------------------------------------------------------------------------\n",
    "# class: Edge\n",
    "# member variables: neighbor_idx, weight\n",
    "# getters: getNeighborIdx(), getWeight()\n",
    "# setters: none\n",
    "# -----------------------------------------------------------------------------------------------------------\n",
    "       \n",
    "class Edge:\n",
    "    def __init__(self,neighbor_idx,weight=0):\n",
    "        self._neighbor_idx=neighbor_idx\n",
    "        self._weight=weight\n",
    "        \n",
    "    #define getters\n",
    "    def getNeighborIdx(self):\n",
    "        return self._neighbor_idx\n",
    "    def getWeight(self):\n",
    "        return self._weight"
   ]
  },
  {
   "cell_type": "code",
   "execution_count": 9,
   "metadata": {},
   "outputs": [],
   "source": [
    "#create a function to add Flights\n",
    "#for bi-directional edges, have to do it twice for each edge\n",
    "\n",
    "# -----------------------------------------------------------------------------------------------------------\n",
    "# function: addFlight\n",
    "# input: indices of two cities and distance between them\n",
    "# output: doesn't return a value\n",
    "# action: adds edges to each corresponding node => creates bi-directional edges\n",
    "# -----------------------------------------------------------------------------------------------------------\n",
    "\n",
    "def addFlight(city1_idx, city2_idx, distance=0):\n",
    "    #add 2 edges for each flight\n",
    "    cities[city1_idx].addNeighbor(city2_idx, distance)\n",
    "    cities[city2_idx].addNeighbor(city1_idx, distance)\n",
    "            "
   ]
  },
  {
   "cell_type": "code",
   "execution_count": 10,
   "metadata": {},
   "outputs": [],
   "source": [
    "#setup\n",
    "cities=[]\n",
    "\n",
    "#create nodes: cities with population in 1K units\n",
    "city = Node('Seattle',705)\n",
    "cities.append(city)\n",
    "city = Node('New York',8538)\n",
    "cities.append(city)\n",
    "city = Node('Amsterdam',593)\n",
    "cities.append(city)\n",
    "city = Node('Kiev',2804)\n",
    "cities.append(city)\n",
    "city = Node('Kharkiv',1431)\n",
    "cities.append(city)\n",
    "#print(cities[0].getName())\n",
    "\n",
    "\n",
    "#create edges: connections with air miles\n",
    "addFlight(0,1,2402.63)\n",
    "addFlight(0,2,4863.65)\n",
    "addFlight(1,2,3598.83)\n",
    "addFlight(2,3,1107.00)\n",
    "addFlight(3,4,255.40)\n"
   ]
  },
  {
   "cell_type": "markdown",
   "metadata": {},
   "source": [
    "Now it works bi-directionally - adding two edges to relevant nodes every time a flight is created."
   ]
  },
  {
   "cell_type": "code",
   "execution_count": 11,
   "metadata": {},
   "outputs": [
    {
     "name": "stdout",
     "output_type": "stream",
     "text": [
      "Flights from Amsterdam\n",
      "to Seattle 4863.65 miles\n",
      "to New York 3598.83 miles\n",
      "to Kiev 1107.0 miles\n"
     ]
    }
   ],
   "source": [
    "#set the city ur interested and see all of its connections\n",
    "city_idx = 2\n",
    "city_flights = cities[city_idx].getEdges()\n",
    "print ('Flights from {}'.format(cities[city_idx].getName()))\n",
    "for f in city_flights:\n",
    "    neighbor_idx = f.getNeighborIdx()\n",
    "    print ('to {} {} miles'.format(cities[neighbor_idx].getName(), f.getWeight()))\n"
   ]
  },
  {
   "cell_type": "code",
   "execution_count": 12,
   "metadata": {},
   "outputs": [
    {
     "name": "stdout",
     "output_type": "stream",
     "text": [
      "\n",
      "from  Seattle to  New York\n",
      "flight distance (air miles):  2402.63\n",
      "from  Seattle to  Amsterdam\n",
      "flight distance (air miles):  4863.65\n",
      "\n",
      "from  New York to  Seattle\n",
      "flight distance (air miles):  2402.63\n",
      "from  New York to  Amsterdam\n",
      "flight distance (air miles):  3598.83\n",
      "\n",
      "from  Amsterdam to  Seattle\n",
      "flight distance (air miles):  4863.65\n",
      "from  Amsterdam to  New York\n",
      "flight distance (air miles):  3598.83\n",
      "from  Amsterdam to  Kiev\n",
      "flight distance (air miles):  1107.0\n",
      "\n",
      "from  Kiev to  Amsterdam\n",
      "flight distance (air miles):  1107.0\n",
      "from  Kiev to  Kharkiv\n",
      "flight distance (air miles):  255.4\n",
      "\n",
      "from  Kharkiv to  Kiev\n",
      "flight distance (air miles):  255.4\n"
     ]
    }
   ],
   "source": [
    "#see all connections\n",
    "#bi-directional\n",
    "for c in cities:\n",
    "    print('')\n",
    "    #print(c.getWeight(), \"million people\")\n",
    "    \n",
    "    flights = c.getEdges()\n",
    "    if len(flights) > 0: \n",
    "        for flight in flights:\n",
    "            neighbor_idx = flight.getNeighborIdx()\n",
    "            print('from ', c.getName(), 'to ', cities[neighbor_idx].getName())\n",
    "            print('flight distance (air miles): ', flight.getWeight())\n",
    "    else:\n",
    "        print ('from ', c.getName(),': no flights')\n",
    "\n"
   ]
  },
  {
   "cell_type": "markdown",
   "metadata": {},
   "source": [
    "### 3. Adjacency matrix \n",
    "\n",
    "Instead of list, there are matrix entities that note which nodes are connected.   \n",
    "\n",
    "Useful for operations where u need to quickly run over many diff values or perform certain computations that can be expressed using linear algebra. \n",
    "\n",
    "The most compact form of a graph, especially with many edges.  this is a key factor when graphs are huge. And it's the fastest representation if u need to check whether a particaluar pair of cities is connected.\n",
    "\n",
    "Note: no code implemented in this part."
   ]
  },
  {
   "cell_type": "markdown",
   "metadata": {},
   "source": [
    "### Usefulness Summary\n",
    "\n",
    "Global – Most useful if need to regularly look at all of the edges. \n",
    "\n",
    "Adjacency list - useful in most typical graph operations, I.e. airline connections, social networks, etc. \n",
    "Works well because most graph algorithms are already designed to work just looking at one node at a time and its neighbors.  \n",
    "\n",
    "Adjecency matrix - Useful for operations where u need to quickly run over many diff values or perform certain computations that can be expressed using linear algebra.  The most compact form of a graph, especially with many edges.  the fastest representation if u need to check whether a particaluar pair of cities is connected."
   ]
  },
  {
   "cell_type": "code",
   "execution_count": null,
   "metadata": {},
   "outputs": [],
   "source": []
  }
 ],
 "metadata": {
  "kernelspec": {
   "display_name": "Python 3",
   "language": "python",
   "name": "python3"
  },
  "language_info": {
   "codemirror_mode": {
    "name": "ipython",
    "version": 3
   },
   "file_extension": ".py",
   "mimetype": "text/x-python",
   "name": "python",
   "nbconvert_exporter": "python",
   "pygments_lexer": "ipython3",
   "version": "3.6.5"
  }
 },
 "nbformat": 4,
 "nbformat_minor": 2
}
