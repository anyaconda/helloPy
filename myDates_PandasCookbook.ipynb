{
 "cells": [
  {
   "cell_type": "markdown",
   "metadata": {},
   "source": [
    "## Dates in Python\n",
    "book Pandas Cookbook  \n",
    "Chapter 'Time Series Analysis'\n",
    "\n",
    "### Understanding the difference between Python and pandas date tools"
   ]
  },
  {
   "cell_type": "code",
   "execution_count": 2,
   "metadata": {},
   "outputs": [],
   "source": [
    "import datetime #for python dates\n",
    "import pandas as pd #for pandas and pd dates"
   ]
  },
  {
   "cell_type": "code",
   "execution_count": 10,
   "metadata": {},
   "outputs": [
    {
     "name": "stdout",
     "output_type": "stream",
     "text": [
      "date is  2013-06-07 <class 'datetime.date'>\n",
      "datetime is 2013-06-07 12:30:19.463198 <class 'datetime.datetime'>\n"
     ]
    }
   ],
   "source": [
    "#python\n",
    "date = datetime.date(year=2013, month=6, day=7)\n",
    "dt = datetime.datetime(year=2013, month=6, day=7, \n",
    "                       hour=12, minute=30, second=19, microsecond=463198)\n",
    "\n",
    "print(\"date is \", date, type(date))\n",
    "print(\"datetime is\", dt, type(dt))"
   ]
  },
  {
   "cell_type": "code",
   "execution_count": 13,
   "metadata": {},
   "outputs": [
    {
     "name": "stdout",
     "output_type": "stream",
     "text": [
      "2016-01-10 00:00:00 <class 'pandas._libs.tslibs.timestamps.Timestamp'>\n",
      "2016-01-05 05:34:43.123456789 <class 'pandas._libs.tslibs.timestamps.Timestamp'>\n",
      "1970-01-01 00:00:00.000000365 <class 'pandas._libs.tslibs.timestamps.Timestamp'>\n",
      "1971-01-01 00:00:00 <class 'pandas._libs.tslibs.timestamps.Timestamp'>\n"
     ]
    }
   ],
   "source": [
    "#pandas\n",
    "#flexible constructor, handles a wide variety of inputs\n",
    "date = pd.Timestamp('2016/1/10')\n",
    "date2 = pd.Timestamp('Jan 3, 2019 20:45.56')\n",
    "date3 = pd.Timestamp('2019-01-03 20:45:33')\n",
    "date4 = pd.Timestamp('2016-01-05T05:34:43.123456789')\n",
    "date5 = pd.Timestamp(365)\n",
    "date6 = pd.Timestamp(365, unit='D')\n",
    "\n",
    "print(date, type(date))\n",
    "print(date4, type(date4))\n",
    "print(date5, type(date5))\n",
    "print(date6, type(date6))"
   ]
  },
  {
   "cell_type": "code",
   "execution_count": 14,
   "metadata": {},
   "outputs": [
    {
     "name": "stdout",
     "output_type": "stream",
     "text": [
      "2015-05-13 00:00:00 <class 'pandas._libs.tslibs.timestamps.Timestamp'>\n"
     ]
    }
   ],
   "source": [
    "#pandas to_datetime funcion \n",
    "#works similarly to Timestamp constructor but comes w/ more params for special situations\n",
    "date = pd.to_datetime('2015-5-13')\n",
    "print (date, type(date))"
   ]
  },
  {
   "cell_type": "code",
   "execution_count": 17,
   "metadata": {},
   "outputs": [
    {
     "name": "stdout",
     "output_type": "stream",
     "text": [
      "0   1970-01-11\n",
      "1   1970-01-21\n",
      "2   1970-04-11\n",
      "3   1970-07-20\n",
      "dtype: datetime64[ns]\n"
     ]
    }
   ],
   "source": [
    "#most useful with series and dataframes\n",
    "s = pd.Series([10,20,100,200])\n",
    "print(pd.to_datetime(s, unit='D'))"
   ]
  },
  {
   "cell_type": "code",
   "execution_count": null,
   "metadata": {},
   "outputs": [],
   "source": [
    "#the rest of section on time delta\n",
    "#done with section"
   ]
  }
 ],
 "metadata": {
  "kernelspec": {
   "display_name": "Python 3",
   "language": "python",
   "name": "python3"
  },
  "language_info": {
   "codemirror_mode": {
    "name": "ipython",
    "version": 3
   },
   "file_extension": ".py",
   "mimetype": "text/x-python",
   "name": "python",
   "nbconvert_exporter": "python",
   "pygments_lexer": "ipython3",
   "version": "3.6.5"
  }
 },
 "nbformat": 4,
 "nbformat_minor": 2
}
