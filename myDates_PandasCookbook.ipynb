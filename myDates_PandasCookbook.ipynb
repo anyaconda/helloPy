{
 "cells": [
  {
   "cell_type": "markdown",
   "metadata": {},
   "source": [
    "## Dates in Python\n",
    "book Pandas Cookbook  \n",
    "Chapter 10 'Time Series Analysis'\n",
    "\n",
    "### 10.1 Understanding the difference between Python and pandas date tools"
   ]
  },
  {
   "cell_type": "code",
   "execution_count": 137,
   "metadata": {},
   "outputs": [],
   "source": [
    "import datetime #for python dates\n",
    "import pandas as pd #for pandas and pd dates\n",
    "%matplotlib inline"
   ]
  },
  {
   "cell_type": "code",
   "execution_count": 138,
   "metadata": {},
   "outputs": [
    {
     "name": "stdout",
     "output_type": "stream",
     "text": [
      "date is  2013-06-07 <class 'datetime.date'>\n",
      "datetime is 2013-06-07 12:30:19.463198 <class 'datetime.datetime'>\n"
     ]
    }
   ],
   "source": [
    "#python\n",
    "date = datetime.date(year=2013, month=6, day=7)\n",
    "dt = datetime.datetime(year=2013, month=6, day=7, \n",
    "                       hour=12, minute=30, second=19, microsecond=463198)\n",
    "\n",
    "print(\"date is \", date, type(date))\n",
    "print(\"datetime is\", dt, type(dt))"
   ]
  },
  {
   "cell_type": "code",
   "execution_count": 139,
   "metadata": {},
   "outputs": [
    {
     "name": "stdout",
     "output_type": "stream",
     "text": [
      "2016-01-10 00:00:00 <class 'pandas._libs.tslibs.timestamps.Timestamp'>\n",
      "2016-01-05 05:34:43.123456789 <class 'pandas._libs.tslibs.timestamps.Timestamp'>\n",
      "1970-01-01 00:00:00.000000365 <class 'pandas._libs.tslibs.timestamps.Timestamp'>\n",
      "1971-01-01 00:00:00 <class 'pandas._libs.tslibs.timestamps.Timestamp'>\n"
     ]
    }
   ],
   "source": [
    "#pandas\n",
    "#flexible constructor, handles a wide variety of inputs\n",
    "date = pd.Timestamp('2016/1/10')\n",
    "date2 = pd.Timestamp('Jan 3, 2019 20:45.56')\n",
    "date3 = pd.Timestamp('2019-01-03 20:45:33')\n",
    "date4 = pd.Timestamp('2016-01-05T05:34:43.123456789')\n",
    "date5 = pd.Timestamp(365)\n",
    "date6 = pd.Timestamp(365, unit='D')\n",
    "\n",
    "print(date, type(date))\n",
    "print(date4, type(date4))\n",
    "print(date5, type(date5))\n",
    "print(date6, type(date6))"
   ]
  },
  {
   "cell_type": "code",
   "execution_count": 140,
   "metadata": {},
   "outputs": [
    {
     "name": "stdout",
     "output_type": "stream",
     "text": [
      "2015-05-13 00:00:00 <class 'pandas._libs.tslibs.timestamps.Timestamp'>\n"
     ]
    }
   ],
   "source": [
    "#pandas to_datetime funcion \n",
    "#works similarly to Timestamp constructor but comes w/ more params for special situations\n",
    "date = pd.to_datetime('2015-5-13')\n",
    "print (date, type(date))"
   ]
  },
  {
   "cell_type": "code",
   "execution_count": 141,
   "metadata": {},
   "outputs": [
    {
     "name": "stdout",
     "output_type": "stream",
     "text": [
      "0   1970-01-11\n",
      "1   1970-01-21\n",
      "2   1970-04-11\n",
      "3   1970-07-20\n",
      "dtype: datetime64[ns]\n"
     ]
    }
   ],
   "source": [
    "#most useful with series and dataframes\n",
    "s = pd.Series([10,20,100,200])\n",
    "print(pd.to_datetime(s, unit='D'))"
   ]
  },
  {
   "cell_type": "code",
   "execution_count": 142,
   "metadata": {},
   "outputs": [],
   "source": [
    "#the rest of section on time delta\n",
    "#done with section"
   ]
  },
  {
   "cell_type": "markdown",
   "metadata": {},
   "source": [
    "### 10.2 Slicing time series intelligently\n",
    "Refer to Ch.4 Selecting Subsets of Data\n",
    "\n",
    "Dataframes with DatetimeIndex => more opportunities for selection and slicing.\n",
    "\n",
    "In this recipe, use partial date matching to select and slice a df with a DatetimeIndex."
   ]
  },
  {
   "cell_type": "code",
   "execution_count": 143,
   "metadata": {},
   "outputs": [
    {
     "data": {
      "text/plain": [
       "OFFENSE_TYPE_ID              category\n",
       "OFFENSE_CATEGORY_ID          category\n",
       "REPORTED_DATE          datetime64[ns]\n",
       "                            ...      \n",
       "NEIGHBORHOOD_ID              category\n",
       "IS_CRIME                        int64\n",
       "IS_TRAFFIC                      int64\n",
       "Length: 8, dtype: object"
      ]
     },
     "execution_count": 143,
     "metadata": {},
     "output_type": "execute_result"
    }
   ],
   "source": [
    "crime = pd.read_hdf('data/bookPandasCookbook/crime.h5', 'crime')\n",
    "crime.dtypes"
   ]
  },
  {
   "cell_type": "markdown",
   "metadata": {},
   "source": [
    "Notice categorical columns and a Timestamp (NumPy's datetime64 object).  Unlike CSV which only stores raw text, hdf5 format allows efficient storage of large scientific data, including storing data types. \n",
    "\n",
    "Set the datetime column as the index in order to make intelligent Timestamp slicing."
   ]
  },
  {
   "cell_type": "code",
   "execution_count": 144,
   "metadata": {},
   "outputs": [
    {
     "data": {
      "text/html": [
       "<div>\n",
       "<style scoped>\n",
       "    .dataframe tbody tr th:only-of-type {\n",
       "        vertical-align: middle;\n",
       "    }\n",
       "\n",
       "    .dataframe tbody tr th {\n",
       "        vertical-align: top;\n",
       "    }\n",
       "\n",
       "    .dataframe thead th {\n",
       "        text-align: right;\n",
       "    }\n",
       "</style>\n",
       "<table border=\"1\" class=\"dataframe\">\n",
       "  <thead>\n",
       "    <tr style=\"text-align: right;\">\n",
       "      <th></th>\n",
       "      <th>OFFENSE_TYPE_ID</th>\n",
       "      <th>OFFENSE_CATEGORY_ID</th>\n",
       "      <th>GEO_LON</th>\n",
       "      <th>GEO_LAT</th>\n",
       "      <th>NEIGHBORHOOD_ID</th>\n",
       "      <th>IS_CRIME</th>\n",
       "      <th>IS_TRAFFIC</th>\n",
       "    </tr>\n",
       "    <tr>\n",
       "      <th>REPORTED_DATE</th>\n",
       "      <th></th>\n",
       "      <th></th>\n",
       "      <th></th>\n",
       "      <th></th>\n",
       "      <th></th>\n",
       "      <th></th>\n",
       "      <th></th>\n",
       "    </tr>\n",
       "  </thead>\n",
       "  <tbody>\n",
       "    <tr>\n",
       "      <th>2014-06-29 02:01:00</th>\n",
       "      <td>traffic-accident-dui-duid</td>\n",
       "      <td>traffic-accident</td>\n",
       "      <td>-105.000149</td>\n",
       "      <td>39.745753</td>\n",
       "      <td>cbd</td>\n",
       "      <td>0</td>\n",
       "      <td>1</td>\n",
       "    </tr>\n",
       "    <tr>\n",
       "      <th>2014-06-29 01:54:00</th>\n",
       "      <td>vehicular-eluding-no-chase</td>\n",
       "      <td>all-other-crimes</td>\n",
       "      <td>-104.884660</td>\n",
       "      <td>39.738702</td>\n",
       "      <td>east-colfax</td>\n",
       "      <td>1</td>\n",
       "      <td>0</td>\n",
       "    </tr>\n",
       "    <tr>\n",
       "      <th>2014-06-29 02:00:00</th>\n",
       "      <td>disturbing-the-peace</td>\n",
       "      <td>public-disorder</td>\n",
       "      <td>-105.020719</td>\n",
       "      <td>39.706674</td>\n",
       "      <td>athmar-park</td>\n",
       "      <td>1</td>\n",
       "      <td>0</td>\n",
       "    </tr>\n",
       "    <tr>\n",
       "      <th>2014-06-29 02:18:00</th>\n",
       "      <td>curfew</td>\n",
       "      <td>public-disorder</td>\n",
       "      <td>-105.001552</td>\n",
       "      <td>39.769505</td>\n",
       "      <td>sunnyside</td>\n",
       "      <td>1</td>\n",
       "      <td>0</td>\n",
       "    </tr>\n",
       "    <tr>\n",
       "      <th>2014-06-29 04:17:00</th>\n",
       "      <td>aggravated-assault</td>\n",
       "      <td>aggravated-assault</td>\n",
       "      <td>-105.018557</td>\n",
       "      <td>39.679229</td>\n",
       "      <td>college-view-south-platte</td>\n",
       "      <td>1</td>\n",
       "      <td>0</td>\n",
       "    </tr>\n",
       "  </tbody>\n",
       "</table>\n",
       "</div>"
      ],
      "text/plain": [
       "                                OFFENSE_TYPE_ID OFFENSE_CATEGORY_ID  \\\n",
       "REPORTED_DATE                                                         \n",
       "2014-06-29 02:01:00   traffic-accident-dui-duid    traffic-accident   \n",
       "2014-06-29 01:54:00  vehicular-eluding-no-chase    all-other-crimes   \n",
       "2014-06-29 02:00:00        disturbing-the-peace     public-disorder   \n",
       "2014-06-29 02:18:00                      curfew     public-disorder   \n",
       "2014-06-29 04:17:00          aggravated-assault  aggravated-assault   \n",
       "\n",
       "                        GEO_LON    GEO_LAT            NEIGHBORHOOD_ID  \\\n",
       "REPORTED_DATE                                                           \n",
       "2014-06-29 02:01:00 -105.000149  39.745753                        cbd   \n",
       "2014-06-29 01:54:00 -104.884660  39.738702                east-colfax   \n",
       "2014-06-29 02:00:00 -105.020719  39.706674                athmar-park   \n",
       "2014-06-29 02:18:00 -105.001552  39.769505                  sunnyside   \n",
       "2014-06-29 04:17:00 -105.018557  39.679229  college-view-south-platte   \n",
       "\n",
       "                     IS_CRIME  IS_TRAFFIC  \n",
       "REPORTED_DATE                              \n",
       "2014-06-29 02:01:00         0           1  \n",
       "2014-06-29 01:54:00         1           0  \n",
       "2014-06-29 02:00:00         1           0  \n",
       "2014-06-29 02:18:00         1           0  \n",
       "2014-06-29 04:17:00         1           0  "
      ]
     },
     "execution_count": 144,
     "metadata": {},
     "output_type": "execute_result"
    }
   ],
   "source": [
    "crime = crime.set_index('REPORTED_DATE')\n",
    "crime.head()"
   ]
  },
  {
   "cell_type": "code",
   "execution_count": 145,
   "metadata": {},
   "outputs": [
    {
     "data": {
      "text/html": [
       "<div>\n",
       "<style scoped>\n",
       "    .dataframe tbody tr th:only-of-type {\n",
       "        vertical-align: middle;\n",
       "    }\n",
       "\n",
       "    .dataframe tbody tr th {\n",
       "        vertical-align: top;\n",
       "    }\n",
       "\n",
       "    .dataframe thead th {\n",
       "        text-align: right;\n",
       "    }\n",
       "</style>\n",
       "<table border=\"1\" class=\"dataframe\">\n",
       "  <thead>\n",
       "    <tr style=\"text-align: right;\">\n",
       "      <th></th>\n",
       "      <th>OFFENSE_TYPE_ID</th>\n",
       "      <th>OFFENSE_CATEGORY_ID</th>\n",
       "      <th>GEO_LON</th>\n",
       "      <th>GEO_LAT</th>\n",
       "      <th>NEIGHBORHOOD_ID</th>\n",
       "      <th>IS_CRIME</th>\n",
       "      <th>IS_TRAFFIC</th>\n",
       "    </tr>\n",
       "    <tr>\n",
       "      <th>REPORTED_DATE</th>\n",
       "      <th></th>\n",
       "      <th></th>\n",
       "      <th></th>\n",
       "      <th></th>\n",
       "      <th></th>\n",
       "      <th></th>\n",
       "      <th></th>\n",
       "    </tr>\n",
       "  </thead>\n",
       "  <tbody>\n",
       "    <tr>\n",
       "      <th>2016-05-12 16:45:00</th>\n",
       "      <td>traffic-accident</td>\n",
       "      <td>traffic-accident</td>\n",
       "      <td>-104.847024</td>\n",
       "      <td>39.779596</td>\n",
       "      <td>montbello</td>\n",
       "      <td>0</td>\n",
       "      <td>1</td>\n",
       "    </tr>\n",
       "    <tr>\n",
       "      <th>2016-05-12 16:45:00</th>\n",
       "      <td>traffic-accident</td>\n",
       "      <td>traffic-accident</td>\n",
       "      <td>-105.049180</td>\n",
       "      <td>39.769296</td>\n",
       "      <td>west-highland</td>\n",
       "      <td>0</td>\n",
       "      <td>1</td>\n",
       "    </tr>\n",
       "    <tr>\n",
       "      <th>2016-05-12 16:45:00</th>\n",
       "      <td>fraud-identity-theft</td>\n",
       "      <td>white-collar-crime</td>\n",
       "      <td>-104.931971</td>\n",
       "      <td>39.717359</td>\n",
       "      <td>hilltop</td>\n",
       "      <td>1</td>\n",
       "      <td>0</td>\n",
       "    </tr>\n",
       "  </tbody>\n",
       "</table>\n",
       "</div>"
      ],
      "text/plain": [
       "                          OFFENSE_TYPE_ID OFFENSE_CATEGORY_ID     GEO_LON  \\\n",
       "REPORTED_DATE                                                               \n",
       "2016-05-12 16:45:00      traffic-accident    traffic-accident -104.847024   \n",
       "2016-05-12 16:45:00      traffic-accident    traffic-accident -105.049180   \n",
       "2016-05-12 16:45:00  fraud-identity-theft  white-collar-crime -104.931971   \n",
       "\n",
       "                       GEO_LAT NEIGHBORHOOD_ID  IS_CRIME  IS_TRAFFIC  \n",
       "REPORTED_DATE                                                         \n",
       "2016-05-12 16:45:00  39.779596       montbello         0           1  \n",
       "2016-05-12 16:45:00  39.769296   west-highland         0           1  \n",
       "2016-05-12 16:45:00  39.717359         hilltop         1           0  "
      ]
     },
     "execution_count": 145,
     "metadata": {},
     "output_type": "execute_result"
    }
   ],
   "source": [
    "#select rows by index\n",
    "crime.loc['2016-05-12 16:45:00']"
   ]
  },
  {
   "cell_type": "code",
   "execution_count": 146,
   "metadata": {},
   "outputs": [
    {
     "data": {
      "text/html": [
       "<div>\n",
       "<style scoped>\n",
       "    .dataframe tbody tr th:only-of-type {\n",
       "        vertical-align: middle;\n",
       "    }\n",
       "\n",
       "    .dataframe tbody tr th {\n",
       "        vertical-align: top;\n",
       "    }\n",
       "\n",
       "    .dataframe thead th {\n",
       "        text-align: right;\n",
       "    }\n",
       "</style>\n",
       "<table border=\"1\" class=\"dataframe\">\n",
       "  <thead>\n",
       "    <tr style=\"text-align: right;\">\n",
       "      <th></th>\n",
       "      <th>OFFENSE_TYPE_ID</th>\n",
       "      <th>OFFENSE_CATEGORY_ID</th>\n",
       "      <th>GEO_LON</th>\n",
       "      <th>GEO_LAT</th>\n",
       "      <th>NEIGHBORHOOD_ID</th>\n",
       "      <th>IS_CRIME</th>\n",
       "      <th>IS_TRAFFIC</th>\n",
       "    </tr>\n",
       "    <tr>\n",
       "      <th>REPORTED_DATE</th>\n",
       "      <th></th>\n",
       "      <th></th>\n",
       "      <th></th>\n",
       "      <th></th>\n",
       "      <th></th>\n",
       "      <th></th>\n",
       "      <th></th>\n",
       "    </tr>\n",
       "  </thead>\n",
       "  <tbody>\n",
       "    <tr>\n",
       "      <th>2016-05-12 23:51:00</th>\n",
       "      <td>criminal-mischief-other</td>\n",
       "      <td>public-disorder</td>\n",
       "      <td>-105.017241</td>\n",
       "      <td>39.705845</td>\n",
       "      <td>athmar-park</td>\n",
       "      <td>1</td>\n",
       "      <td>0</td>\n",
       "    </tr>\n",
       "    <tr>\n",
       "      <th>2016-05-12 18:40:00</th>\n",
       "      <td>liquor-possession</td>\n",
       "      <td>drug-alcohol</td>\n",
       "      <td>-104.995692</td>\n",
       "      <td>39.747875</td>\n",
       "      <td>cbd</td>\n",
       "      <td>1</td>\n",
       "      <td>0</td>\n",
       "    </tr>\n",
       "    <tr>\n",
       "      <th>2016-05-12 22:26:00</th>\n",
       "      <td>traffic-accident</td>\n",
       "      <td>traffic-accident</td>\n",
       "      <td>-104.880037</td>\n",
       "      <td>39.777037</td>\n",
       "      <td>stapleton</td>\n",
       "      <td>0</td>\n",
       "      <td>1</td>\n",
       "    </tr>\n",
       "    <tr>\n",
       "      <th>2016-05-12 20:35:00</th>\n",
       "      <td>theft-bicycle</td>\n",
       "      <td>larceny</td>\n",
       "      <td>-104.929350</td>\n",
       "      <td>39.763797</td>\n",
       "      <td>northeast-park-hill</td>\n",
       "      <td>1</td>\n",
       "      <td>0</td>\n",
       "    </tr>\n",
       "    <tr>\n",
       "      <th>2016-05-12 09:39:00</th>\n",
       "      <td>theft-of-motor-vehicle</td>\n",
       "      <td>auto-theft</td>\n",
       "      <td>-104.941233</td>\n",
       "      <td>39.775510</td>\n",
       "      <td>elyria-swansea</td>\n",
       "      <td>1</td>\n",
       "      <td>0</td>\n",
       "    </tr>\n",
       "  </tbody>\n",
       "</table>\n",
       "</div>"
      ],
      "text/plain": [
       "                             OFFENSE_TYPE_ID OFFENSE_CATEGORY_ID     GEO_LON  \\\n",
       "REPORTED_DATE                                                                  \n",
       "2016-05-12 23:51:00  criminal-mischief-other     public-disorder -105.017241   \n",
       "2016-05-12 18:40:00        liquor-possession        drug-alcohol -104.995692   \n",
       "2016-05-12 22:26:00         traffic-accident    traffic-accident -104.880037   \n",
       "2016-05-12 20:35:00            theft-bicycle             larceny -104.929350   \n",
       "2016-05-12 09:39:00   theft-of-motor-vehicle          auto-theft -104.941233   \n",
       "\n",
       "                       GEO_LAT      NEIGHBORHOOD_ID  IS_CRIME  IS_TRAFFIC  \n",
       "REPORTED_DATE                                                              \n",
       "2016-05-12 23:51:00  39.705845          athmar-park         1           0  \n",
       "2016-05-12 18:40:00  39.747875                  cbd         1           0  \n",
       "2016-05-12 22:26:00  39.777037            stapleton         0           1  \n",
       "2016-05-12 20:35:00  39.763797  northeast-park-hill         1           0  \n",
       "2016-05-12 09:39:00  39.775510       elyria-swansea         1           0  "
      ]
     },
     "execution_count": 146,
     "metadata": {},
     "output_type": "execute_result"
    }
   ],
   "source": [
    "#select rows that partially match an index value\n",
    "crime.loc['2016-05-12'].head()"
   ]
  },
  {
   "cell_type": "code",
   "execution_count": 147,
   "metadata": {},
   "outputs": [
    {
     "data": {
      "text/plain": [
       "(4, 7)"
      ]
     },
     "execution_count": 147,
     "metadata": {},
     "output_type": "execute_result"
    }
   ],
   "source": [
    "#select by month, year, hour of the day, ...\n",
    "crime.loc['2016-05'].shape\n",
    "crime.loc['2016'].shape\n",
    "crime.loc['2016-05-12 03'].shape"
   ]
  },
  {
   "cell_type": "code",
   "execution_count": 148,
   "metadata": {},
   "outputs": [
    {
     "data": {
      "text/html": [
       "<div>\n",
       "<style scoped>\n",
       "    .dataframe tbody tr th:only-of-type {\n",
       "        vertical-align: middle;\n",
       "    }\n",
       "\n",
       "    .dataframe tbody tr th {\n",
       "        vertical-align: top;\n",
       "    }\n",
       "\n",
       "    .dataframe thead th {\n",
       "        text-align: right;\n",
       "    }\n",
       "</style>\n",
       "<table border=\"1\" class=\"dataframe\">\n",
       "  <thead>\n",
       "    <tr style=\"text-align: right;\">\n",
       "      <th></th>\n",
       "      <th>OFFENSE_TYPE_ID</th>\n",
       "      <th>OFFENSE_CATEGORY_ID</th>\n",
       "      <th>GEO_LON</th>\n",
       "      <th>GEO_LAT</th>\n",
       "      <th>NEIGHBORHOOD_ID</th>\n",
       "      <th>IS_CRIME</th>\n",
       "      <th>IS_TRAFFIC</th>\n",
       "    </tr>\n",
       "    <tr>\n",
       "      <th>REPORTED_DATE</th>\n",
       "      <th></th>\n",
       "      <th></th>\n",
       "      <th></th>\n",
       "      <th></th>\n",
       "      <th></th>\n",
       "      <th></th>\n",
       "      <th></th>\n",
       "    </tr>\n",
       "  </thead>\n",
       "  <tbody>\n",
       "    <tr>\n",
       "      <th>2015-12-01 00:48:00</th>\n",
       "      <td>drug-cocaine-possess</td>\n",
       "      <td>drug-alcohol</td>\n",
       "      <td>-104.891681</td>\n",
       "      <td>39.740155</td>\n",
       "      <td>east-colfax</td>\n",
       "      <td>1</td>\n",
       "      <td>0</td>\n",
       "    </tr>\n",
       "    <tr>\n",
       "      <th>2015-12-01 00:48:00</th>\n",
       "      <td>theft-of-motor-vehicle</td>\n",
       "      <td>auto-theft</td>\n",
       "      <td>-104.891681</td>\n",
       "      <td>39.740155</td>\n",
       "      <td>east-colfax</td>\n",
       "      <td>1</td>\n",
       "      <td>0</td>\n",
       "    </tr>\n",
       "    <tr>\n",
       "      <th>2015-12-01 01:00:00</th>\n",
       "      <td>criminal-mischief-other</td>\n",
       "      <td>public-disorder</td>\n",
       "      <td>-104.993574</td>\n",
       "      <td>39.739773</td>\n",
       "      <td>civic-center</td>\n",
       "      <td>1</td>\n",
       "      <td>0</td>\n",
       "    </tr>\n",
       "    <tr>\n",
       "      <th>2015-12-01 01:10:00</th>\n",
       "      <td>traf-other</td>\n",
       "      <td>all-other-crimes</td>\n",
       "      <td>-104.995496</td>\n",
       "      <td>39.725618</td>\n",
       "      <td>baker</td>\n",
       "      <td>1</td>\n",
       "      <td>0</td>\n",
       "    </tr>\n",
       "    <tr>\n",
       "      <th>2015-12-01 01:10:00</th>\n",
       "      <td>traf-habitual-offender</td>\n",
       "      <td>all-other-crimes</td>\n",
       "      <td>-104.995496</td>\n",
       "      <td>39.725618</td>\n",
       "      <td>baker</td>\n",
       "      <td>1</td>\n",
       "      <td>0</td>\n",
       "    </tr>\n",
       "  </tbody>\n",
       "</table>\n",
       "</div>"
      ],
      "text/plain": [
       "                             OFFENSE_TYPE_ID OFFENSE_CATEGORY_ID     GEO_LON  \\\n",
       "REPORTED_DATE                                                                  \n",
       "2015-12-01 00:48:00     drug-cocaine-possess        drug-alcohol -104.891681   \n",
       "2015-12-01 00:48:00   theft-of-motor-vehicle          auto-theft -104.891681   \n",
       "2015-12-01 01:00:00  criminal-mischief-other     public-disorder -104.993574   \n",
       "2015-12-01 01:10:00               traf-other    all-other-crimes -104.995496   \n",
       "2015-12-01 01:10:00   traf-habitual-offender    all-other-crimes -104.995496   \n",
       "\n",
       "                       GEO_LAT NEIGHBORHOOD_ID  IS_CRIME  IS_TRAFFIC  \n",
       "REPORTED_DATE                                                         \n",
       "2015-12-01 00:48:00  39.740155     east-colfax         1           0  \n",
       "2015-12-01 00:48:00  39.740155     east-colfax         1           0  \n",
       "2015-12-01 01:00:00  39.739773    civic-center         1           0  \n",
       "2015-12-01 01:10:00  39.725618           baker         1           0  \n",
       "2015-12-01 01:10:00  39.725618           baker         1           0  "
      ]
     },
     "execution_count": 148,
     "metadata": {},
     "output_type": "execute_result"
    }
   ],
   "source": [
    "#select by the name of the month\n",
    "crime.loc['Dec 2015'].sort_index().head(5)"
   ]
  },
  {
   "cell_type": "code",
   "execution_count": 149,
   "metadata": {},
   "outputs": [
    {
     "data": {
      "text/plain": [
       "(4, 7)"
      ]
     },
     "execution_count": 149,
     "metadata": {},
     "output_type": "execute_result"
    }
   ],
   "source": [
    "#many other patterns work, too\n",
    "crime.loc['2016 Sep, 15'].shape\n",
    "crime.loc['21st October 2014 05'].shape\n"
   ]
  },
  {
   "cell_type": "code",
   "execution_count": 150,
   "metadata": {},
   "outputs": [
    {
     "data": {
      "text/html": [
       "<div>\n",
       "<style scoped>\n",
       "    .dataframe tbody tr th:only-of-type {\n",
       "        vertical-align: middle;\n",
       "    }\n",
       "\n",
       "    .dataframe tbody tr th {\n",
       "        vertical-align: top;\n",
       "    }\n",
       "\n",
       "    .dataframe thead th {\n",
       "        text-align: right;\n",
       "    }\n",
       "</style>\n",
       "<table border=\"1\" class=\"dataframe\">\n",
       "  <thead>\n",
       "    <tr style=\"text-align: right;\">\n",
       "      <th></th>\n",
       "      <th>OFFENSE_TYPE_ID</th>\n",
       "      <th>OFFENSE_CATEGORY_ID</th>\n",
       "      <th>GEO_LON</th>\n",
       "      <th>GEO_LAT</th>\n",
       "      <th>NEIGHBORHOOD_ID</th>\n",
       "      <th>IS_CRIME</th>\n",
       "      <th>IS_TRAFFIC</th>\n",
       "    </tr>\n",
       "    <tr>\n",
       "      <th>REPORTED_DATE</th>\n",
       "      <th></th>\n",
       "      <th></th>\n",
       "      <th></th>\n",
       "      <th></th>\n",
       "      <th></th>\n",
       "      <th></th>\n",
       "      <th></th>\n",
       "    </tr>\n",
       "  </thead>\n",
       "  <tbody>\n",
       "    <tr>\n",
       "      <th>2015-12-31 22:00:00</th>\n",
       "      <td>criminal-trespassing</td>\n",
       "      <td>all-other-crimes</td>\n",
       "      <td>-104.996451</td>\n",
       "      <td>39.742193</td>\n",
       "      <td>cbd</td>\n",
       "      <td>1</td>\n",
       "      <td>0</td>\n",
       "    </tr>\n",
       "    <tr>\n",
       "      <th>2015-12-31 22:03:00</th>\n",
       "      <td>burglary-residence-by-force</td>\n",
       "      <td>burglary</td>\n",
       "      <td>-105.036362</td>\n",
       "      <td>39.704406</td>\n",
       "      <td>westwood</td>\n",
       "      <td>1</td>\n",
       "      <td>0</td>\n",
       "    </tr>\n",
       "    <tr>\n",
       "      <th>2015-12-31 22:08:00</th>\n",
       "      <td>traffic-accident</td>\n",
       "      <td>traffic-accident</td>\n",
       "      <td>-104.973377</td>\n",
       "      <td>39.707490</td>\n",
       "      <td>washington-park-west</td>\n",
       "      <td>0</td>\n",
       "      <td>1</td>\n",
       "    </tr>\n",
       "    <tr>\n",
       "      <th>2015-12-31 22:13:00</th>\n",
       "      <td>traffic-accident</td>\n",
       "      <td>traffic-accident</td>\n",
       "      <td>-104.977386</td>\n",
       "      <td>39.755213</td>\n",
       "      <td>five-points</td>\n",
       "      <td>0</td>\n",
       "      <td>1</td>\n",
       "    </tr>\n",
       "    <tr>\n",
       "      <th>2015-12-31 22:17:00</th>\n",
       "      <td>burglary-residence-by-force</td>\n",
       "      <td>burglary</td>\n",
       "      <td>-104.812777</td>\n",
       "      <td>39.797866</td>\n",
       "      <td>montbello</td>\n",
       "      <td>1</td>\n",
       "      <td>0</td>\n",
       "    </tr>\n",
       "  </tbody>\n",
       "</table>\n",
       "</div>"
      ],
      "text/plain": [
       "                                 OFFENSE_TYPE_ID OFFENSE_CATEGORY_ID  \\\n",
       "REPORTED_DATE                                                          \n",
       "2015-12-31 22:00:00         criminal-trespassing    all-other-crimes   \n",
       "2015-12-31 22:03:00  burglary-residence-by-force            burglary   \n",
       "2015-12-31 22:08:00             traffic-accident    traffic-accident   \n",
       "2015-12-31 22:13:00             traffic-accident    traffic-accident   \n",
       "2015-12-31 22:17:00  burglary-residence-by-force            burglary   \n",
       "\n",
       "                        GEO_LON    GEO_LAT       NEIGHBORHOOD_ID  IS_CRIME  \\\n",
       "REPORTED_DATE                                                                \n",
       "2015-12-31 22:00:00 -104.996451  39.742193                   cbd         1   \n",
       "2015-12-31 22:03:00 -105.036362  39.704406              westwood         1   \n",
       "2015-12-31 22:08:00 -104.973377  39.707490  washington-park-west         0   \n",
       "2015-12-31 22:13:00 -104.977386  39.755213           five-points         0   \n",
       "2015-12-31 22:17:00 -104.812777  39.797866             montbello         1   \n",
       "\n",
       "                     IS_TRAFFIC  \n",
       "REPORTED_DATE                    \n",
       "2015-12-31 22:00:00           0  \n",
       "2015-12-31 22:03:00           0  \n",
       "2015-12-31 22:08:00           1  \n",
       "2015-12-31 22:13:00           1  \n",
       "2015-12-31 22:17:00           0  "
      ]
     },
     "execution_count": 150,
     "metadata": {},
     "output_type": "execute_result"
    }
   ],
   "source": [
    "#select ranges using slice notation\n",
    "crime.loc['2015-3-4':'2016-1-1'].sort_index()\n",
    "crime.loc['2015-12-31 22':'2016-1-1 23:45:00'].sort_index().head()"
   ]
  },
  {
   "cell_type": "markdown",
   "metadata": {},
   "source": [
    "### How it works\n",
    "In order to intelligently select and slice by date using the indexing operator, the index must contain date values.  Then used .loc indexer"
   ]
  },
  {
   "cell_type": "code",
   "execution_count": 151,
   "metadata": {},
   "outputs": [
    {
     "data": {
      "text/plain": [
       "DatetimeIndex(['2014-06-29 02:01:00', '2014-06-29 01:54:00'], dtype='datetime64[ns]', name='REPORTED_DATE', freq=None)"
      ]
     },
     "execution_count": 151,
     "metadata": {},
     "output_type": "execute_result"
    }
   ],
   "source": [
    "crime.index[:2]"
   ]
  },
  {
   "cell_type": "markdown",
   "metadata": {},
   "source": [
    "Sorting the index will lead to large gains in performance"
   ]
  },
  {
   "cell_type": "code",
   "execution_count": 153,
   "metadata": {},
   "outputs": [
    {
     "name": "stdout",
     "output_type": "stream",
     "text": [
      "7.88 ms ± 237 µs per loop (mean ± std. dev. of 7 runs, 100 loops each)\n"
     ]
    }
   ],
   "source": [
    "%timeit crime.loc['2015-3-4':'2016-1-1']"
   ]
  },
  {
   "cell_type": "code",
   "execution_count": 154,
   "metadata": {},
   "outputs": [
    {
     "name": "stdout",
     "output_type": "stream",
     "text": [
      "1.18 ms ± 30.5 µs per loop (mean ± std. dev. of 7 runs, 1000 loops each)\n"
     ]
    }
   ],
   "source": [
    "crime_sort  = crime.sort_index()\n",
    "%timeit crime_sort.loc['2015-3-4':'2016-1-1']"
   ]
  },
  {
   "cell_type": "markdown",
   "metadata": {},
   "source": [
    "### 10.3 Using methods that only work with a DatetimeIndex"
   ]
  },
  {
   "cell_type": "code",
   "execution_count": 155,
   "metadata": {},
   "outputs": [
    {
     "data": {
      "text/html": [
       "<div>\n",
       "<style scoped>\n",
       "    .dataframe tbody tr th:only-of-type {\n",
       "        vertical-align: middle;\n",
       "    }\n",
       "\n",
       "    .dataframe tbody tr th {\n",
       "        vertical-align: top;\n",
       "    }\n",
       "\n",
       "    .dataframe thead th {\n",
       "        text-align: right;\n",
       "    }\n",
       "</style>\n",
       "<table border=\"1\" class=\"dataframe\">\n",
       "  <thead>\n",
       "    <tr style=\"text-align: right;\">\n",
       "      <th></th>\n",
       "      <th>OFFENSE_TYPE_ID</th>\n",
       "      <th>OFFENSE_CATEGORY_ID</th>\n",
       "      <th>GEO_LON</th>\n",
       "      <th>GEO_LAT</th>\n",
       "      <th>NEIGHBORHOOD_ID</th>\n",
       "      <th>IS_CRIME</th>\n",
       "      <th>IS_TRAFFIC</th>\n",
       "    </tr>\n",
       "    <tr>\n",
       "      <th>REPORTED_DATE</th>\n",
       "      <th></th>\n",
       "      <th></th>\n",
       "      <th></th>\n",
       "      <th></th>\n",
       "      <th></th>\n",
       "      <th></th>\n",
       "      <th></th>\n",
       "    </tr>\n",
       "  </thead>\n",
       "  <tbody>\n",
       "    <tr>\n",
       "      <th>2014-06-29 02:01:00</th>\n",
       "      <td>traffic-accident-dui-duid</td>\n",
       "      <td>traffic-accident</td>\n",
       "      <td>-105.000149</td>\n",
       "      <td>39.745753</td>\n",
       "      <td>cbd</td>\n",
       "      <td>0</td>\n",
       "      <td>1</td>\n",
       "    </tr>\n",
       "    <tr>\n",
       "      <th>2014-06-29 02:00:00</th>\n",
       "      <td>disturbing-the-peace</td>\n",
       "      <td>public-disorder</td>\n",
       "      <td>-105.020719</td>\n",
       "      <td>39.706674</td>\n",
       "      <td>athmar-park</td>\n",
       "      <td>1</td>\n",
       "      <td>0</td>\n",
       "    </tr>\n",
       "    <tr>\n",
       "      <th>2014-06-29 02:18:00</th>\n",
       "      <td>curfew</td>\n",
       "      <td>public-disorder</td>\n",
       "      <td>-105.001552</td>\n",
       "      <td>39.769505</td>\n",
       "      <td>sunnyside</td>\n",
       "      <td>1</td>\n",
       "      <td>0</td>\n",
       "    </tr>\n",
       "    <tr>\n",
       "      <th>...</th>\n",
       "      <td>...</td>\n",
       "      <td>...</td>\n",
       "      <td>...</td>\n",
       "      <td>...</td>\n",
       "      <td>...</td>\n",
       "      <td>...</td>\n",
       "      <td>...</td>\n",
       "    </tr>\n",
       "    <tr>\n",
       "      <th>2014-06-23 02:58:00</th>\n",
       "      <td>traf-other</td>\n",
       "      <td>all-other-crimes</td>\n",
       "      <td>-104.987404</td>\n",
       "      <td>39.729095</td>\n",
       "      <td>capitol-hill</td>\n",
       "      <td>1</td>\n",
       "      <td>0</td>\n",
       "    </tr>\n",
       "    <tr>\n",
       "      <th>2014-01-03 02:01:00</th>\n",
       "      <td>criminal-trespassing</td>\n",
       "      <td>all-other-crimes</td>\n",
       "      <td>-104.990480</td>\n",
       "      <td>39.728076</td>\n",
       "      <td>lincoln-park</td>\n",
       "      <td>1</td>\n",
       "      <td>0</td>\n",
       "    </tr>\n",
       "    <tr>\n",
       "      <th>2014-04-14 02:17:00</th>\n",
       "      <td>traffic-accident-hit-and-run</td>\n",
       "      <td>traffic-accident</td>\n",
       "      <td>-104.890325</td>\n",
       "      <td>39.705593</td>\n",
       "      <td>windsor</td>\n",
       "      <td>0</td>\n",
       "      <td>1</td>\n",
       "    </tr>\n",
       "  </tbody>\n",
       "</table>\n",
       "<p>10 rows × 7 columns</p>\n",
       "</div>"
      ],
      "text/plain": [
       "                                  OFFENSE_TYPE_ID OFFENSE_CATEGORY_ID  \\\n",
       "REPORTED_DATE                                                           \n",
       "2014-06-29 02:01:00     traffic-accident-dui-duid    traffic-accident   \n",
       "2014-06-29 02:00:00          disturbing-the-peace     public-disorder   \n",
       "2014-06-29 02:18:00                        curfew     public-disorder   \n",
       "...                                           ...                 ...   \n",
       "2014-06-23 02:58:00                    traf-other    all-other-crimes   \n",
       "2014-01-03 02:01:00          criminal-trespassing    all-other-crimes   \n",
       "2014-04-14 02:17:00  traffic-accident-hit-and-run    traffic-accident   \n",
       "\n",
       "                        GEO_LON    GEO_LAT NEIGHBORHOOD_ID  IS_CRIME  \\\n",
       "REPORTED_DATE                                                          \n",
       "2014-06-29 02:01:00 -105.000149  39.745753             cbd         0   \n",
       "2014-06-29 02:00:00 -105.020719  39.706674     athmar-park         1   \n",
       "2014-06-29 02:18:00 -105.001552  39.769505       sunnyside         1   \n",
       "...                         ...        ...             ...       ...   \n",
       "2014-06-23 02:58:00 -104.987404  39.729095    capitol-hill         1   \n",
       "2014-01-03 02:01:00 -104.990480  39.728076    lincoln-park         1   \n",
       "2014-04-14 02:17:00 -104.890325  39.705593         windsor         0   \n",
       "\n",
       "                     IS_TRAFFIC  \n",
       "REPORTED_DATE                    \n",
       "2014-06-29 02:01:00           1  \n",
       "2014-06-29 02:00:00           0  \n",
       "2014-06-29 02:18:00           0  \n",
       "...                         ...  \n",
       "2014-06-23 02:58:00           0  \n",
       "2014-01-03 02:01:00           0  \n",
       "2014-04-14 02:17:00           1  \n",
       "\n",
       "[10 rows x 7 columns]"
      ]
     },
     "execution_count": 155,
     "metadata": {},
     "output_type": "execute_result"
    }
   ],
   "source": [
    "#select all crimes between hours, regardless of the date\n",
    "crime.between_time('2:00', '3:00', include_end=False).head(10)"
   ]
  },
  {
   "cell_type": "code",
   "execution_count": 156,
   "metadata": {},
   "outputs": [
    {
     "data": {
      "text/html": [
       "<div>\n",
       "<style scoped>\n",
       "    .dataframe tbody tr th:only-of-type {\n",
       "        vertical-align: middle;\n",
       "    }\n",
       "\n",
       "    .dataframe tbody tr th {\n",
       "        vertical-align: top;\n",
       "    }\n",
       "\n",
       "    .dataframe thead th {\n",
       "        text-align: right;\n",
       "    }\n",
       "</style>\n",
       "<table border=\"1\" class=\"dataframe\">\n",
       "  <thead>\n",
       "    <tr style=\"text-align: right;\">\n",
       "      <th></th>\n",
       "      <th>OFFENSE_TYPE_ID</th>\n",
       "      <th>OFFENSE_CATEGORY_ID</th>\n",
       "      <th>GEO_LON</th>\n",
       "      <th>GEO_LAT</th>\n",
       "      <th>NEIGHBORHOOD_ID</th>\n",
       "      <th>IS_CRIME</th>\n",
       "      <th>IS_TRAFFIC</th>\n",
       "    </tr>\n",
       "    <tr>\n",
       "      <th>REPORTED_DATE</th>\n",
       "      <th></th>\n",
       "      <th></th>\n",
       "      <th></th>\n",
       "      <th></th>\n",
       "      <th></th>\n",
       "      <th></th>\n",
       "      <th></th>\n",
       "    </tr>\n",
       "  </thead>\n",
       "  <tbody>\n",
       "    <tr>\n",
       "      <th>2013-11-26 05:47:00</th>\n",
       "      <td>criminal-mischief-other</td>\n",
       "      <td>public-disorder</td>\n",
       "      <td>-104.991476</td>\n",
       "      <td>39.751536</td>\n",
       "      <td>cbd</td>\n",
       "      <td>1</td>\n",
       "      <td>0</td>\n",
       "    </tr>\n",
       "    <tr>\n",
       "      <th>2017-04-09 05:47:00</th>\n",
       "      <td>criminal-mischief-mtr-veh</td>\n",
       "      <td>public-disorder</td>\n",
       "      <td>-104.959394</td>\n",
       "      <td>39.678425</td>\n",
       "      <td>university</td>\n",
       "      <td>1</td>\n",
       "      <td>0</td>\n",
       "    </tr>\n",
       "    <tr>\n",
       "      <th>2017-02-19 05:47:00</th>\n",
       "      <td>criminal-mischief-other</td>\n",
       "      <td>public-disorder</td>\n",
       "      <td>-104.986767</td>\n",
       "      <td>39.741336</td>\n",
       "      <td>north-capitol-hill</td>\n",
       "      <td>1</td>\n",
       "      <td>0</td>\n",
       "    </tr>\n",
       "    <tr>\n",
       "      <th>2017-02-16 05:47:00</th>\n",
       "      <td>aggravated-assault</td>\n",
       "      <td>aggravated-assault</td>\n",
       "      <td>-104.934029</td>\n",
       "      <td>39.732320</td>\n",
       "      <td>hale</td>\n",
       "      <td>1</td>\n",
       "      <td>0</td>\n",
       "    </tr>\n",
       "    <tr>\n",
       "      <th>2017-02-12 05:47:00</th>\n",
       "      <td>police-interference</td>\n",
       "      <td>all-other-crimes</td>\n",
       "      <td>-104.976306</td>\n",
       "      <td>39.722644</td>\n",
       "      <td>speer</td>\n",
       "      <td>1</td>\n",
       "      <td>0</td>\n",
       "    </tr>\n",
       "  </tbody>\n",
       "</table>\n",
       "</div>"
      ],
      "text/plain": [
       "                               OFFENSE_TYPE_ID OFFENSE_CATEGORY_ID  \\\n",
       "REPORTED_DATE                                                        \n",
       "2013-11-26 05:47:00    criminal-mischief-other     public-disorder   \n",
       "2017-04-09 05:47:00  criminal-mischief-mtr-veh     public-disorder   \n",
       "2017-02-19 05:47:00    criminal-mischief-other     public-disorder   \n",
       "2017-02-16 05:47:00         aggravated-assault  aggravated-assault   \n",
       "2017-02-12 05:47:00        police-interference    all-other-crimes   \n",
       "\n",
       "                        GEO_LON    GEO_LAT     NEIGHBORHOOD_ID  IS_CRIME  \\\n",
       "REPORTED_DATE                                                              \n",
       "2013-11-26 05:47:00 -104.991476  39.751536                 cbd         1   \n",
       "2017-04-09 05:47:00 -104.959394  39.678425          university         1   \n",
       "2017-02-19 05:47:00 -104.986767  39.741336  north-capitol-hill         1   \n",
       "2017-02-16 05:47:00 -104.934029  39.732320                hale         1   \n",
       "2017-02-12 05:47:00 -104.976306  39.722644               speer         1   \n",
       "\n",
       "                     IS_TRAFFIC  \n",
       "REPORTED_DATE                    \n",
       "2013-11-26 05:47:00           0  \n",
       "2017-04-09 05:47:00           0  \n",
       "2017-02-19 05:47:00           0  \n",
       "2017-02-16 05:47:00           0  \n",
       "2017-02-12 05:47:00           0  "
      ]
     },
     "execution_count": 156,
     "metadata": {},
     "output_type": "execute_result"
    }
   ],
   "source": [
    "#select all dates at a specfic time\n",
    "crime.at_time('5:47').head()"
   ]
  },
  {
   "cell_type": "code",
   "execution_count": 157,
   "metadata": {},
   "outputs": [
    {
     "data": {
      "text/html": [
       "<div>\n",
       "<style scoped>\n",
       "    .dataframe tbody tr th:only-of-type {\n",
       "        vertical-align: middle;\n",
       "    }\n",
       "\n",
       "    .dataframe tbody tr th {\n",
       "        vertical-align: top;\n",
       "    }\n",
       "\n",
       "    .dataframe thead th {\n",
       "        text-align: right;\n",
       "    }\n",
       "</style>\n",
       "<table border=\"1\" class=\"dataframe\">\n",
       "  <thead>\n",
       "    <tr style=\"text-align: right;\">\n",
       "      <th></th>\n",
       "      <th>OFFENSE_TYPE_ID</th>\n",
       "      <th>OFFENSE_CATEGORY_ID</th>\n",
       "      <th>GEO_LON</th>\n",
       "      <th>GEO_LAT</th>\n",
       "      <th>NEIGHBORHOOD_ID</th>\n",
       "      <th>IS_CRIME</th>\n",
       "      <th>IS_TRAFFIC</th>\n",
       "    </tr>\n",
       "    <tr>\n",
       "      <th>REPORTED_DATE</th>\n",
       "      <th></th>\n",
       "      <th></th>\n",
       "      <th></th>\n",
       "      <th></th>\n",
       "      <th></th>\n",
       "      <th></th>\n",
       "      <th></th>\n",
       "    </tr>\n",
       "  </thead>\n",
       "  <tbody>\n",
       "    <tr>\n",
       "      <th>2012-01-02 00:06:00</th>\n",
       "      <td>aggravated-assault</td>\n",
       "      <td>aggravated-assault</td>\n",
       "      <td>-104.816860</td>\n",
       "      <td>39.796717</td>\n",
       "      <td>montbello</td>\n",
       "      <td>1</td>\n",
       "      <td>0</td>\n",
       "    </tr>\n",
       "    <tr>\n",
       "      <th>2012-01-02 00:06:00</th>\n",
       "      <td>violation-of-restraining-order</td>\n",
       "      <td>all-other-crimes</td>\n",
       "      <td>-104.816860</td>\n",
       "      <td>39.796717</td>\n",
       "      <td>montbello</td>\n",
       "      <td>1</td>\n",
       "      <td>0</td>\n",
       "    </tr>\n",
       "    <tr>\n",
       "      <th>2012-01-02 00:16:00</th>\n",
       "      <td>traffic-accident-dui-duid</td>\n",
       "      <td>traffic-accident</td>\n",
       "      <td>-104.971851</td>\n",
       "      <td>39.736874</td>\n",
       "      <td>cheesman-park</td>\n",
       "      <td>0</td>\n",
       "      <td>1</td>\n",
       "    </tr>\n",
       "    <tr>\n",
       "      <th>...</th>\n",
       "      <td>...</td>\n",
       "      <td>...</td>\n",
       "      <td>...</td>\n",
       "      <td>...</td>\n",
       "      <td>...</td>\n",
       "      <td>...</td>\n",
       "      <td>...</td>\n",
       "    </tr>\n",
       "    <tr>\n",
       "      <th>2012-06-30 23:50:00</th>\n",
       "      <td>criminal-mischief-mtr-veh</td>\n",
       "      <td>public-disorder</td>\n",
       "      <td>-104.838271</td>\n",
       "      <td>39.788683</td>\n",
       "      <td>montbello</td>\n",
       "      <td>1</td>\n",
       "      <td>0</td>\n",
       "    </tr>\n",
       "    <tr>\n",
       "      <th>2012-06-30 23:54:00</th>\n",
       "      <td>traffic-accident-hit-and-run</td>\n",
       "      <td>traffic-accident</td>\n",
       "      <td>-105.014162</td>\n",
       "      <td>39.740439</td>\n",
       "      <td>lincoln-park</td>\n",
       "      <td>0</td>\n",
       "      <td>1</td>\n",
       "    </tr>\n",
       "    <tr>\n",
       "      <th>2012-07-01 00:01:00</th>\n",
       "      <td>robbery-street</td>\n",
       "      <td>robbery</td>\n",
       "      <td>-104.924292</td>\n",
       "      <td>39.767585</td>\n",
       "      <td>northeast-park-hill</td>\n",
       "      <td>1</td>\n",
       "      <td>0</td>\n",
       "    </tr>\n",
       "  </tbody>\n",
       "</table>\n",
       "<p>27489 rows × 7 columns</p>\n",
       "</div>"
      ],
      "text/plain": [
       "                                    OFFENSE_TYPE_ID OFFENSE_CATEGORY_ID  \\\n",
       "REPORTED_DATE                                                             \n",
       "2012-01-02 00:06:00              aggravated-assault  aggravated-assault   \n",
       "2012-01-02 00:06:00  violation-of-restraining-order    all-other-crimes   \n",
       "2012-01-02 00:16:00       traffic-accident-dui-duid    traffic-accident   \n",
       "...                                             ...                 ...   \n",
       "2012-06-30 23:50:00       criminal-mischief-mtr-veh     public-disorder   \n",
       "2012-06-30 23:54:00    traffic-accident-hit-and-run    traffic-accident   \n",
       "2012-07-01 00:01:00                  robbery-street             robbery   \n",
       "\n",
       "                        GEO_LON    GEO_LAT      NEIGHBORHOOD_ID  IS_CRIME  \\\n",
       "REPORTED_DATE                                                               \n",
       "2012-01-02 00:06:00 -104.816860  39.796717            montbello         1   \n",
       "2012-01-02 00:06:00 -104.816860  39.796717            montbello         1   \n",
       "2012-01-02 00:16:00 -104.971851  39.736874        cheesman-park         0   \n",
       "...                         ...        ...                  ...       ...   \n",
       "2012-06-30 23:50:00 -104.838271  39.788683            montbello         1   \n",
       "2012-06-30 23:54:00 -105.014162  39.740439         lincoln-park         0   \n",
       "2012-07-01 00:01:00 -104.924292  39.767585  northeast-park-hill         1   \n",
       "\n",
       "                     IS_TRAFFIC  \n",
       "REPORTED_DATE                    \n",
       "2012-01-02 00:06:00           0  \n",
       "2012-01-02 00:06:00           0  \n",
       "2012-01-02 00:16:00           1  \n",
       "...                         ...  \n",
       "2012-06-30 23:50:00           0  \n",
       "2012-06-30 23:54:00           1  \n",
       "2012-07-01 00:01:00           0  \n",
       "\n",
       "[27489 rows x 7 columns]"
      ]
     },
     "execution_count": 157,
     "metadata": {},
     "output_type": "execute_result"
    }
   ],
   "source": [
    "#to select first n segments of time, represented by DateOffset objects.  Df must be sorted on its index.\n",
    "#i.e. select first 6 months of crime data\n",
    "crime_sort = crime.sort_index()\n",
    "pd.options.display.max_rows = 6\n",
    "crime_sort.first(pd.offsets.MonthBegin(6))\n"
   ]
  },
  {
   "cell_type": "code",
   "execution_count": 158,
   "metadata": {},
   "outputs": [
    {
     "data": {
      "text/html": [
       "<div>\n",
       "<style scoped>\n",
       "    .dataframe tbody tr th:only-of-type {\n",
       "        vertical-align: middle;\n",
       "    }\n",
       "\n",
       "    .dataframe tbody tr th {\n",
       "        vertical-align: top;\n",
       "    }\n",
       "\n",
       "    .dataframe thead th {\n",
       "        text-align: right;\n",
       "    }\n",
       "</style>\n",
       "<table border=\"1\" class=\"dataframe\">\n",
       "  <thead>\n",
       "    <tr style=\"text-align: right;\">\n",
       "      <th></th>\n",
       "      <th>OFFENSE_TYPE_ID</th>\n",
       "      <th>OFFENSE_CATEGORY_ID</th>\n",
       "      <th>GEO_LON</th>\n",
       "      <th>GEO_LAT</th>\n",
       "      <th>NEIGHBORHOOD_ID</th>\n",
       "      <th>IS_CRIME</th>\n",
       "      <th>IS_TRAFFIC</th>\n",
       "    </tr>\n",
       "    <tr>\n",
       "      <th>REPORTED_DATE</th>\n",
       "      <th></th>\n",
       "      <th></th>\n",
       "      <th></th>\n",
       "      <th></th>\n",
       "      <th></th>\n",
       "      <th></th>\n",
       "      <th></th>\n",
       "    </tr>\n",
       "  </thead>\n",
       "  <tbody>\n",
       "    <tr>\n",
       "      <th>2012-01-02 00:06:00</th>\n",
       "      <td>aggravated-assault</td>\n",
       "      <td>aggravated-assault</td>\n",
       "      <td>-104.816860</td>\n",
       "      <td>39.796717</td>\n",
       "      <td>montbello</td>\n",
       "      <td>1</td>\n",
       "      <td>0</td>\n",
       "    </tr>\n",
       "    <tr>\n",
       "      <th>2012-01-02 00:06:00</th>\n",
       "      <td>violation-of-restraining-order</td>\n",
       "      <td>all-other-crimes</td>\n",
       "      <td>-104.816860</td>\n",
       "      <td>39.796717</td>\n",
       "      <td>montbello</td>\n",
       "      <td>1</td>\n",
       "      <td>0</td>\n",
       "    </tr>\n",
       "    <tr>\n",
       "      <th>2012-01-02 00:16:00</th>\n",
       "      <td>traffic-accident-dui-duid</td>\n",
       "      <td>traffic-accident</td>\n",
       "      <td>-104.971851</td>\n",
       "      <td>39.736874</td>\n",
       "      <td>cheesman-park</td>\n",
       "      <td>0</td>\n",
       "      <td>1</td>\n",
       "    </tr>\n",
       "    <tr>\n",
       "      <th>...</th>\n",
       "      <td>...</td>\n",
       "      <td>...</td>\n",
       "      <td>...</td>\n",
       "      <td>...</td>\n",
       "      <td>...</td>\n",
       "      <td>...</td>\n",
       "      <td>...</td>\n",
       "    </tr>\n",
       "    <tr>\n",
       "      <th>2012-06-29 23:41:00</th>\n",
       "      <td>robbery-street</td>\n",
       "      <td>robbery</td>\n",
       "      <td>-104.991912</td>\n",
       "      <td>39.756163</td>\n",
       "      <td>five-points</td>\n",
       "      <td>1</td>\n",
       "      <td>0</td>\n",
       "    </tr>\n",
       "    <tr>\n",
       "      <th>2012-06-29 23:57:00</th>\n",
       "      <td>assault-simple</td>\n",
       "      <td>other-crimes-against-persons</td>\n",
       "      <td>-104.987360</td>\n",
       "      <td>39.715162</td>\n",
       "      <td>speer</td>\n",
       "      <td>1</td>\n",
       "      <td>0</td>\n",
       "    </tr>\n",
       "    <tr>\n",
       "      <th>2012-06-30 00:04:00</th>\n",
       "      <td>traffic-accident</td>\n",
       "      <td>traffic-accident</td>\n",
       "      <td>-104.894697</td>\n",
       "      <td>39.628902</td>\n",
       "      <td>hampden-south</td>\n",
       "      <td>0</td>\n",
       "      <td>1</td>\n",
       "    </tr>\n",
       "  </tbody>\n",
       "</table>\n",
       "<p>27332 rows × 7 columns</p>\n",
       "</div>"
      ],
      "text/plain": [
       "                                    OFFENSE_TYPE_ID  \\\n",
       "REPORTED_DATE                                         \n",
       "2012-01-02 00:06:00              aggravated-assault   \n",
       "2012-01-02 00:06:00  violation-of-restraining-order   \n",
       "2012-01-02 00:16:00       traffic-accident-dui-duid   \n",
       "...                                             ...   \n",
       "2012-06-29 23:41:00                  robbery-street   \n",
       "2012-06-29 23:57:00                  assault-simple   \n",
       "2012-06-30 00:04:00                traffic-accident   \n",
       "\n",
       "                              OFFENSE_CATEGORY_ID     GEO_LON    GEO_LAT  \\\n",
       "REPORTED_DATE                                                              \n",
       "2012-01-02 00:06:00            aggravated-assault -104.816860  39.796717   \n",
       "2012-01-02 00:06:00              all-other-crimes -104.816860  39.796717   \n",
       "2012-01-02 00:16:00              traffic-accident -104.971851  39.736874   \n",
       "...                                           ...         ...        ...   \n",
       "2012-06-29 23:41:00                       robbery -104.991912  39.756163   \n",
       "2012-06-29 23:57:00  other-crimes-against-persons -104.987360  39.715162   \n",
       "2012-06-30 00:04:00              traffic-accident -104.894697  39.628902   \n",
       "\n",
       "                    NEIGHBORHOOD_ID  IS_CRIME  IS_TRAFFIC  \n",
       "REPORTED_DATE                                              \n",
       "2012-01-02 00:06:00       montbello         1           0  \n",
       "2012-01-02 00:06:00       montbello         1           0  \n",
       "2012-01-02 00:16:00   cheesman-park         0           1  \n",
       "...                             ...       ...         ...  \n",
       "2012-06-29 23:41:00     five-points         1           0  \n",
       "2012-06-29 23:57:00           speer         1           0  \n",
       "2012-06-30 00:04:00   hampden-south         0           1  \n",
       "\n",
       "[27332 rows x 7 columns]"
      ]
     },
     "execution_count": 158,
     "metadata": {},
     "output_type": "execute_result"
    }
   ],
   "source": [
    "#issue: suprisingly selected a single row in July, because pandas uses the first element in the index, in this case 6 minutes\n",
    "#and last record is within 6 months from that date\n",
    "\n",
    "#us MonthEnd instead\n",
    "crime_sort.first(pd.offsets.MonthEnd(6))"
   ]
  },
  {
   "cell_type": "code",
   "execution_count": 159,
   "metadata": {},
   "outputs": [
    {
     "data": {
      "text/html": [
       "<div>\n",
       "<style scoped>\n",
       "    .dataframe tbody tr th:only-of-type {\n",
       "        vertical-align: middle;\n",
       "    }\n",
       "\n",
       "    .dataframe tbody tr th {\n",
       "        vertical-align: top;\n",
       "    }\n",
       "\n",
       "    .dataframe thead th {\n",
       "        text-align: right;\n",
       "    }\n",
       "</style>\n",
       "<table border=\"1\" class=\"dataframe\">\n",
       "  <thead>\n",
       "    <tr style=\"text-align: right;\">\n",
       "      <th></th>\n",
       "      <th>OFFENSE_TYPE_ID</th>\n",
       "      <th>OFFENSE_CATEGORY_ID</th>\n",
       "      <th>GEO_LON</th>\n",
       "      <th>GEO_LAT</th>\n",
       "      <th>NEIGHBORHOOD_ID</th>\n",
       "      <th>IS_CRIME</th>\n",
       "      <th>IS_TRAFFIC</th>\n",
       "    </tr>\n",
       "    <tr>\n",
       "      <th>REPORTED_DATE</th>\n",
       "      <th></th>\n",
       "      <th></th>\n",
       "      <th></th>\n",
       "      <th></th>\n",
       "      <th></th>\n",
       "      <th></th>\n",
       "      <th></th>\n",
       "    </tr>\n",
       "  </thead>\n",
       "  <tbody>\n",
       "    <tr>\n",
       "      <th>2012-01-02 00:06:00</th>\n",
       "      <td>aggravated-assault</td>\n",
       "      <td>aggravated-assault</td>\n",
       "      <td>-104.816860</td>\n",
       "      <td>39.796717</td>\n",
       "      <td>montbello</td>\n",
       "      <td>1</td>\n",
       "      <td>0</td>\n",
       "    </tr>\n",
       "    <tr>\n",
       "      <th>2012-01-02 00:06:00</th>\n",
       "      <td>violation-of-restraining-order</td>\n",
       "      <td>all-other-crimes</td>\n",
       "      <td>-104.816860</td>\n",
       "      <td>39.796717</td>\n",
       "      <td>montbello</td>\n",
       "      <td>1</td>\n",
       "      <td>0</td>\n",
       "    </tr>\n",
       "    <tr>\n",
       "      <th>2012-01-02 00:16:00</th>\n",
       "      <td>traffic-accident-dui-duid</td>\n",
       "      <td>traffic-accident</td>\n",
       "      <td>-104.971851</td>\n",
       "      <td>39.736874</td>\n",
       "      <td>cheesman-park</td>\n",
       "      <td>0</td>\n",
       "      <td>1</td>\n",
       "    </tr>\n",
       "    <tr>\n",
       "      <th>...</th>\n",
       "      <td>...</td>\n",
       "      <td>...</td>\n",
       "      <td>...</td>\n",
       "      <td>...</td>\n",
       "      <td>...</td>\n",
       "      <td>...</td>\n",
       "      <td>...</td>\n",
       "    </tr>\n",
       "    <tr>\n",
       "      <th>2012-06-30 23:44:00</th>\n",
       "      <td>traffic-accident</td>\n",
       "      <td>traffic-accident</td>\n",
       "      <td>-104.987578</td>\n",
       "      <td>39.711158</td>\n",
       "      <td>baker</td>\n",
       "      <td>0</td>\n",
       "      <td>1</td>\n",
       "    </tr>\n",
       "    <tr>\n",
       "      <th>2012-06-30 23:50:00</th>\n",
       "      <td>criminal-mischief-mtr-veh</td>\n",
       "      <td>public-disorder</td>\n",
       "      <td>-104.838271</td>\n",
       "      <td>39.788683</td>\n",
       "      <td>montbello</td>\n",
       "      <td>1</td>\n",
       "      <td>0</td>\n",
       "    </tr>\n",
       "    <tr>\n",
       "      <th>2012-06-30 23:54:00</th>\n",
       "      <td>traffic-accident-hit-and-run</td>\n",
       "      <td>traffic-accident</td>\n",
       "      <td>-105.014162</td>\n",
       "      <td>39.740439</td>\n",
       "      <td>lincoln-park</td>\n",
       "      <td>0</td>\n",
       "      <td>1</td>\n",
       "    </tr>\n",
       "  </tbody>\n",
       "</table>\n",
       "<p>27488 rows × 7 columns</p>\n",
       "</div>"
      ],
      "text/plain": [
       "                                    OFFENSE_TYPE_ID OFFENSE_CATEGORY_ID  \\\n",
       "REPORTED_DATE                                                             \n",
       "2012-01-02 00:06:00              aggravated-assault  aggravated-assault   \n",
       "2012-01-02 00:06:00  violation-of-restraining-order    all-other-crimes   \n",
       "2012-01-02 00:16:00       traffic-accident-dui-duid    traffic-accident   \n",
       "...                                             ...                 ...   \n",
       "2012-06-30 23:44:00                traffic-accident    traffic-accident   \n",
       "2012-06-30 23:50:00       criminal-mischief-mtr-veh     public-disorder   \n",
       "2012-06-30 23:54:00    traffic-accident-hit-and-run    traffic-accident   \n",
       "\n",
       "                        GEO_LON    GEO_LAT NEIGHBORHOOD_ID  IS_CRIME  \\\n",
       "REPORTED_DATE                                                          \n",
       "2012-01-02 00:06:00 -104.816860  39.796717       montbello         1   \n",
       "2012-01-02 00:06:00 -104.816860  39.796717       montbello         1   \n",
       "2012-01-02 00:16:00 -104.971851  39.736874   cheesman-park         0   \n",
       "...                         ...        ...             ...       ...   \n",
       "2012-06-30 23:44:00 -104.987578  39.711158           baker         0   \n",
       "2012-06-30 23:50:00 -104.838271  39.788683       montbello         1   \n",
       "2012-06-30 23:54:00 -105.014162  39.740439    lincoln-park         0   \n",
       "\n",
       "                     IS_TRAFFIC  \n",
       "REPORTED_DATE                    \n",
       "2012-01-02 00:06:00           0  \n",
       "2012-01-02 00:06:00           0  \n",
       "2012-01-02 00:16:00           1  \n",
       "...                         ...  \n",
       "2012-06-30 23:44:00           1  \n",
       "2012-06-30 23:50:00           0  \n",
       "2012-06-30 23:54:00           1  \n",
       "\n",
       "[27488 rows x 7 columns]"
      ]
     },
     "execution_count": 159,
     "metadata": {},
     "output_type": "execute_result"
    }
   ],
   "source": [
    "#issue again: only a single row from 6/30 was selected\n",
    "\n",
    "#to get exactly 6 months of data?\n",
    "\n",
    "#normalize parameter - the search went to 00:00:00 of those days\n",
    "#issue still: would include a crime exactly on 2012/07/01 00:00:00\n",
    "crime_sort.first(pd.offsets.MonthBegin(6, normalize=True))\n"
   ]
  },
  {
   "cell_type": "code",
   "execution_count": 160,
   "metadata": {},
   "outputs": [
    {
     "data": {
      "text/html": [
       "<div>\n",
       "<style scoped>\n",
       "    .dataframe tbody tr th:only-of-type {\n",
       "        vertical-align: middle;\n",
       "    }\n",
       "\n",
       "    .dataframe tbody tr th {\n",
       "        vertical-align: top;\n",
       "    }\n",
       "\n",
       "    .dataframe thead th {\n",
       "        text-align: right;\n",
       "    }\n",
       "</style>\n",
       "<table border=\"1\" class=\"dataframe\">\n",
       "  <thead>\n",
       "    <tr style=\"text-align: right;\">\n",
       "      <th></th>\n",
       "      <th>OFFENSE_TYPE_ID</th>\n",
       "      <th>OFFENSE_CATEGORY_ID</th>\n",
       "      <th>GEO_LON</th>\n",
       "      <th>GEO_LAT</th>\n",
       "      <th>NEIGHBORHOOD_ID</th>\n",
       "      <th>IS_CRIME</th>\n",
       "      <th>IS_TRAFFIC</th>\n",
       "    </tr>\n",
       "    <tr>\n",
       "      <th>REPORTED_DATE</th>\n",
       "      <th></th>\n",
       "      <th></th>\n",
       "      <th></th>\n",
       "      <th></th>\n",
       "      <th></th>\n",
       "      <th></th>\n",
       "      <th></th>\n",
       "    </tr>\n",
       "  </thead>\n",
       "  <tbody>\n",
       "    <tr>\n",
       "      <th>2012-01-02 00:06:00</th>\n",
       "      <td>aggravated-assault</td>\n",
       "      <td>aggravated-assault</td>\n",
       "      <td>-104.816860</td>\n",
       "      <td>39.796717</td>\n",
       "      <td>montbello</td>\n",
       "      <td>1</td>\n",
       "      <td>0</td>\n",
       "    </tr>\n",
       "    <tr>\n",
       "      <th>2012-01-02 00:06:00</th>\n",
       "      <td>violation-of-restraining-order</td>\n",
       "      <td>all-other-crimes</td>\n",
       "      <td>-104.816860</td>\n",
       "      <td>39.796717</td>\n",
       "      <td>montbello</td>\n",
       "      <td>1</td>\n",
       "      <td>0</td>\n",
       "    </tr>\n",
       "    <tr>\n",
       "      <th>2012-01-02 00:16:00</th>\n",
       "      <td>traffic-accident-dui-duid</td>\n",
       "      <td>traffic-accident</td>\n",
       "      <td>-104.971851</td>\n",
       "      <td>39.736874</td>\n",
       "      <td>cheesman-park</td>\n",
       "      <td>0</td>\n",
       "      <td>1</td>\n",
       "    </tr>\n",
       "    <tr>\n",
       "      <th>...</th>\n",
       "      <td>...</td>\n",
       "      <td>...</td>\n",
       "      <td>...</td>\n",
       "      <td>...</td>\n",
       "      <td>...</td>\n",
       "      <td>...</td>\n",
       "      <td>...</td>\n",
       "    </tr>\n",
       "    <tr>\n",
       "      <th>2012-06-30 23:44:00</th>\n",
       "      <td>traffic-accident</td>\n",
       "      <td>traffic-accident</td>\n",
       "      <td>-104.987578</td>\n",
       "      <td>39.711158</td>\n",
       "      <td>baker</td>\n",
       "      <td>0</td>\n",
       "      <td>1</td>\n",
       "    </tr>\n",
       "    <tr>\n",
       "      <th>2012-06-30 23:50:00</th>\n",
       "      <td>criminal-mischief-mtr-veh</td>\n",
       "      <td>public-disorder</td>\n",
       "      <td>-104.838271</td>\n",
       "      <td>39.788683</td>\n",
       "      <td>montbello</td>\n",
       "      <td>1</td>\n",
       "      <td>0</td>\n",
       "    </tr>\n",
       "    <tr>\n",
       "      <th>2012-06-30 23:54:00</th>\n",
       "      <td>traffic-accident-hit-and-run</td>\n",
       "      <td>traffic-accident</td>\n",
       "      <td>-105.014162</td>\n",
       "      <td>39.740439</td>\n",
       "      <td>lincoln-park</td>\n",
       "      <td>0</td>\n",
       "      <td>1</td>\n",
       "    </tr>\n",
       "  </tbody>\n",
       "</table>\n",
       "<p>27488 rows × 7 columns</p>\n",
       "</div>"
      ],
      "text/plain": [
       "                                    OFFENSE_TYPE_ID OFFENSE_CATEGORY_ID  \\\n",
       "REPORTED_DATE                                                             \n",
       "2012-01-02 00:06:00              aggravated-assault  aggravated-assault   \n",
       "2012-01-02 00:06:00  violation-of-restraining-order    all-other-crimes   \n",
       "2012-01-02 00:16:00       traffic-accident-dui-duid    traffic-accident   \n",
       "...                                             ...                 ...   \n",
       "2012-06-30 23:44:00                traffic-accident    traffic-accident   \n",
       "2012-06-30 23:50:00       criminal-mischief-mtr-veh     public-disorder   \n",
       "2012-06-30 23:54:00    traffic-accident-hit-and-run    traffic-accident   \n",
       "\n",
       "                        GEO_LON    GEO_LAT NEIGHBORHOOD_ID  IS_CRIME  \\\n",
       "REPORTED_DATE                                                          \n",
       "2012-01-02 00:06:00 -104.816860  39.796717       montbello         1   \n",
       "2012-01-02 00:06:00 -104.816860  39.796717       montbello         1   \n",
       "2012-01-02 00:16:00 -104.971851  39.736874   cheesman-park         0   \n",
       "...                         ...        ...             ...       ...   \n",
       "2012-06-30 23:44:00 -104.987578  39.711158           baker         0   \n",
       "2012-06-30 23:50:00 -104.838271  39.788683       montbello         1   \n",
       "2012-06-30 23:54:00 -105.014162  39.740439    lincoln-park         0   \n",
       "\n",
       "                     IS_TRAFFIC  \n",
       "REPORTED_DATE                    \n",
       "2012-01-02 00:06:00           0  \n",
       "2012-01-02 00:06:00           0  \n",
       "2012-01-02 00:16:00           1  \n",
       "...                         ...  \n",
       "2012-06-30 23:44:00           1  \n",
       "2012-06-30 23:50:00           0  \n",
       "2012-06-30 23:54:00           1  \n",
       "\n",
       "[27488 rows x 7 columns]"
      ]
     },
     "execution_count": 160,
     "metadata": {},
     "output_type": "execute_result"
    }
   ],
   "source": [
    "#solution: simple slice\n",
    "crime_sort.loc[:'2012-06']"
   ]
  },
  {
   "cell_type": "code",
   "execution_count": 161,
   "metadata": {},
   "outputs": [],
   "source": [
    "#more DateOffset options available for moving forward or backwards: 5 days, 5 business days, 3rd quarter start, one year end..."
   ]
  },
  {
   "cell_type": "markdown",
   "metadata": {},
   "source": [
    "## Example: \n",
    "### Ex1. Counting the number of weekly crimes\n",
    "\n",
    "The raw Denver Crime dataset is huge with over 460K rows, each marked with a reported date.   \n",
    "The Resample method provides an easy interface to grouping by any possible span of time.\n",
    "\n",
    "Use GROUPBY and RESAMPLE methods to count the number of weekly crimes"
   ]
  },
  {
   "cell_type": "code",
   "execution_count": 162,
   "metadata": {},
   "outputs": [],
   "source": [
    "crime_sort = pd.read_hdf('data/bookPandasCookbook/crime.h5', 'crime') \\\n",
    "               .set_index('REPORTED_DATE') \\\n",
    "               .sort_index()"
   ]
  },
  {
   "cell_type": "code",
   "execution_count": 163,
   "metadata": {},
   "outputs": [
    {
     "data": {
      "text/plain": [
       "DatetimeIndexResampler [freq=<Week: weekday=6>, axis=0, closed=right, label=right, convention=start, base=0]"
      ]
     },
     "execution_count": 163,
     "metadata": {},
     "output_type": "execute_result"
    }
   ],
   "source": [
    "#count the number of crimes per week -> form a group for each week\n",
    "crime_sort.resample('W')"
   ]
  },
  {
   "cell_type": "code",
   "execution_count": 164,
   "metadata": {},
   "outputs": [
    {
     "data": {
      "text/plain": [
       "REPORTED_DATE\n",
       "2012-01-08     877\n",
       "2012-01-15    1071\n",
       "2012-01-22     991\n",
       "              ... \n",
       "2017-09-17    1976\n",
       "2017-09-24    1839\n",
       "2017-10-01    1059\n",
       "Freq: W-SUN, Length: 300, dtype: int64"
      ]
     },
     "execution_count": 164,
     "metadata": {},
     "output_type": "execute_result"
    }
   ],
   "source": [
    "#chain SIZE method to count weekly crimes\n",
    "weekly_crimes = crime_sort.resample('W').size()\n",
    "weekly_crimes"
   ]
  },
  {
   "cell_type": "markdown",
   "metadata": {},
   "source": [
    "We now have the weekly crime count as a Series with the new index incrementing one week at a time. There are a few things that happen by default that are very important to understand. Sunday is chosen as the last day of the week and is also the date used to label each element in the resulting Series. For instance, the first index value January 8, 2012 is a Sunday. There were 877 crimes committed during that week ending on the 8th. The week of Monday, January 9th to Sunday, January 15th recorded 1,071 crimes. Let's do some sanity checks and ensure that our resampling is doing exactly this:"
   ]
  },
  {
   "cell_type": "code",
   "execution_count": 165,
   "metadata": {},
   "outputs": [
    {
     "data": {
      "text/plain": [
       "877"
      ]
     },
     "execution_count": 165,
     "metadata": {},
     "output_type": "execute_result"
    }
   ],
   "source": [
    "len(crime_sort.loc[:'2012-1-8'])"
   ]
  },
  {
   "cell_type": "code",
   "execution_count": 166,
   "metadata": {},
   "outputs": [
    {
     "data": {
      "text/plain": [
       "1071"
      ]
     },
     "execution_count": 166,
     "metadata": {},
     "output_type": "execute_result"
    }
   ],
   "source": [
    "len(crime_sort.loc['2012-1-9':'2012-1-15'])"
   ]
  },
  {
   "cell_type": "markdown",
   "metadata": {},
   "source": [
    "Let's choose a different day to end the week besides Sunday with an anchored offset:"
   ]
  },
  {
   "cell_type": "code",
   "execution_count": 167,
   "metadata": {},
   "outputs": [
    {
     "data": {
      "text/plain": [
       "REPORTED_DATE\n",
       "2012-01-05     462\n",
       "2012-01-12    1116\n",
       "2012-01-19     924\n",
       "2012-01-26    1061\n",
       "2012-02-02     926\n",
       "Freq: W-THU, dtype: int64"
      ]
     },
     "execution_count": 167,
     "metadata": {},
     "output_type": "execute_result"
    }
   ],
   "source": [
    "crime_sort.resample('W-THU').size().head()"
   ]
  },
  {
   "cell_type": "markdown",
   "metadata": {},
   "source": [
    "Nearly all the functionality of resample may be reproduced by the groupby method. The only difference is that you must pass the offset in the pd.Grouper object:"
   ]
  },
  {
   "cell_type": "code",
   "execution_count": 168,
   "metadata": {},
   "outputs": [
    {
     "data": {
      "text/plain": [
       "REPORTED_DATE\n",
       "2012-01-08     877\n",
       "2012-01-15    1071\n",
       "2012-01-22     991\n",
       "2012-01-29     988\n",
       "2012-02-05     888\n",
       "Freq: W-SUN, dtype: int64"
      ]
     },
     "execution_count": 168,
     "metadata": {},
     "output_type": "execute_result"
    }
   ],
   "source": [
    "weekly_crimes_gby = crime_sort.groupby(pd.Grouper(freq='W')) \\\n",
    "                                  .size()\n",
    "weekly_crimes_gby.head()"
   ]
  },
  {
   "cell_type": "code",
   "execution_count": 169,
   "metadata": {},
   "outputs": [
    {
     "data": {
      "text/plain": [
       "True"
      ]
     },
     "execution_count": 169,
     "metadata": {},
     "output_type": "execute_result"
    }
   ],
   "source": [
    "#compare\n",
    "weekly_crimes.equals(weekly_crimes_gby)"
   ]
  },
  {
   "cell_type": "markdown",
   "metadata": {},
   "source": [
    "We can also easily produce a line plot of all the crimes in Denver (including traffic accidents) by calling the plot method on our Series of weekly crimes:"
   ]
  },
  {
   "cell_type": "code",
   "execution_count": 170,
   "metadata": {},
   "outputs": [
    {
     "data": {
      "text/plain": [
       "<matplotlib.axes._subplots.AxesSubplot at 0x18e827122e8>"
      ]
     },
     "execution_count": 170,
     "metadata": {},
     "output_type": "execute_result"
    },
    {
     "data": {
      "image/png": "[encoded data removed]",
      "text/plain": [
       "<Figure size 1152x288 with 1 Axes>"
      ]
     },
     "metadata": {},
     "output_type": "display_data"
    }
   ],
   "source": [
    "weekly_crimes.plot(figsize=(16, 4), title='All Denver Crimes')"
   ]
  },
  {
   "cell_type": "markdown",
   "metadata": {},
   "source": [
    "### More\n",
    "It is possible to use resample even when the index does not contain a Timestamp. You can use the on parameter to select the column with Timestamps that will be used to form groups:"
   ]
  },
  {
   "cell_type": "code",
   "execution_count": 171,
   "metadata": {},
   "outputs": [
    {
     "data": {
      "text/plain": [
       "True"
      ]
     },
     "execution_count": 171,
     "metadata": {},
     "output_type": "execute_result"
    }
   ],
   "source": [
    "crime2 = pd.read_hdf('data/bookPandasCookbook/crime.h5', 'crime')\n",
    "weekly_crimes2 = crime2.resample('W', on='REPORTED_DATE').size()\n",
    "weekly_crimes2.equals(weekly_crimes)"
   ]
  },
  {
   "cell_type": "code",
   "execution_count": 172,
   "metadata": {},
   "outputs": [
    {
     "data": {
      "text/plain": [
       "True"
      ]
     },
     "execution_count": 172,
     "metadata": {},
     "output_type": "execute_result"
    }
   ],
   "source": [
    "#Similarly, this is possible using groupby with pd.Grouper by selecting the Timestamp column with the key parameter:\n",
    "weekly_crimes_gby2 = crime2.groupby(pd.Grouper(key='REPORTED_DATE', freq='W')).size()\n",
    "weekly_crimes_gby2.equals(weekly_crimes_gby)"
   ]
  },
  {
   "cell_type": "markdown",
   "metadata": {},
   "source": [
    "### Ex2. Aggregating weekly crime and traffic accidents separately\n",
    "\n",
    "The Denver crime dataset has all crime and traffic accidents together in one table, and separates them through the binary columns, IS_CRIME and IS_TRAFFIC. The resample method allows you to group by a period of time and aggregate specific columns separately.\n",
    "\n",
    "In this recipe, we will use the resample method to group by each quarter of the year and then sum up the number of crimes and traffic accidents separately."
   ]
  },
  {
   "cell_type": "code",
   "execution_count": 173,
   "metadata": {},
   "outputs": [],
   "source": [
    "#Use RESAMPLE method to group by each quarter of the year and then sum the IS_CRIME and IS_TRAFFIC columns for each group:\n",
    "crime_sort = pd.read_hdf('data/bookPandasCookbook/crime.h5', 'crime') \\\n",
    "               .set_index('REPORTED_DATE') \\\n",
    "               .sort_index()"
   ]
  },
  {
   "cell_type": "code",
   "execution_count": 174,
   "metadata": {},
   "outputs": [
    {
     "data": {
      "text/html": [
       "<div>\n",
       "<style scoped>\n",
       "    .dataframe tbody tr th:only-of-type {\n",
       "        vertical-align: middle;\n",
       "    }\n",
       "\n",
       "    .dataframe tbody tr th {\n",
       "        vertical-align: top;\n",
       "    }\n",
       "\n",
       "    .dataframe thead th {\n",
       "        text-align: right;\n",
       "    }\n",
       "</style>\n",
       "<table border=\"1\" class=\"dataframe\">\n",
       "  <thead>\n",
       "    <tr style=\"text-align: right;\">\n",
       "      <th></th>\n",
       "      <th>IS_CRIME</th>\n",
       "      <th>IS_TRAFFIC</th>\n",
       "    </tr>\n",
       "    <tr>\n",
       "      <th>REPORTED_DATE</th>\n",
       "      <th></th>\n",
       "      <th></th>\n",
       "    </tr>\n",
       "  </thead>\n",
       "  <tbody>\n",
       "    <tr>\n",
       "      <th>2012-03-31</th>\n",
       "      <td>7882</td>\n",
       "      <td>4726</td>\n",
       "    </tr>\n",
       "    <tr>\n",
       "      <th>2012-06-30</th>\n",
       "      <td>9641</td>\n",
       "      <td>5255</td>\n",
       "    </tr>\n",
       "    <tr>\n",
       "      <th>2012-09-30</th>\n",
       "      <td>10566</td>\n",
       "      <td>5003</td>\n",
       "    </tr>\n",
       "    <tr>\n",
       "      <th>...</th>\n",
       "      <td>...</td>\n",
       "      <td>...</td>\n",
       "    </tr>\n",
       "    <tr>\n",
       "      <th>2017-03-31</th>\n",
       "      <td>16426</td>\n",
       "      <td>5587</td>\n",
       "    </tr>\n",
       "    <tr>\n",
       "      <th>2017-06-30</th>\n",
       "      <td>17486</td>\n",
       "      <td>6148</td>\n",
       "    </tr>\n",
       "    <tr>\n",
       "      <th>2017-09-30</th>\n",
       "      <td>17990</td>\n",
       "      <td>6101</td>\n",
       "    </tr>\n",
       "  </tbody>\n",
       "</table>\n",
       "<p>23 rows × 2 columns</p>\n",
       "</div>"
      ],
      "text/plain": [
       "               IS_CRIME  IS_TRAFFIC\n",
       "REPORTED_DATE                      \n",
       "2012-03-31         7882        4726\n",
       "2012-06-30         9641        5255\n",
       "2012-09-30        10566        5003\n",
       "...                 ...         ...\n",
       "2017-03-31        16426        5587\n",
       "2017-06-30        17486        6148\n",
       "2017-09-30        17990        6101\n",
       "\n",
       "[23 rows x 2 columns]"
      ]
     },
     "execution_count": 174,
     "metadata": {},
     "output_type": "execute_result"
    }
   ],
   "source": [
    "crime_quarterly = crime.resample('Q')['IS_CRIME','IS_TRAFFIC'].sum()\n",
    "crime_quarterly"
   ]
  },
  {
   "cell_type": "code",
   "execution_count": 175,
   "metadata": {},
   "outputs": [
    {
     "data": {
      "text/html": [
       "<div>\n",
       "<style scoped>\n",
       "    .dataframe tbody tr th:only-of-type {\n",
       "        vertical-align: middle;\n",
       "    }\n",
       "\n",
       "    .dataframe tbody tr th {\n",
       "        vertical-align: top;\n",
       "    }\n",
       "\n",
       "    .dataframe thead th {\n",
       "        text-align: right;\n",
       "    }\n",
       "</style>\n",
       "<table border=\"1\" class=\"dataframe\">\n",
       "  <thead>\n",
       "    <tr style=\"text-align: right;\">\n",
       "      <th></th>\n",
       "      <th>IS_CRIME</th>\n",
       "      <th>IS_TRAFFIC</th>\n",
       "    </tr>\n",
       "    <tr>\n",
       "      <th>REPORTED_DATE</th>\n",
       "      <th></th>\n",
       "      <th></th>\n",
       "    </tr>\n",
       "  </thead>\n",
       "  <tbody>\n",
       "    <tr>\n",
       "      <th>2012-01-01</th>\n",
       "      <td>7882</td>\n",
       "      <td>4726</td>\n",
       "    </tr>\n",
       "    <tr>\n",
       "      <th>2012-04-01</th>\n",
       "      <td>9641</td>\n",
       "      <td>5255</td>\n",
       "    </tr>\n",
       "    <tr>\n",
       "      <th>2012-07-01</th>\n",
       "      <td>10566</td>\n",
       "      <td>5003</td>\n",
       "    </tr>\n",
       "    <tr>\n",
       "      <th>...</th>\n",
       "      <td>...</td>\n",
       "      <td>...</td>\n",
       "    </tr>\n",
       "    <tr>\n",
       "      <th>2017-01-01</th>\n",
       "      <td>16426</td>\n",
       "      <td>5587</td>\n",
       "    </tr>\n",
       "    <tr>\n",
       "      <th>2017-04-01</th>\n",
       "      <td>17486</td>\n",
       "      <td>6148</td>\n",
       "    </tr>\n",
       "    <tr>\n",
       "      <th>2017-07-01</th>\n",
       "      <td>17990</td>\n",
       "      <td>6101</td>\n",
       "    </tr>\n",
       "  </tbody>\n",
       "</table>\n",
       "<p>23 rows × 2 columns</p>\n",
       "</div>"
      ],
      "text/plain": [
       "               IS_CRIME  IS_TRAFFIC\n",
       "REPORTED_DATE                      \n",
       "2012-01-01         7882        4726\n",
       "2012-04-01         9641        5255\n",
       "2012-07-01        10566        5003\n",
       "...                 ...         ...\n",
       "2017-01-01        16426        5587\n",
       "2017-04-01        17486        6148\n",
       "2017-07-01        17990        6101\n",
       "\n",
       "[23 rows x 2 columns]"
      ]
     },
     "execution_count": 175,
     "metadata": {},
     "output_type": "execute_result"
    }
   ],
   "source": [
    "#Notice that the dates all appear as the last day of the quarter. This is because the offset alias, Q, represents the end of the quarter. \n",
    "#Let's use the offset alias QS to represent the start of the quarter:\n",
    "crime_sort.resample('QS')['IS_CRIME', 'IS_TRAFFIC'].sum()"
   ]
  },
  {
   "cell_type": "code",
   "execution_count": 176,
   "metadata": {},
   "outputs": [
    {
     "data": {
      "text/plain": [
       "IS_CRIME      9641\n",
       "IS_TRAFFIC    5255\n",
       "dtype: int64"
      ]
     },
     "execution_count": 176,
     "metadata": {},
     "output_type": "execute_result"
    }
   ],
   "source": [
    "#verify these results by checking whether the second quarter of data is correct:\n",
    "crime_sort.loc['2012-04-01':'2012-06-30',['IS_CRIME', 'IS_TRAFFIC']].sum()"
   ]
  },
  {
   "cell_type": "code",
   "execution_count": 177,
   "metadata": {},
   "outputs": [
    {
     "data": {
      "text/plain": [
       "True"
      ]
     },
     "execution_count": 177,
     "metadata": {},
     "output_type": "execute_result"
    }
   ],
   "source": [
    "#It is possible to replicate this operation using the groupby method:\n",
    "crime_quarterly_gby = crime_sort.groupby(pd.Grouper(freq='Q'))['IS_CRIME', 'IS_TRAFFIC'].sum()\n",
    "crime_quarterly_gby.equals(crime_quarterly)"
   ]
  },
  {
   "cell_type": "code",
   "execution_count": 178,
   "metadata": {},
   "outputs": [
    {
     "data": {
      "text/plain": [
       "<matplotlib.axes._subplots.AxesSubplot at 0x18e8242ce80>"
      ]
     },
     "execution_count": 178,
     "metadata": {},
     "output_type": "execute_result"
    },
    {
     "data": {
      "image/png": "[encoded data removed]",
      "text/plain": [
       "<Figure size 432x288 with 1 Axes>"
      ]
     },
     "metadata": {},
     "output_type": "display_data"
    }
   ],
   "source": [
    "#plot the trends in crime and traffic accidents over time:\n",
    "crime_quarterly.plot()"
   ]
  },
  {
   "cell_type": "code",
   "execution_count": 179,
   "metadata": {},
   "outputs": [
    {
     "data": {
      "text/plain": [
       "<matplotlib.axes._subplots.AxesSubplot at 0x18efed8d7b8>"
      ]
     },
     "execution_count": 179,
     "metadata": {},
     "output_type": "execute_result"
    },
    {
     "data": {
      "image/png": "[encoded data removed]",
      "text/plain": [
       "<Figure size 1152x288 with 1 Axes>"
      ]
     },
     "metadata": {},
     "output_type": "display_data"
    }
   ],
   "source": [
    "plot_kwargs = dict(figsize=(16,4), \n",
    "                       color=['red', 'lightgrey'], \n",
    "                       title='Denver Crimes and Traffic Accidents')\n",
    "crime_quarterly.plot(**plot_kwargs)"
   ]
  },
  {
   "cell_type": "markdown",
   "metadata": {},
   "source": [
    "The plot clearly shows a sharp increase in reported crimes during the first three quarters of the year. There also appears to be a seasonal component to both crime and traffic, with numbers lower in the cooler months and higher in the warmer months."
   ]
  },
  {
   "cell_type": "markdown",
   "metadata": {},
   "source": [
    "### More\n",
    "To get a different visual perspective, we can plot the percentage increase in crime and traffic, instead of the raw count. Let's divide all the data by the first row and plot again:"
   ]
  },
  {
   "cell_type": "code",
   "execution_count": 180,
   "metadata": {},
   "outputs": [
    {
     "data": {
      "text/plain": [
       "IS_CRIME      7882\n",
       "IS_TRAFFIC    4726\n",
       "Name: 2012-03-31 00:00:00, dtype: int64"
      ]
     },
     "execution_count": 180,
     "metadata": {},
     "output_type": "execute_result"
    }
   ],
   "source": [
    "crime_begin = crime_quarterly.iloc[0]\n",
    "crime_begin"
   ]
  },
  {
   "cell_type": "code",
   "execution_count": 181,
   "metadata": {},
   "outputs": [
    {
     "data": {
      "text/plain": [
       "<matplotlib.axes._subplots.AxesSubplot at 0x18e824ddb70>"
      ]
     },
     "execution_count": 181,
     "metadata": {},
     "output_type": "execute_result"
    },
    {
     "data": {
      "image/png": "[encoded data removed]",
      "text/plain": [
       "<Figure size 1152x288 with 1 Axes>"
      ]
     },
     "metadata": {},
     "output_type": "display_data"
    }
   ],
   "source": [
    "crime_quarterly.div(crime_begin) \\\n",
    "                   .sub(1) \\\n",
    "                   .round(2) \\\n",
    "                   .plot(**plot_kwargs)"
   ]
  },
  {
   "cell_type": "markdown",
   "metadata": {},
   "source": [
    "### Ex3. Measuring crime by weekday and year\n",
    "Measuring crimes by weekday and by year simultaneously necessitate the functionality to pull this information directly from a Timestamp. Thankfully, this functionality is built into any column consisting of Timestamps with the dt accessor.\n",
    "\n",
    "In this recipe, we will use the dt accessor to provide us with both the weekday name and year of each crime as a Series. We count all of the crimes by forming groups using both of these Series. Finally, we adjust the data to consider partial years and population before creating a heatmap of the total amount of crime."
   ]
  },
  {
   "cell_type": "code",
   "execution_count": 182,
   "metadata": {},
   "outputs": [],
   "source": [
    "crime = pd.read_hdf('data/bookPandasCookbook/crime.h5', 'crime')"
   ]
  },
  {
   "cell_type": "markdown",
   "metadata": {},
   "source": [
    "All Timestamp columns have a special attribute called the dt accessor, which gives access to a variety of extra attributes and methods specifically designed for them. Let's find the weekday name of each REPORTED_DATE and then count these values:"
   ]
  },
  {
   "cell_type": "code",
   "execution_count": 183,
   "metadata": {},
   "outputs": [
    {
     "data": {
      "text/plain": [
       "Monday       70024\n",
       "Friday       69621\n",
       "Wednesday    69538\n",
       "             ...  \n",
       "Tuesday      68394\n",
       "Saturday     58834\n",
       "Sunday       55213\n",
       "Name: REPORTED_DATE, Length: 7, dtype: int64"
      ]
     },
     "execution_count": 183,
     "metadata": {},
     "output_type": "execute_result"
    }
   ],
   "source": [
    "wd_counts = crime['REPORTED_DATE'].dt.weekday_name.value_counts()\n",
    "wd_counts"
   ]
  },
  {
   "cell_type": "markdown",
   "metadata": {},
   "source": [
    "The weekends appear to have substantially less crime and traffic accidents. Let's put this data in correct weekday order and make a horizontal bar plot:"
   ]
  },
  {
   "cell_type": "code",
   "execution_count": 184,
   "metadata": {},
   "outputs": [
    {
     "data": {
      "text/plain": [
       "<matplotlib.axes._subplots.AxesSubplot at 0x18e826085c0>"
      ]
     },
     "execution_count": 184,
     "metadata": {},
     "output_type": "execute_result"
    },
    {
     "data": {
      "image/png": "[encoded data removed]",
      "text/plain": [
       "<Figure size 432x288 with 1 Axes>"
      ]
     },
     "metadata": {},
     "output_type": "display_data"
    }
   ],
   "source": [
    "days = ['Monday', 'Tuesday', 'Wednesday', 'Thursday', 'Friday', 'Saturday', 'Sunday']\n",
    "title = 'Denver Crimes and Traffic Accidents per Weekday'\n",
    "wd_counts.reindex(days).plot(kind='barh', title=title)"
   ]
  },
  {
   "cell_type": "code",
   "execution_count": 185,
   "metadata": {},
   "outputs": [
    {
     "data": {
      "text/plain": [
       "Monday       70024\n",
       "Tuesday      68394\n",
       "Wednesday    69538\n",
       "             ...  \n",
       "Friday       69621\n",
       "Saturday     58834\n",
       "Sunday       55213\n",
       "Name: REPORTED_DATE, Length: 7, dtype: int64"
      ]
     },
     "execution_count": 185,
     "metadata": {},
     "output_type": "execute_result"
    }
   ],
   "source": [
    "# This task could have also been accomplished with the .loc indexer like this:\n",
    "wd_counts.loc[days]"
   ]
  },
  {
   "cell_type": "markdown",
   "metadata": {},
   "source": [
    "very similar procedure to plot the count by year:"
   ]
  },
  {
   "cell_type": "code",
   "execution_count": 186,
   "metadata": {},
   "outputs": [
    {
     "data": {
      "text/plain": [
       "2016    91076\n",
       "2015    89148\n",
       "2014    84421\n",
       "2017    69702\n",
       "2013    69527\n",
       "2012    57037\n",
       "Name: REPORTED_DATE, dtype: int64"
      ]
     },
     "execution_count": 186,
     "metadata": {},
     "output_type": "execute_result"
    }
   ],
   "source": [
    "#my attempt\n",
    "year_counts = crime['REPORTED_DATE'].dt.year.value_counts()\n",
    "year_counts"
   ]
  },
  {
   "cell_type": "code",
   "execution_count": 187,
   "metadata": {},
   "outputs": [
    {
     "data": {
      "text/plain": [
       "<matplotlib.axes._subplots.AxesSubplot at 0x18e825843c8>"
      ]
     },
     "execution_count": 187,
     "metadata": {},
     "output_type": "execute_result"
    },
    {
     "data": {
      "image/png": "[encoded data removed]",
      "text/plain": [
       "<Figure size 432x288 with 1 Axes>"
      ]
     },
     "metadata": {},
     "output_type": "display_data"
    }
   ],
   "source": [
    "title = 'Denver Crimes and Traffic Accidents per Year' \n",
    "crime['REPORTED_DATE'].dt.year.value_counts() \\\n",
    "                             .sort_index() \\\n",
    "                             .plot(kind='barh', title=title)"
   ]
  },
  {
   "cell_type": "markdown",
   "metadata": {},
   "source": [
    "We need to group by both weekday and year. One way of doing this is saving the weekday and year Series to separate variables and then using these variables with the groupby method:"
   ]
  },
  {
   "cell_type": "code",
   "execution_count": 188,
   "metadata": {},
   "outputs": [
    {
     "data": {
      "text/plain": [
       "0         2014\n",
       "1         2014\n",
       "2         2014\n",
       "          ... \n",
       "460908    2017\n",
       "460909    2017\n",
       "460910    2017\n",
       "Name: REPORTED_DATE, Length: 460911, dtype: int64"
      ]
     },
     "execution_count": 188,
     "metadata": {},
     "output_type": "execute_result"
    }
   ],
   "source": [
    "weekday = crime['REPORTED_DATE'].dt.weekday_name\n",
    "year = crime['REPORTED_DATE'].dt.year\n",
    "year"
   ]
  },
  {
   "cell_type": "code",
   "execution_count": 189,
   "metadata": {},
   "outputs": [
    {
     "data": {
      "text/plain": [
       "year  weekday \n",
       "2012  Friday       8549\n",
       "      Monday       8786\n",
       "      Saturday     7442\n",
       "                  ...  \n",
       "2013  Friday      10380\n",
       "      Monday      10627\n",
       "      Saturday     8875\n",
       "Length: 10, dtype: int64"
      ]
     },
     "execution_count": 189,
     "metadata": {},
     "output_type": "execute_result"
    }
   ],
   "source": [
    "#crime_wd_y = crime.groupby([year, weekday]).size() #$bug\n",
    "#fix, refer to: https://github.com/pandas-dev/pandas/issues/21075\n",
    "\n",
    "crime_wd_y = crime.groupby([crime['REPORTED_DATE'].dt.year.rename('year'), crime['REPORTED_DATE'].dt.weekday_name.rename('weekday')]).size()\n",
    "crime_wd_y.head(10)"
   ]
  },
  {
   "cell_type": "markdown",
   "metadata": {},
   "source": [
    "We have aggregated the data correctly but the structure isn't exactly conducive to make comparisons easily. Let's first rename those meaningless index level names and then unstack the weekday level to get us a more readable table:"
   ]
  },
  {
   "cell_type": "code",
   "execution_count": 190,
   "metadata": {},
   "outputs": [
    {
     "data": {
      "text/html": [
       "<div>\n",
       "<style scoped>\n",
       "    .dataframe tbody tr th:only-of-type {\n",
       "        vertical-align: middle;\n",
       "    }\n",
       "\n",
       "    .dataframe tbody tr th {\n",
       "        vertical-align: top;\n",
       "    }\n",
       "\n",
       "    .dataframe thead th {\n",
       "        text-align: right;\n",
       "    }\n",
       "</style>\n",
       "<table border=\"1\" class=\"dataframe\">\n",
       "  <thead>\n",
       "    <tr style=\"text-align: right;\">\n",
       "      <th>Weekday</th>\n",
       "      <th>Friday</th>\n",
       "      <th>Monday</th>\n",
       "      <th>Saturday</th>\n",
       "      <th>Sunday</th>\n",
       "      <th>Thursday</th>\n",
       "      <th>Tuesday</th>\n",
       "      <th>Wednesday</th>\n",
       "    </tr>\n",
       "    <tr>\n",
       "      <th>Year</th>\n",
       "      <th></th>\n",
       "      <th></th>\n",
       "      <th></th>\n",
       "      <th></th>\n",
       "      <th></th>\n",
       "      <th></th>\n",
       "      <th></th>\n",
       "    </tr>\n",
       "  </thead>\n",
       "  <tbody>\n",
       "    <tr>\n",
       "      <th>2012</th>\n",
       "      <td>8549</td>\n",
       "      <td>8786</td>\n",
       "      <td>7442</td>\n",
       "      <td>7189</td>\n",
       "      <td>8440</td>\n",
       "      <td>8191</td>\n",
       "      <td>8440</td>\n",
       "    </tr>\n",
       "    <tr>\n",
       "      <th>2013</th>\n",
       "      <td>10380</td>\n",
       "      <td>10627</td>\n",
       "      <td>8875</td>\n",
       "      <td>8444</td>\n",
       "      <td>10431</td>\n",
       "      <td>10416</td>\n",
       "      <td>10354</td>\n",
       "    </tr>\n",
       "    <tr>\n",
       "      <th>2014</th>\n",
       "      <td>12683</td>\n",
       "      <td>12813</td>\n",
       "      <td>10950</td>\n",
       "      <td>10278</td>\n",
       "      <td>12309</td>\n",
       "      <td>12440</td>\n",
       "      <td>12948</td>\n",
       "    </tr>\n",
       "    <tr>\n",
       "      <th>2015</th>\n",
       "      <td>13273</td>\n",
       "      <td>13452</td>\n",
       "      <td>11586</td>\n",
       "      <td>10624</td>\n",
       "      <td>13512</td>\n",
       "      <td>13381</td>\n",
       "      <td>13320</td>\n",
       "    </tr>\n",
       "    <tr>\n",
       "      <th>2016</th>\n",
       "      <td>14059</td>\n",
       "      <td>13708</td>\n",
       "      <td>11467</td>\n",
       "      <td>10554</td>\n",
       "      <td>14050</td>\n",
       "      <td>13338</td>\n",
       "      <td>13900</td>\n",
       "    </tr>\n",
       "    <tr>\n",
       "      <th>2017</th>\n",
       "      <td>10677</td>\n",
       "      <td>10638</td>\n",
       "      <td>8514</td>\n",
       "      <td>8124</td>\n",
       "      <td>10545</td>\n",
       "      <td>10628</td>\n",
       "      <td>10576</td>\n",
       "    </tr>\n",
       "  </tbody>\n",
       "</table>\n",
       "</div>"
      ],
      "text/plain": [
       "Weekday  Friday  Monday  Saturday  Sunday  Thursday  Tuesday  Wednesday\n",
       "Year                                                                   \n",
       "2012       8549    8786      7442    7189      8440     8191       8440\n",
       "2013      10380   10627      8875    8444     10431    10416      10354\n",
       "2014      12683   12813     10950   10278     12309    12440      12948\n",
       "2015      13273   13452     11586   10624     13512    13381      13320\n",
       "2016      14059   13708     11467   10554     14050    13338      13900\n",
       "2017      10677   10638      8514    8124     10545    10628      10576"
      ]
     },
     "execution_count": 190,
     "metadata": {},
     "output_type": "execute_result"
    }
   ],
   "source": [
    "#To ease the readability, we pivot the weekday level into horizontal column names with unstack.\n",
    "crime_table = crime_wd_y.rename_axis(['Year', 'Weekday']).unstack('Weekday')\n",
    "crime_table"
   ]
  },
  {
   "cell_type": "markdown",
   "metadata": {},
   "source": [
    "We now have a nicer representation that is easier to read but noticeably, the 2017 numbers are incomplete. To help make a fairer comparison, we can make a simple linear extrapolation to estimate the final number of crimes. Let's first find the last day that we have data for in 2017:"
   ]
  },
  {
   "cell_type": "code",
   "execution_count": 191,
   "metadata": {},
   "outputs": [
    {
     "data": {
      "text/plain": [
       "272"
      ]
     },
     "execution_count": 191,
     "metadata": {},
     "output_type": "execute_result"
    }
   ],
   "source": [
    "criteria = crime['REPORTED_DATE'].dt.year == 2017\n",
    "crime.loc[criteria, 'REPORTED_DATE'].dt.dayofyear.max()"
   ]
  },
  {
   "cell_type": "markdown",
   "metadata": {},
   "source": [
    "A naive estimate would be to assume a constant rate of crime throughout the year and simply multiply all values in the 2017 table by 365/272. However, we can do a little better and look at our historical data and calculate the average percentage of crimes that have taken place through the first 272 days of the year:"
   ]
  },
  {
   "cell_type": "code",
   "execution_count": 192,
   "metadata": {},
   "outputs": [],
   "source": [
    "round(272 / 365, 3)\n",
    "\n",
    "# We first create a boolean Series by testing whether each crime was committed on or before the 272nd day of the year\n",
    "# From here, we again use the flexible groupby method to form groups by the previously calculated year Series and \n",
    "#then use the mean method to find the percentage of crimes committed on or before the 272nd day for each year.\n",
    "crime_pct = crime['REPORTED_DATE'].dt.dayofyear.le(272) \\\n",
    "                                      .groupby(year) \\\n",
    "                                      .mean() \\\n",
    "                                      .round(3)"
   ]
  },
  {
   "cell_type": "code",
   "execution_count": 193,
   "metadata": {},
   "outputs": [
    {
     "data": {
      "text/plain": [
       "0.748"
      ]
     },
     "execution_count": 193,
     "metadata": {},
     "output_type": "execute_result"
    }
   ],
   "source": [
    "crime_pct.loc[2012:2016].median()"
   ]
  },
  {
   "cell_type": "markdown",
   "metadata": {},
   "source": [
    "It turns out, perhaps very coincidentally, that the percentage of crimes that happen during the first 272 days of the year is almost exactly proportional to the percentage of days passed in the year. Let's now update the row for 2017 and change the column order to match the weekday order:"
   ]
  },
  {
   "cell_type": "code",
   "execution_count": 194,
   "metadata": {},
   "outputs": [
    {
     "data": {
      "text/html": [
       "<div>\n",
       "<style scoped>\n",
       "    .dataframe tbody tr th:only-of-type {\n",
       "        vertical-align: middle;\n",
       "    }\n",
       "\n",
       "    .dataframe tbody tr th {\n",
       "        vertical-align: top;\n",
       "    }\n",
       "\n",
       "    .dataframe thead th {\n",
       "        text-align: right;\n",
       "    }\n",
       "</style>\n",
       "<table border=\"1\" class=\"dataframe\">\n",
       "  <thead>\n",
       "    <tr style=\"text-align: right;\">\n",
       "      <th>Weekday</th>\n",
       "      <th>Monday</th>\n",
       "      <th>Tuesday</th>\n",
       "      <th>Wednesday</th>\n",
       "      <th>Thursday</th>\n",
       "      <th>Friday</th>\n",
       "      <th>Saturday</th>\n",
       "      <th>Sunday</th>\n",
       "    </tr>\n",
       "    <tr>\n",
       "      <th>Year</th>\n",
       "      <th></th>\n",
       "      <th></th>\n",
       "      <th></th>\n",
       "      <th></th>\n",
       "      <th></th>\n",
       "      <th></th>\n",
       "      <th></th>\n",
       "    </tr>\n",
       "  </thead>\n",
       "  <tbody>\n",
       "    <tr>\n",
       "      <th>2012</th>\n",
       "      <td>8786</td>\n",
       "      <td>8191</td>\n",
       "      <td>8440</td>\n",
       "      <td>8440</td>\n",
       "      <td>8549</td>\n",
       "      <td>7442</td>\n",
       "      <td>7189</td>\n",
       "    </tr>\n",
       "    <tr>\n",
       "      <th>2013</th>\n",
       "      <td>10627</td>\n",
       "      <td>10416</td>\n",
       "      <td>10354</td>\n",
       "      <td>10431</td>\n",
       "      <td>10380</td>\n",
       "      <td>8875</td>\n",
       "      <td>8444</td>\n",
       "    </tr>\n",
       "    <tr>\n",
       "      <th>2014</th>\n",
       "      <td>12813</td>\n",
       "      <td>12440</td>\n",
       "      <td>12948</td>\n",
       "      <td>12309</td>\n",
       "      <td>12683</td>\n",
       "      <td>10950</td>\n",
       "      <td>10278</td>\n",
       "    </tr>\n",
       "    <tr>\n",
       "      <th>2015</th>\n",
       "      <td>13452</td>\n",
       "      <td>13381</td>\n",
       "      <td>13320</td>\n",
       "      <td>13512</td>\n",
       "      <td>13273</td>\n",
       "      <td>11586</td>\n",
       "      <td>10624</td>\n",
       "    </tr>\n",
       "    <tr>\n",
       "      <th>2016</th>\n",
       "      <td>13708</td>\n",
       "      <td>13338</td>\n",
       "      <td>13900</td>\n",
       "      <td>14050</td>\n",
       "      <td>14059</td>\n",
       "      <td>11467</td>\n",
       "      <td>10554</td>\n",
       "    </tr>\n",
       "    <tr>\n",
       "      <th>2017</th>\n",
       "      <td>14221</td>\n",
       "      <td>14208</td>\n",
       "      <td>14139</td>\n",
       "      <td>14097</td>\n",
       "      <td>14274</td>\n",
       "      <td>11382</td>\n",
       "      <td>10860</td>\n",
       "    </tr>\n",
       "  </tbody>\n",
       "</table>\n",
       "</div>"
      ],
      "text/plain": [
       "Weekday  Monday  Tuesday  Wednesday  Thursday  Friday  Saturday  Sunday\n",
       "Year                                                                   \n",
       "2012       8786     8191       8440      8440    8549      7442    7189\n",
       "2013      10627    10416      10354     10431   10380      8875    8444\n",
       "2014      12813    12440      12948     12309   12683     10950   10278\n",
       "2015      13452    13381      13320     13512   13273     11586   10624\n",
       "2016      13708    13338      13900     14050   14059     11467   10554\n",
       "2017      14221    14208      14139     14097   14274     11382   10860"
      ]
     },
     "execution_count": 194,
     "metadata": {},
     "output_type": "execute_result"
    }
   ],
   "source": [
    "# adjust this row by dividing by the median percentage found\n",
    "crime_table.loc[2017] = crime_table.loc[2017].div(.748).astype('int')\n",
    "crime_table = crime_table.reindex(columns=days)\n",
    "crime_table"
   ]
  },
  {
   "cell_type": "markdown",
   "metadata": {},
   "source": [
    "Make a bar or line plot but this is also a good situation for a heatmap, which is available with the seaborn library:  \n",
    " The cmap parameter takes a string name of the several dozen available matplotlib colormaps (http://bit.ly/2yJZOvt)."
   ]
  },
  {
   "cell_type": "code",
   "execution_count": 195,
   "metadata": {},
   "outputs": [
    {
     "data": {
      "text/plain": [
       "<matplotlib.axes._subplots.AxesSubplot at 0x18e82d3f6d8>"
      ]
     },
     "execution_count": 195,
     "metadata": {},
     "output_type": "execute_result"
    },
    {
     "data": {
      "image/png": "[encoded data removed]",
      "text/plain": [
       "<Figure size 432x288 with 2 Axes>"
      ]
     },
     "metadata": {},
     "output_type": "display_data"
    }
   ],
   "source": [
    "import seaborn as sns\n",
    "sns.heatmap(crime_table, cmap='Blues')"
   ]
  },
  {
   "cell_type": "markdown",
   "metadata": {},
   "source": [
    "Crime seems to be rising every year but this data does not account for rising population. Let's read in a table for the Denver population for each year that we have data:"
   ]
  },
  {
   "cell_type": "code",
   "execution_count": 196,
   "metadata": {},
   "outputs": [
    {
     "data": {
      "text/html": [
       "<div>\n",
       "<style scoped>\n",
       "    .dataframe tbody tr th:only-of-type {\n",
       "        vertical-align: middle;\n",
       "    }\n",
       "\n",
       "    .dataframe tbody tr th {\n",
       "        vertical-align: top;\n",
       "    }\n",
       "\n",
       "    .dataframe thead th {\n",
       "        text-align: right;\n",
       "    }\n",
       "</style>\n",
       "<table border=\"1\" class=\"dataframe\">\n",
       "  <thead>\n",
       "    <tr style=\"text-align: right;\">\n",
       "      <th></th>\n",
       "      <th>Population</th>\n",
       "    </tr>\n",
       "    <tr>\n",
       "      <th>Year</th>\n",
       "      <th></th>\n",
       "    </tr>\n",
       "  </thead>\n",
       "  <tbody>\n",
       "    <tr>\n",
       "      <th>2017</th>\n",
       "      <td>705000</td>\n",
       "    </tr>\n",
       "    <tr>\n",
       "      <th>2016</th>\n",
       "      <td>693000</td>\n",
       "    </tr>\n",
       "    <tr>\n",
       "      <th>2015</th>\n",
       "      <td>680000</td>\n",
       "    </tr>\n",
       "    <tr>\n",
       "      <th>2014</th>\n",
       "      <td>662000</td>\n",
       "    </tr>\n",
       "    <tr>\n",
       "      <th>2013</th>\n",
       "      <td>647000</td>\n",
       "    </tr>\n",
       "    <tr>\n",
       "      <th>2012</th>\n",
       "      <td>634000</td>\n",
       "    </tr>\n",
       "  </tbody>\n",
       "</table>\n",
       "</div>"
      ],
      "text/plain": [
       "      Population\n",
       "Year            \n",
       "2017      705000\n",
       "2016      693000\n",
       "2015      680000\n",
       "2014      662000\n",
       "2013      647000\n",
       "2012      634000"
      ]
     },
     "execution_count": 196,
     "metadata": {},
     "output_type": "execute_result"
    }
   ],
   "source": [
    "denver_pop = pd.read_csv('data/bookPandasCookbook/denver_pop.csv', index_col='Year')\n",
    "denver_pop"
   ]
  },
  {
   "cell_type": "markdown",
   "metadata": {},
   "source": [
    "Many crime metrics are reported as rates per 100,000 residents. Let's divide the population by 100,000 and then divide the raw crime counts by this number to get the crime rate per 100,000 residents:"
   ]
  },
  {
   "cell_type": "code",
   "execution_count": 197,
   "metadata": {},
   "outputs": [],
   "source": [
    "#a fairly tricky operation\n",
    "#We still can't simply divide these two objects as, by default, division between a DataFrame and a Series aligns the columns of the DataFrame with the index of the Series, like this:\n",
    "#crime_table / den_100k\n",
    "\n",
    "#We need the index of the DataFrame to align with the index of Series and to do this, \n",
    "#we use the div method, which allows us to change the direction of alignment with the axis parameter."
   ]
  },
  {
   "cell_type": "code",
   "execution_count": 198,
   "metadata": {},
   "outputs": [
    {
     "data": {
      "text/html": [
       "<div>\n",
       "<style scoped>\n",
       "    .dataframe tbody tr th:only-of-type {\n",
       "        vertical-align: middle;\n",
       "    }\n",
       "\n",
       "    .dataframe tbody tr th {\n",
       "        vertical-align: top;\n",
       "    }\n",
       "\n",
       "    .dataframe thead th {\n",
       "        text-align: right;\n",
       "    }\n",
       "</style>\n",
       "<table border=\"1\" class=\"dataframe\">\n",
       "  <thead>\n",
       "    <tr style=\"text-align: right;\">\n",
       "      <th>Weekday</th>\n",
       "      <th>Monday</th>\n",
       "      <th>Tuesday</th>\n",
       "      <th>Wednesday</th>\n",
       "      <th>Thursday</th>\n",
       "      <th>Friday</th>\n",
       "      <th>Saturday</th>\n",
       "      <th>Sunday</th>\n",
       "    </tr>\n",
       "    <tr>\n",
       "      <th>Year</th>\n",
       "      <th></th>\n",
       "      <th></th>\n",
       "      <th></th>\n",
       "      <th></th>\n",
       "      <th></th>\n",
       "      <th></th>\n",
       "      <th></th>\n",
       "    </tr>\n",
       "  </thead>\n",
       "  <tbody>\n",
       "    <tr>\n",
       "      <th>2012</th>\n",
       "      <td>1385</td>\n",
       "      <td>1291</td>\n",
       "      <td>1331</td>\n",
       "      <td>1331</td>\n",
       "      <td>1348</td>\n",
       "      <td>1173</td>\n",
       "      <td>1133</td>\n",
       "    </tr>\n",
       "    <tr>\n",
       "      <th>2013</th>\n",
       "      <td>1642</td>\n",
       "      <td>1609</td>\n",
       "      <td>1600</td>\n",
       "      <td>1612</td>\n",
       "      <td>1604</td>\n",
       "      <td>1371</td>\n",
       "      <td>1305</td>\n",
       "    </tr>\n",
       "    <tr>\n",
       "      <th>2014</th>\n",
       "      <td>1935</td>\n",
       "      <td>1879</td>\n",
       "      <td>1955</td>\n",
       "      <td>1859</td>\n",
       "      <td>1915</td>\n",
       "      <td>1654</td>\n",
       "      <td>1552</td>\n",
       "    </tr>\n",
       "    <tr>\n",
       "      <th>2015</th>\n",
       "      <td>1978</td>\n",
       "      <td>1967</td>\n",
       "      <td>1958</td>\n",
       "      <td>1987</td>\n",
       "      <td>1951</td>\n",
       "      <td>1703</td>\n",
       "      <td>1562</td>\n",
       "    </tr>\n",
       "    <tr>\n",
       "      <th>2016</th>\n",
       "      <td>1978</td>\n",
       "      <td>1924</td>\n",
       "      <td>2005</td>\n",
       "      <td>2027</td>\n",
       "      <td>2028</td>\n",
       "      <td>1654</td>\n",
       "      <td>1522</td>\n",
       "    </tr>\n",
       "    <tr>\n",
       "      <th>2017</th>\n",
       "      <td>2017</td>\n",
       "      <td>2015</td>\n",
       "      <td>2005</td>\n",
       "      <td>1999</td>\n",
       "      <td>2024</td>\n",
       "      <td>1614</td>\n",
       "      <td>1540</td>\n",
       "    </tr>\n",
       "  </tbody>\n",
       "</table>\n",
       "</div>"
      ],
      "text/plain": [
       "Weekday  Monday  Tuesday  Wednesday  Thursday  Friday  Saturday  Sunday\n",
       "Year                                                                   \n",
       "2012       1385     1291       1331      1331    1348      1173    1133\n",
       "2013       1642     1609       1600      1612    1604      1371    1305\n",
       "2014       1935     1879       1955      1859    1915      1654    1552\n",
       "2015       1978     1967       1958      1987    1951      1703    1562\n",
       "2016       1978     1924       2005      2027    2028      1654    1522\n",
       "2017       2017     2015       2005      1999    2024      1614    1540"
      ]
     },
     "execution_count": 198,
     "metadata": {},
     "output_type": "execute_result"
    }
   ],
   "source": [
    "den_100k = denver_pop.div(100000).squeeze()\n",
    "crime_table2 = crime_table.div(den_100k, axis='index').astype('int')\n",
    "crime_table2"
   ]
  },
  {
   "cell_type": "markdown",
   "metadata": {},
   "source": [
    "Once again, we can make a heatmap that, even after adjusting for population increase, looks nearly identical to the first one:"
   ]
  },
  {
   "cell_type": "code",
   "execution_count": 199,
   "metadata": {},
   "outputs": [
    {
     "data": {
      "text/plain": [
       "<matplotlib.axes._subplots.AxesSubplot at 0x18e80bedd68>"
      ]
     },
     "execution_count": 199,
     "metadata": {},
     "output_type": "execute_result"
    },
    {
     "data": {
      "image/png": "[encoded data removed]",
      "text/plain": [
       "<Figure size 432x288 with 2 Axes>"
      ]
     },
     "metadata": {},
     "output_type": "display_data"
    }
   ],
   "source": [
    "sns.heatmap(crime_table2, cmap='Blues')"
   ]
  },
  {
   "cell_type": "code",
   "execution_count": null,
   "metadata": {},
   "outputs": [],
   "source": []
  },
  {
   "cell_type": "markdown",
   "metadata": {},
   "source": [
    "### More\n",
    "Let's finalize this analysis by writing a function to complete all the steps of this recipe at once and add the ability to choose a specific type of crime:"
   ]
  },
  {
   "cell_type": "code",
   "execution_count": 200,
   "metadata": {},
   "outputs": [
    {
     "data": {
      "text/html": [
       "<div>\n",
       "<style scoped>\n",
       "    .dataframe tbody tr th:only-of-type {\n",
       "        vertical-align: middle;\n",
       "    }\n",
       "\n",
       "    .dataframe tbody tr th {\n",
       "        vertical-align: top;\n",
       "    }\n",
       "\n",
       "    .dataframe thead th {\n",
       "        text-align: right;\n",
       "    }\n",
       "</style>\n",
       "<table border=\"1\" class=\"dataframe\">\n",
       "  <thead>\n",
       "    <tr style=\"text-align: right;\">\n",
       "      <th>weekday</th>\n",
       "      <th>Monday</th>\n",
       "      <th>Tuesday</th>\n",
       "      <th>Wednesday</th>\n",
       "      <th>Thursday</th>\n",
       "      <th>Friday</th>\n",
       "      <th>Saturday</th>\n",
       "      <th>Sunday</th>\n",
       "    </tr>\n",
       "  </thead>\n",
       "  <tbody>\n",
       "    <tr>\n",
       "      <th>2012</th>\n",
       "      <td>95</td>\n",
       "      <td>72</td>\n",
       "      <td>72</td>\n",
       "      <td>76</td>\n",
       "      <td>71</td>\n",
       "      <td>78</td>\n",
       "      <td>76</td>\n",
       "    </tr>\n",
       "    <tr>\n",
       "      <th>2013</th>\n",
       "      <td>85</td>\n",
       "      <td>74</td>\n",
       "      <td>74</td>\n",
       "      <td>69</td>\n",
       "      <td>65</td>\n",
       "      <td>68</td>\n",
       "      <td>67</td>\n",
       "    </tr>\n",
       "    <tr>\n",
       "      <th>2014</th>\n",
       "      <td>94</td>\n",
       "      <td>76</td>\n",
       "      <td>72</td>\n",
       "      <td>70</td>\n",
       "      <td>76</td>\n",
       "      <td>67</td>\n",
       "      <td>67</td>\n",
       "    </tr>\n",
       "    <tr>\n",
       "      <th>2015</th>\n",
       "      <td>108</td>\n",
       "      <td>102</td>\n",
       "      <td>89</td>\n",
       "      <td>101</td>\n",
       "      <td>92</td>\n",
       "      <td>85</td>\n",
       "      <td>78</td>\n",
       "    </tr>\n",
       "    <tr>\n",
       "      <th>2016</th>\n",
       "      <td>119</td>\n",
       "      <td>102</td>\n",
       "      <td>100</td>\n",
       "      <td>99</td>\n",
       "      <td>97</td>\n",
       "      <td>86</td>\n",
       "      <td>85</td>\n",
       "    </tr>\n",
       "    <tr>\n",
       "      <th>2017</th>\n",
       "      <td>114</td>\n",
       "      <td>118</td>\n",
       "      <td>111</td>\n",
       "      <td>106</td>\n",
       "      <td>111</td>\n",
       "      <td>91</td>\n",
       "      <td>102</td>\n",
       "    </tr>\n",
       "  </tbody>\n",
       "</table>\n",
       "</div>"
      ],
      "text/plain": [
       "weekday  Monday  Tuesday  Wednesday  Thursday  Friday  Saturday  Sunday\n",
       "2012         95       72         72        76      71        78      76\n",
       "2013         85       74         74        69      65        68      67\n",
       "2014         94       76         72        70      76        67      67\n",
       "2015        108      102         89       101      92        85      78\n",
       "2016        119      102        100        99      97        86      85\n",
       "2017        114      118        111       106     111        91     102"
      ]
     },
     "execution_count": 200,
     "metadata": {},
     "output_type": "execute_result"
    },
    {
     "data": {
      "image/png": "[encoded data removed]",
      "text/plain": [
       "<Figure size 432x288 with 2 Axes>"
      ]
     },
     "metadata": {},
     "output_type": "display_data"
    }
   ],
   "source": [
    "ADJ_2017 = .748\n",
    "\n",
    "def count_crime(df, offense_cat):\n",
    "    df = df[df['OFFENSE_CATEGORY_ID'] == offense_cat]\n",
    "    #weekday = df['REPORTED_DATE'].dt.weekday_name $acbug\n",
    "    #year = df['REPORTED_DATE'].dt.year\n",
    "\n",
    "    ct = df.groupby([df['REPORTED_DATE'].dt.year.rename('year'),  df['REPORTED_DATE'].dt.weekday_name.rename('weekday')]).size().unstack()\n",
    "    ct.loc[2017] = ct.loc[2017].div(ADJ_2017).astype('int')\n",
    "\n",
    "    pop = pd.read_csv('data/bookPandasCookbook/denver_pop.csv', index_col='Year')\n",
    "    pop = pop.squeeze().div(100000)\n",
    "\n",
    "    ct = ct.div(pop, axis=0).astype('int')\n",
    "    ct = ct.reindex(columns=days)\n",
    "    sns.heatmap(ct, cmap='Greys')\n",
    "    return ct\n",
    "\n",
    "count_crime(crime, 'auto-theft')"
   ]
  },
  {
   "cell_type": "markdown",
   "metadata": {},
   "source": [
    "### Ex4. Grouping\n",
    "In this recipe, we will show the versatility of using the groupby method for DataFrames that have a DatetimeIndex."
   ]
  },
  {
   "cell_type": "code",
   "execution_count": 202,
   "metadata": {},
   "outputs": [],
   "source": [
    "crime_sort = pd.read_hdf('data/bookPandasCookbook/crime.h5', 'crime') \\\n",
    "                   .set_index('REPORTED_DATE') \\\n",
    "                   .sort_index()"
   ]
  },
  {
   "cell_type": "markdown",
   "metadata": {},
   "source": [
    "The DatetimeIndex itself has many of the same attributes and methods as a pandas Timestamp. Let's take a look at some that they have in common:"
   ]
  },
  {
   "cell_type": "code",
   "execution_count": 203,
   "metadata": {},
   "outputs": [
    {
     "name": "stdout",
     "output_type": "stream",
     "text": [
      "['min', 'day', 'to_pydatetime', 'freq', 'is_quarter_end', 'month_name', 'days_in_month', 'date', 'microsecond', 'quarter', 'round', 'minute', 'weekofyear', 'normalize', 'is_leap_year', 'resolution', 'hour', 'is_year_end', 'second', 'is_month_start', 'weekday_name', 'daysinmonth', 'weekday', 'to_period', 'week', 'tz', 'day_name', 'is_quarter_start', 'to_julian_date', 'is_year_start', 'year', 'nanosecond', 'floor', 'month', 'tz_localize', 'dayofweek', 'tz_convert', 'time', 'tzinfo', 'strftime', 'ceil', 'dayofyear', 'is_month_end', 'freqstr', 'max']\n"
     ]
    }
   ],
   "source": [
    "common_attrs = set(dir(crime_sort.index)) & set(dir(pd.Timestamp))\n",
    "print([attr for attr in common_attrs if attr[0] != '_'])"
   ]
  },
  {
   "cell_type": "code",
   "execution_count": 204,
   "metadata": {},
   "outputs": [
    {
     "data": {
      "text/plain": [
       "Monday       70024\n",
       "Friday       69621\n",
       "Wednesday    69538\n",
       "             ...  \n",
       "Tuesday      68394\n",
       "Saturday     58834\n",
       "Sunday       55213\n",
       "Name: REPORTED_DATE, Length: 7, dtype: int64"
      ]
     },
     "execution_count": 204,
     "metadata": {},
     "output_type": "execute_result"
    }
   ],
   "source": [
    "#We can then use the index to find weekday names, similarly to what was done in step 2 of the preceding recipe:\n",
    "crime_sort.index.weekday_name.value_counts()"
   ]
  },
  {
   "cell_type": "markdown",
   "metadata": {},
   "source": [
    "GROUPBY method has the ability to accept a function as an argument. \n",
    "\n",
    "We take advantage of the special ability of the groupby method to accept a function that is passed the DatetimeIndex. The x in the anonymous function is literally the DatetimeIndex and we use it to retrieve the weekday name.\n",
    "\n",
    "\n",
    "This function will be implicitly passed the index and its return value is used to form groups. Let's see this in action by grouping with a function that turns the index into a weekday name and then counts the number of crimes and traffic accidents separately:"
   ]
  },
  {
   "cell_type": "code",
   "execution_count": 205,
   "metadata": {},
   "outputs": [
    {
     "data": {
      "text/html": [
       "<div>\n",
       "<style scoped>\n",
       "    .dataframe tbody tr th:only-of-type {\n",
       "        vertical-align: middle;\n",
       "    }\n",
       "\n",
       "    .dataframe tbody tr th {\n",
       "        vertical-align: top;\n",
       "    }\n",
       "\n",
       "    .dataframe thead th {\n",
       "        text-align: right;\n",
       "    }\n",
       "</style>\n",
       "<table border=\"1\" class=\"dataframe\">\n",
       "  <thead>\n",
       "    <tr style=\"text-align: right;\">\n",
       "      <th></th>\n",
       "      <th>IS_CRIME</th>\n",
       "      <th>IS_TRAFFIC</th>\n",
       "    </tr>\n",
       "  </thead>\n",
       "  <tbody>\n",
       "    <tr>\n",
       "      <th>Friday</th>\n",
       "      <td>48833</td>\n",
       "      <td>20814</td>\n",
       "    </tr>\n",
       "    <tr>\n",
       "      <th>Monday</th>\n",
       "      <td>52158</td>\n",
       "      <td>17895</td>\n",
       "    </tr>\n",
       "    <tr>\n",
       "      <th>Saturday</th>\n",
       "      <td>43363</td>\n",
       "      <td>15516</td>\n",
       "    </tr>\n",
       "    <tr>\n",
       "      <th>...</th>\n",
       "      <td>...</td>\n",
       "      <td>...</td>\n",
       "    </tr>\n",
       "    <tr>\n",
       "      <th>Thursday</th>\n",
       "      <td>49470</td>\n",
       "      <td>19845</td>\n",
       "    </tr>\n",
       "    <tr>\n",
       "      <th>Tuesday</th>\n",
       "      <td>49658</td>\n",
       "      <td>18755</td>\n",
       "    </tr>\n",
       "    <tr>\n",
       "      <th>Wednesday</th>\n",
       "      <td>50054</td>\n",
       "      <td>19508</td>\n",
       "    </tr>\n",
       "  </tbody>\n",
       "</table>\n",
       "<p>7 rows × 2 columns</p>\n",
       "</div>"
      ],
      "text/plain": [
       "           IS_CRIME  IS_TRAFFIC\n",
       "Friday        48833       20814\n",
       "Monday        52158       17895\n",
       "Saturday      43363       15516\n",
       "...             ...         ...\n",
       "Thursday      49470       19845\n",
       "Tuesday       49658       18755\n",
       "Wednesday     50054       19508\n",
       "\n",
       "[7 rows x 2 columns]"
      ]
     },
     "execution_count": 205,
     "metadata": {},
     "output_type": "execute_result"
    }
   ],
   "source": [
    "crime_sort.groupby(lambda x: x.weekday_name)['IS_CRIME', 'IS_TRAFFIC'].sum()"
   ]
  },
  {
   "cell_type": "markdown",
   "metadata": {},
   "source": [
    "It is possible to pass groupby a list of any number of custom functions, as done in step 5. Here, the first function uses the round DatetimeIndex method to round each value to the nearest second hour. The second function retrieves the year. \n",
    "\n",
    "You can use a list of functions to group by both the hour of day and year, and then reshape the table to make it more readable:"
   ]
  },
  {
   "cell_type": "code",
   "execution_count": 207,
   "metadata": {},
   "outputs": [
    {
     "data": {
      "text/html": [
       "<div>\n",
       "<style scoped>\n",
       "    .dataframe tbody tr th:only-of-type {\n",
       "        vertical-align: middle;\n",
       "    }\n",
       "\n",
       "    .dataframe tbody tr th {\n",
       "        vertical-align: top;\n",
       "    }\n",
       "\n",
       "    .dataframe thead th {\n",
       "        text-align: right;\n",
       "    }\n",
       "</style>\n",
       "<table border=\"1\" class=\"dataframe\">\n",
       "  <thead>\n",
       "    <tr style=\"text-align: right;\">\n",
       "      <th></th>\n",
       "      <th></th>\n",
       "      <th>IS_CRIME</th>\n",
       "      <th>IS_TRAFFIC</th>\n",
       "    </tr>\n",
       "  </thead>\n",
       "  <tbody>\n",
       "    <tr>\n",
       "      <th rowspan=\"3\" valign=\"top\">0</th>\n",
       "      <th>2012</th>\n",
       "      <td>2422</td>\n",
       "      <td>919</td>\n",
       "    </tr>\n",
       "    <tr>\n",
       "      <th>2013</th>\n",
       "      <td>4040</td>\n",
       "      <td>792</td>\n",
       "    </tr>\n",
       "    <tr>\n",
       "      <th>2014</th>\n",
       "      <td>5649</td>\n",
       "      <td>978</td>\n",
       "    </tr>\n",
       "    <tr>\n",
       "      <th>...</th>\n",
       "      <th>...</th>\n",
       "      <td>...</td>\n",
       "      <td>...</td>\n",
       "    </tr>\n",
       "    <tr>\n",
       "      <th rowspan=\"3\" valign=\"top\">22</th>\n",
       "      <th>2015</th>\n",
       "      <td>5626</td>\n",
       "      <td>1671</td>\n",
       "    </tr>\n",
       "    <tr>\n",
       "      <th>2016</th>\n",
       "      <td>5637</td>\n",
       "      <td>1472</td>\n",
       "    </tr>\n",
       "    <tr>\n",
       "      <th>2017</th>\n",
       "      <td>4358</td>\n",
       "      <td>1072</td>\n",
       "    </tr>\n",
       "  </tbody>\n",
       "</table>\n",
       "<p>72 rows × 2 columns</p>\n",
       "</div>"
      ],
      "text/plain": [
       "         IS_CRIME  IS_TRAFFIC\n",
       "0  2012      2422         919\n",
       "   2013      4040         792\n",
       "   2014      5649         978\n",
       "...           ...         ...\n",
       "22 2015      5626        1671\n",
       "   2016      5637        1472\n",
       "   2017      4358        1072\n",
       "\n",
       "[72 rows x 2 columns]"
      ]
     },
     "execution_count": 207,
     "metadata": {},
     "output_type": "execute_result"
    }
   ],
   "source": [
    "funcs = [lambda x: x.round('2h').hour, lambda x: x.year]\n",
    "cr_group = crime_sort.groupby(funcs)['IS_CRIME', 'IS_TRAFFIC'].sum()\n",
    "cr_group"
   ]
  },
  {
   "cell_type": "markdown",
   "metadata": {},
   "source": [
    "After the grouping and aggregating, we unstack the years as columns. "
   ]
  },
  {
   "cell_type": "code",
   "execution_count": 208,
   "metadata": {},
   "outputs": [
    {
     "data": {
      "text/html": [
       "<style  type=\"text/css\" >\n",
       "    #T_3a0e30b0_94f0_11e8_9dfb_e4a4716aa4aerow6_col0 {\n",
       "            background-color:  lightgrey;\n",
       "        }    #T_3a0e30b0_94f0_11e8_9dfb_e4a4716aa4aerow8_col1 {\n",
       "            background-color:  lightgrey;\n",
       "        }    #T_3a0e30b0_94f0_11e8_9dfb_e4a4716aa4aerow8_col2 {\n",
       "            background-color:  lightgrey;\n",
       "        }    #T_3a0e30b0_94f0_11e8_9dfb_e4a4716aa4aerow8_col3 {\n",
       "            background-color:  lightgrey;\n",
       "        }    #T_3a0e30b0_94f0_11e8_9dfb_e4a4716aa4aerow8_col4 {\n",
       "            background-color:  lightgrey;\n",
       "        }    #T_3a0e30b0_94f0_11e8_9dfb_e4a4716aa4aerow8_col5 {\n",
       "            background-color:  lightgrey;\n",
       "        }    #T_3a0e30b0_94f0_11e8_9dfb_e4a4716aa4aerow8_col11 {\n",
       "            background-color:  lightgrey;\n",
       "        }    #T_3a0e30b0_94f0_11e8_9dfb_e4a4716aa4aerow9_col6 {\n",
       "            background-color:  lightgrey;\n",
       "        }    #T_3a0e30b0_94f0_11e8_9dfb_e4a4716aa4aerow9_col7 {\n",
       "            background-color:  lightgrey;\n",
       "        }    #T_3a0e30b0_94f0_11e8_9dfb_e4a4716aa4aerow9_col8 {\n",
       "            background-color:  lightgrey;\n",
       "        }    #T_3a0e30b0_94f0_11e8_9dfb_e4a4716aa4aerow9_col9 {\n",
       "            background-color:  lightgrey;\n",
       "        }    #T_3a0e30b0_94f0_11e8_9dfb_e4a4716aa4aerow9_col10 {\n",
       "            background-color:  lightgrey;\n",
       "        }</style>  \n",
       "<table id=\"T_3a0e30b0_94f0_11e8_9dfb_e4a4716aa4ae\" > \n",
       "<thead>    <tr> \n",
       "        <th class=\"blank level0\" ></th> \n",
       "        <th class=\"col_heading level0 col0\" colspan=6>IS_CRIME</th> \n",
       "        <th class=\"col_heading level0 col6\" colspan=6>IS_TRAFFIC</th> \n",
       "    </tr>    <tr> \n",
       "        <th class=\"blank level1\" ></th> \n",
       "        <th class=\"col_heading level1 col0\" >2012</th> \n",
       "        <th class=\"col_heading level1 col1\" >2013</th> \n",
       "        <th class=\"col_heading level1 col2\" >2014</th> \n",
       "        <th class=\"col_heading level1 col3\" >2015</th> \n",
       "        <th class=\"col_heading level1 col4\" >2016</th> \n",
       "        <th class=\"col_heading level1 col5\" >2017</th> \n",
       "        <th class=\"col_heading level1 col6\" >2012</th> \n",
       "        <th class=\"col_heading level1 col7\" >2013</th> \n",
       "        <th class=\"col_heading level1 col8\" >2014</th> \n",
       "        <th class=\"col_heading level1 col9\" >2015</th> \n",
       "        <th class=\"col_heading level1 col10\" >2016</th> \n",
       "        <th class=\"col_heading level1 col11\" >2017</th> \n",
       "    </tr></thead> \n",
       "<tbody>    <tr> \n",
       "        <th id=\"T_3a0e30b0_94f0_11e8_9dfb_e4a4716aa4aelevel0_row0\" class=\"row_heading level0 row0\" >0</th> \n",
       "        <td id=\"T_3a0e30b0_94f0_11e8_9dfb_e4a4716aa4aerow0_col0\" class=\"data row0 col0\" >2422</td> \n",
       "        <td id=\"T_3a0e30b0_94f0_11e8_9dfb_e4a4716aa4aerow0_col1\" class=\"data row0 col1\" >4040</td> \n",
       "        <td id=\"T_3a0e30b0_94f0_11e8_9dfb_e4a4716aa4aerow0_col2\" class=\"data row0 col2\" >5649</td> \n",
       "        <td id=\"T_3a0e30b0_94f0_11e8_9dfb_e4a4716aa4aerow0_col3\" class=\"data row0 col3\" >5649</td> \n",
       "        <td id=\"T_3a0e30b0_94f0_11e8_9dfb_e4a4716aa4aerow0_col4\" class=\"data row0 col4\" >5377</td> \n",
       "        <td id=\"T_3a0e30b0_94f0_11e8_9dfb_e4a4716aa4aerow0_col5\" class=\"data row0 col5\" >3811</td> \n",
       "        <td id=\"T_3a0e30b0_94f0_11e8_9dfb_e4a4716aa4aerow0_col6\" class=\"data row0 col6\" >919</td> \n",
       "        <td id=\"T_3a0e30b0_94f0_11e8_9dfb_e4a4716aa4aerow0_col7\" class=\"data row0 col7\" >792</td> \n",
       "        <td id=\"T_3a0e30b0_94f0_11e8_9dfb_e4a4716aa4aerow0_col8\" class=\"data row0 col8\" >978</td> \n",
       "        <td id=\"T_3a0e30b0_94f0_11e8_9dfb_e4a4716aa4aerow0_col9\" class=\"data row0 col9\" >1136</td> \n",
       "        <td id=\"T_3a0e30b0_94f0_11e8_9dfb_e4a4716aa4aerow0_col10\" class=\"data row0 col10\" >980</td> \n",
       "        <td id=\"T_3a0e30b0_94f0_11e8_9dfb_e4a4716aa4aerow0_col11\" class=\"data row0 col11\" >782</td> \n",
       "    </tr>    <tr> \n",
       "        <th id=\"T_3a0e30b0_94f0_11e8_9dfb_e4a4716aa4aelevel0_row1\" class=\"row_heading level0 row1\" >2</th> \n",
       "        <td id=\"T_3a0e30b0_94f0_11e8_9dfb_e4a4716aa4aerow1_col0\" class=\"data row1 col0\" >1888</td> \n",
       "        <td id=\"T_3a0e30b0_94f0_11e8_9dfb_e4a4716aa4aerow1_col1\" class=\"data row1 col1\" >3214</td> \n",
       "        <td id=\"T_3a0e30b0_94f0_11e8_9dfb_e4a4716aa4aerow1_col2\" class=\"data row1 col2\" >4245</td> \n",
       "        <td id=\"T_3a0e30b0_94f0_11e8_9dfb_e4a4716aa4aerow1_col3\" class=\"data row1 col3\" >4050</td> \n",
       "        <td id=\"T_3a0e30b0_94f0_11e8_9dfb_e4a4716aa4aerow1_col4\" class=\"data row1 col4\" >4091</td> \n",
       "        <td id=\"T_3a0e30b0_94f0_11e8_9dfb_e4a4716aa4aerow1_col5\" class=\"data row1 col5\" >3041</td> \n",
       "        <td id=\"T_3a0e30b0_94f0_11e8_9dfb_e4a4716aa4aerow1_col6\" class=\"data row1 col6\" >718</td> \n",
       "        <td id=\"T_3a0e30b0_94f0_11e8_9dfb_e4a4716aa4aerow1_col7\" class=\"data row1 col7\" >652</td> \n",
       "        <td id=\"T_3a0e30b0_94f0_11e8_9dfb_e4a4716aa4aerow1_col8\" class=\"data row1 col8\" >779</td> \n",
       "        <td id=\"T_3a0e30b0_94f0_11e8_9dfb_e4a4716aa4aerow1_col9\" class=\"data row1 col9\" >773</td> \n",
       "        <td id=\"T_3a0e30b0_94f0_11e8_9dfb_e4a4716aa4aerow1_col10\" class=\"data row1 col10\" >718</td> \n",
       "        <td id=\"T_3a0e30b0_94f0_11e8_9dfb_e4a4716aa4aerow1_col11\" class=\"data row1 col11\" >537</td> \n",
       "    </tr>    <tr> \n",
       "        <th id=\"T_3a0e30b0_94f0_11e8_9dfb_e4a4716aa4aelevel0_row2\" class=\"row_heading level0 row2\" >4</th> \n",
       "        <td id=\"T_3a0e30b0_94f0_11e8_9dfb_e4a4716aa4aerow2_col0\" class=\"data row2 col0\" >1472</td> \n",
       "        <td id=\"T_3a0e30b0_94f0_11e8_9dfb_e4a4716aa4aerow2_col1\" class=\"data row2 col1\" >2181</td> \n",
       "        <td id=\"T_3a0e30b0_94f0_11e8_9dfb_e4a4716aa4aerow2_col2\" class=\"data row2 col2\" >2956</td> \n",
       "        <td id=\"T_3a0e30b0_94f0_11e8_9dfb_e4a4716aa4aerow2_col3\" class=\"data row2 col3\" >2959</td> \n",
       "        <td id=\"T_3a0e30b0_94f0_11e8_9dfb_e4a4716aa4aerow2_col4\" class=\"data row2 col4\" >3044</td> \n",
       "        <td id=\"T_3a0e30b0_94f0_11e8_9dfb_e4a4716aa4aerow2_col5\" class=\"data row2 col5\" >2255</td> \n",
       "        <td id=\"T_3a0e30b0_94f0_11e8_9dfb_e4a4716aa4aerow2_col6\" class=\"data row2 col6\" >399</td> \n",
       "        <td id=\"T_3a0e30b0_94f0_11e8_9dfb_e4a4716aa4aerow2_col7\" class=\"data row2 col7\" >378</td> \n",
       "        <td id=\"T_3a0e30b0_94f0_11e8_9dfb_e4a4716aa4aerow2_col8\" class=\"data row2 col8\" >424</td> \n",
       "        <td id=\"T_3a0e30b0_94f0_11e8_9dfb_e4a4716aa4aerow2_col9\" class=\"data row2 col9\" >471</td> \n",
       "        <td id=\"T_3a0e30b0_94f0_11e8_9dfb_e4a4716aa4aerow2_col10\" class=\"data row2 col10\" >464</td> \n",
       "        <td id=\"T_3a0e30b0_94f0_11e8_9dfb_e4a4716aa4aerow2_col11\" class=\"data row2 col11\" >313</td> \n",
       "    </tr>    <tr> \n",
       "        <th id=\"T_3a0e30b0_94f0_11e8_9dfb_e4a4716aa4aelevel0_row3\" class=\"row_heading level0 row3\" >6</th> \n",
       "        <td id=\"T_3a0e30b0_94f0_11e8_9dfb_e4a4716aa4aerow3_col0\" class=\"data row3 col0\" >1067</td> \n",
       "        <td id=\"T_3a0e30b0_94f0_11e8_9dfb_e4a4716aa4aerow3_col1\" class=\"data row3 col1\" >1365</td> \n",
       "        <td id=\"T_3a0e30b0_94f0_11e8_9dfb_e4a4716aa4aerow3_col2\" class=\"data row3 col2\" >1750</td> \n",
       "        <td id=\"T_3a0e30b0_94f0_11e8_9dfb_e4a4716aa4aerow3_col3\" class=\"data row3 col3\" >2167</td> \n",
       "        <td id=\"T_3a0e30b0_94f0_11e8_9dfb_e4a4716aa4aerow3_col4\" class=\"data row3 col4\" >2108</td> \n",
       "        <td id=\"T_3a0e30b0_94f0_11e8_9dfb_e4a4716aa4aerow3_col5\" class=\"data row3 col5\" >1567</td> \n",
       "        <td id=\"T_3a0e30b0_94f0_11e8_9dfb_e4a4716aa4aerow3_col6\" class=\"data row3 col6\" >411</td> \n",
       "        <td id=\"T_3a0e30b0_94f0_11e8_9dfb_e4a4716aa4aerow3_col7\" class=\"data row3 col7\" >399</td> \n",
       "        <td id=\"T_3a0e30b0_94f0_11e8_9dfb_e4a4716aa4aerow3_col8\" class=\"data row3 col8\" >479</td> \n",
       "        <td id=\"T_3a0e30b0_94f0_11e8_9dfb_e4a4716aa4aerow3_col9\" class=\"data row3 col9\" >494</td> \n",
       "        <td id=\"T_3a0e30b0_94f0_11e8_9dfb_e4a4716aa4aerow3_col10\" class=\"data row3 col10\" >593</td> \n",
       "        <td id=\"T_3a0e30b0_94f0_11e8_9dfb_e4a4716aa4aerow3_col11\" class=\"data row3 col11\" >462</td> \n",
       "    </tr>    <tr> \n",
       "        <th id=\"T_3a0e30b0_94f0_11e8_9dfb_e4a4716aa4aelevel0_row4\" class=\"row_heading level0 row4\" >8</th> \n",
       "        <td id=\"T_3a0e30b0_94f0_11e8_9dfb_e4a4716aa4aerow4_col0\" class=\"data row4 col0\" >2998</td> \n",
       "        <td id=\"T_3a0e30b0_94f0_11e8_9dfb_e4a4716aa4aerow4_col1\" class=\"data row4 col1\" >3445</td> \n",
       "        <td id=\"T_3a0e30b0_94f0_11e8_9dfb_e4a4716aa4aerow4_col2\" class=\"data row4 col2\" >3727</td> \n",
       "        <td id=\"T_3a0e30b0_94f0_11e8_9dfb_e4a4716aa4aerow4_col3\" class=\"data row4 col3\" >4161</td> \n",
       "        <td id=\"T_3a0e30b0_94f0_11e8_9dfb_e4a4716aa4aerow4_col4\" class=\"data row4 col4\" >4488</td> \n",
       "        <td id=\"T_3a0e30b0_94f0_11e8_9dfb_e4a4716aa4aerow4_col5\" class=\"data row4 col5\" >3251</td> \n",
       "        <td id=\"T_3a0e30b0_94f0_11e8_9dfb_e4a4716aa4aerow4_col6\" class=\"data row4 col6\" >1957</td> \n",
       "        <td id=\"T_3a0e30b0_94f0_11e8_9dfb_e4a4716aa4aerow4_col7\" class=\"data row4 col7\" >1955</td> \n",
       "        <td id=\"T_3a0e30b0_94f0_11e8_9dfb_e4a4716aa4aerow4_col8\" class=\"data row4 col8\" >2210</td> \n",
       "        <td id=\"T_3a0e30b0_94f0_11e8_9dfb_e4a4716aa4aerow4_col9\" class=\"data row4 col9\" >2331</td> \n",
       "        <td id=\"T_3a0e30b0_94f0_11e8_9dfb_e4a4716aa4aerow4_col10\" class=\"data row4 col10\" >2372</td> \n",
       "        <td id=\"T_3a0e30b0_94f0_11e8_9dfb_e4a4716aa4aerow4_col11\" class=\"data row4 col11\" >1828</td> \n",
       "    </tr>    <tr> \n",
       "        <th id=\"T_3a0e30b0_94f0_11e8_9dfb_e4a4716aa4aelevel0_row5\" class=\"row_heading level0 row5\" >10</th> \n",
       "        <td id=\"T_3a0e30b0_94f0_11e8_9dfb_e4a4716aa4aerow5_col0\" class=\"data row5 col0\" >4305</td> \n",
       "        <td id=\"T_3a0e30b0_94f0_11e8_9dfb_e4a4716aa4aerow5_col1\" class=\"data row5 col1\" >5035</td> \n",
       "        <td id=\"T_3a0e30b0_94f0_11e8_9dfb_e4a4716aa4aerow5_col2\" class=\"data row5 col2\" >5658</td> \n",
       "        <td id=\"T_3a0e30b0_94f0_11e8_9dfb_e4a4716aa4aerow5_col3\" class=\"data row5 col3\" >6205</td> \n",
       "        <td id=\"T_3a0e30b0_94f0_11e8_9dfb_e4a4716aa4aerow5_col4\" class=\"data row5 col4\" >6218</td> \n",
       "        <td id=\"T_3a0e30b0_94f0_11e8_9dfb_e4a4716aa4aerow5_col5\" class=\"data row5 col5\" >4993</td> \n",
       "        <td id=\"T_3a0e30b0_94f0_11e8_9dfb_e4a4716aa4aerow5_col6\" class=\"data row5 col6\" >1979</td> \n",
       "        <td id=\"T_3a0e30b0_94f0_11e8_9dfb_e4a4716aa4aerow5_col7\" class=\"data row5 col7\" >1901</td> \n",
       "        <td id=\"T_3a0e30b0_94f0_11e8_9dfb_e4a4716aa4aerow5_col8\" class=\"data row5 col8\" >2139</td> \n",
       "        <td id=\"T_3a0e30b0_94f0_11e8_9dfb_e4a4716aa4aerow5_col9\" class=\"data row5 col9\" >2320</td> \n",
       "        <td id=\"T_3a0e30b0_94f0_11e8_9dfb_e4a4716aa4aerow5_col10\" class=\"data row5 col10\" >2303</td> \n",
       "        <td id=\"T_3a0e30b0_94f0_11e8_9dfb_e4a4716aa4aerow5_col11\" class=\"data row5 col11\" >1873</td> \n",
       "    </tr>    <tr> \n",
       "        <th id=\"T_3a0e30b0_94f0_11e8_9dfb_e4a4716aa4aelevel0_row6\" class=\"row_heading level0 row6\" >12</th> \n",
       "        <td id=\"T_3a0e30b0_94f0_11e8_9dfb_e4a4716aa4aerow6_col0\" class=\"data row6 col0\" >4496</td> \n",
       "        <td id=\"T_3a0e30b0_94f0_11e8_9dfb_e4a4716aa4aerow6_col1\" class=\"data row6 col1\" >5524</td> \n",
       "        <td id=\"T_3a0e30b0_94f0_11e8_9dfb_e4a4716aa4aerow6_col2\" class=\"data row6 col2\" >6434</td> \n",
       "        <td id=\"T_3a0e30b0_94f0_11e8_9dfb_e4a4716aa4aerow6_col3\" class=\"data row6 col3\" >6841</td> \n",
       "        <td id=\"T_3a0e30b0_94f0_11e8_9dfb_e4a4716aa4aerow6_col4\" class=\"data row6 col4\" >7226</td> \n",
       "        <td id=\"T_3a0e30b0_94f0_11e8_9dfb_e4a4716aa4aerow6_col5\" class=\"data row6 col5\" >5463</td> \n",
       "        <td id=\"T_3a0e30b0_94f0_11e8_9dfb_e4a4716aa4aerow6_col6\" class=\"data row6 col6\" >2200</td> \n",
       "        <td id=\"T_3a0e30b0_94f0_11e8_9dfb_e4a4716aa4aerow6_col7\" class=\"data row6 col7\" >2138</td> \n",
       "        <td id=\"T_3a0e30b0_94f0_11e8_9dfb_e4a4716aa4aerow6_col8\" class=\"data row6 col8\" >2379</td> \n",
       "        <td id=\"T_3a0e30b0_94f0_11e8_9dfb_e4a4716aa4aerow6_col9\" class=\"data row6 col9\" >2631</td> \n",
       "        <td id=\"T_3a0e30b0_94f0_11e8_9dfb_e4a4716aa4aerow6_col10\" class=\"data row6 col10\" >2760</td> \n",
       "        <td id=\"T_3a0e30b0_94f0_11e8_9dfb_e4a4716aa4aerow6_col11\" class=\"data row6 col11\" >1986</td> \n",
       "    </tr>    <tr> \n",
       "        <th id=\"T_3a0e30b0_94f0_11e8_9dfb_e4a4716aa4aelevel0_row7\" class=\"row_heading level0 row7\" >14</th> \n",
       "        <td id=\"T_3a0e30b0_94f0_11e8_9dfb_e4a4716aa4aerow7_col0\" class=\"data row7 col0\" >4266</td> \n",
       "        <td id=\"T_3a0e30b0_94f0_11e8_9dfb_e4a4716aa4aerow7_col1\" class=\"data row7 col1\" >5698</td> \n",
       "        <td id=\"T_3a0e30b0_94f0_11e8_9dfb_e4a4716aa4aerow7_col2\" class=\"data row7 col2\" >6708</td> \n",
       "        <td id=\"T_3a0e30b0_94f0_11e8_9dfb_e4a4716aa4aerow7_col3\" class=\"data row7 col3\" >7218</td> \n",
       "        <td id=\"T_3a0e30b0_94f0_11e8_9dfb_e4a4716aa4aerow7_col4\" class=\"data row7 col4\" >6896</td> \n",
       "        <td id=\"T_3a0e30b0_94f0_11e8_9dfb_e4a4716aa4aerow7_col5\" class=\"data row7 col5\" >5396</td> \n",
       "        <td id=\"T_3a0e30b0_94f0_11e8_9dfb_e4a4716aa4aerow7_col6\" class=\"data row7 col6\" >2241</td> \n",
       "        <td id=\"T_3a0e30b0_94f0_11e8_9dfb_e4a4716aa4aerow7_col7\" class=\"data row7 col7\" >2245</td> \n",
       "        <td id=\"T_3a0e30b0_94f0_11e8_9dfb_e4a4716aa4aerow7_col8\" class=\"data row7 col8\" >2630</td> \n",
       "        <td id=\"T_3a0e30b0_94f0_11e8_9dfb_e4a4716aa4aerow7_col9\" class=\"data row7 col9\" >2840</td> \n",
       "        <td id=\"T_3a0e30b0_94f0_11e8_9dfb_e4a4716aa4aerow7_col10\" class=\"data row7 col10\" >2763</td> \n",
       "        <td id=\"T_3a0e30b0_94f0_11e8_9dfb_e4a4716aa4aerow7_col11\" class=\"data row7 col11\" >1990</td> \n",
       "    </tr>    <tr> \n",
       "        <th id=\"T_3a0e30b0_94f0_11e8_9dfb_e4a4716aa4aelevel0_row8\" class=\"row_heading level0 row8\" >16</th> \n",
       "        <td id=\"T_3a0e30b0_94f0_11e8_9dfb_e4a4716aa4aerow8_col0\" class=\"data row8 col0\" >4113</td> \n",
       "        <td id=\"T_3a0e30b0_94f0_11e8_9dfb_e4a4716aa4aerow8_col1\" class=\"data row8 col1\" >5889</td> \n",
       "        <td id=\"T_3a0e30b0_94f0_11e8_9dfb_e4a4716aa4aerow8_col2\" class=\"data row8 col2\" >7351</td> \n",
       "        <td id=\"T_3a0e30b0_94f0_11e8_9dfb_e4a4716aa4aerow8_col3\" class=\"data row8 col3\" >7643</td> \n",
       "        <td id=\"T_3a0e30b0_94f0_11e8_9dfb_e4a4716aa4aerow8_col4\" class=\"data row8 col4\" >7926</td> \n",
       "        <td id=\"T_3a0e30b0_94f0_11e8_9dfb_e4a4716aa4aerow8_col5\" class=\"data row8 col5\" >6338</td> \n",
       "        <td id=\"T_3a0e30b0_94f0_11e8_9dfb_e4a4716aa4aerow8_col6\" class=\"data row8 col6\" >2714</td> \n",
       "        <td id=\"T_3a0e30b0_94f0_11e8_9dfb_e4a4716aa4aerow8_col7\" class=\"data row8 col7\" >2562</td> \n",
       "        <td id=\"T_3a0e30b0_94f0_11e8_9dfb_e4a4716aa4aerow8_col8\" class=\"data row8 col8\" >3002</td> \n",
       "        <td id=\"T_3a0e30b0_94f0_11e8_9dfb_e4a4716aa4aerow8_col9\" class=\"data row8 col9\" >3160</td> \n",
       "        <td id=\"T_3a0e30b0_94f0_11e8_9dfb_e4a4716aa4aerow8_col10\" class=\"data row8 col10\" >3527</td> \n",
       "        <td id=\"T_3a0e30b0_94f0_11e8_9dfb_e4a4716aa4aerow8_col11\" class=\"data row8 col11\" >2784</td> \n",
       "    </tr>    <tr> \n",
       "        <th id=\"T_3a0e30b0_94f0_11e8_9dfb_e4a4716aa4aelevel0_row9\" class=\"row_heading level0 row9\" >18</th> \n",
       "        <td id=\"T_3a0e30b0_94f0_11e8_9dfb_e4a4716aa4aerow9_col0\" class=\"data row9 col0\" >3660</td> \n",
       "        <td id=\"T_3a0e30b0_94f0_11e8_9dfb_e4a4716aa4aerow9_col1\" class=\"data row9 col1\" >5094</td> \n",
       "        <td id=\"T_3a0e30b0_94f0_11e8_9dfb_e4a4716aa4aerow9_col2\" class=\"data row9 col2\" >6586</td> \n",
       "        <td id=\"T_3a0e30b0_94f0_11e8_9dfb_e4a4716aa4aerow9_col3\" class=\"data row9 col3\" >7015</td> \n",
       "        <td id=\"T_3a0e30b0_94f0_11e8_9dfb_e4a4716aa4aerow9_col4\" class=\"data row9 col4\" >7407</td> \n",
       "        <td id=\"T_3a0e30b0_94f0_11e8_9dfb_e4a4716aa4aerow9_col5\" class=\"data row9 col5\" >6157</td> \n",
       "        <td id=\"T_3a0e30b0_94f0_11e8_9dfb_e4a4716aa4aerow9_col6\" class=\"data row9 col6\" >3118</td> \n",
       "        <td id=\"T_3a0e30b0_94f0_11e8_9dfb_e4a4716aa4aerow9_col7\" class=\"data row9 col7\" >2704</td> \n",
       "        <td id=\"T_3a0e30b0_94f0_11e8_9dfb_e4a4716aa4aerow9_col8\" class=\"data row9 col8\" >3217</td> \n",
       "        <td id=\"T_3a0e30b0_94f0_11e8_9dfb_e4a4716aa4aerow9_col9\" class=\"data row9 col9\" >3412</td> \n",
       "        <td id=\"T_3a0e30b0_94f0_11e8_9dfb_e4a4716aa4aerow9_col10\" class=\"data row9 col10\" >3608</td> \n",
       "        <td id=\"T_3a0e30b0_94f0_11e8_9dfb_e4a4716aa4aerow9_col11\" class=\"data row9 col11\" >2718</td> \n",
       "    </tr>    <tr> \n",
       "        <th id=\"T_3a0e30b0_94f0_11e8_9dfb_e4a4716aa4aelevel0_row10\" class=\"row_heading level0 row10\" >20</th> \n",
       "        <td id=\"T_3a0e30b0_94f0_11e8_9dfb_e4a4716aa4aerow10_col0\" class=\"data row10 col0\" >3521</td> \n",
       "        <td id=\"T_3a0e30b0_94f0_11e8_9dfb_e4a4716aa4aerow10_col1\" class=\"data row10 col1\" >4895</td> \n",
       "        <td id=\"T_3a0e30b0_94f0_11e8_9dfb_e4a4716aa4aerow10_col2\" class=\"data row10 col2\" >6130</td> \n",
       "        <td id=\"T_3a0e30b0_94f0_11e8_9dfb_e4a4716aa4aerow10_col3\" class=\"data row10 col3\" >6360</td> \n",
       "        <td id=\"T_3a0e30b0_94f0_11e8_9dfb_e4a4716aa4aerow10_col4\" class=\"data row10 col4\" >6963</td> \n",
       "        <td id=\"T_3a0e30b0_94f0_11e8_9dfb_e4a4716aa4aerow10_col5\" class=\"data row10 col5\" >5272</td> \n",
       "        <td id=\"T_3a0e30b0_94f0_11e8_9dfb_e4a4716aa4aerow10_col6\" class=\"data row10 col6\" >1787</td> \n",
       "        <td id=\"T_3a0e30b0_94f0_11e8_9dfb_e4a4716aa4aerow10_col7\" class=\"data row10 col7\" >1806</td> \n",
       "        <td id=\"T_3a0e30b0_94f0_11e8_9dfb_e4a4716aa4aerow10_col8\" class=\"data row10 col8\" >1994</td> \n",
       "        <td id=\"T_3a0e30b0_94f0_11e8_9dfb_e4a4716aa4aerow10_col9\" class=\"data row10 col9\" >2071</td> \n",
       "        <td id=\"T_3a0e30b0_94f0_11e8_9dfb_e4a4716aa4aerow10_col10\" class=\"data row10 col10\" >2184</td> \n",
       "        <td id=\"T_3a0e30b0_94f0_11e8_9dfb_e4a4716aa4aerow10_col11\" class=\"data row10 col11\" >1491</td> \n",
       "    </tr>    <tr> \n",
       "        <th id=\"T_3a0e30b0_94f0_11e8_9dfb_e4a4716aa4aelevel0_row11\" class=\"row_heading level0 row11\" >22</th> \n",
       "        <td id=\"T_3a0e30b0_94f0_11e8_9dfb_e4a4716aa4aerow11_col0\" class=\"data row11 col0\" >3078</td> \n",
       "        <td id=\"T_3a0e30b0_94f0_11e8_9dfb_e4a4716aa4aerow11_col1\" class=\"data row11 col1\" >4318</td> \n",
       "        <td id=\"T_3a0e30b0_94f0_11e8_9dfb_e4a4716aa4aerow11_col2\" class=\"data row11 col2\" >5496</td> \n",
       "        <td id=\"T_3a0e30b0_94f0_11e8_9dfb_e4a4716aa4aerow11_col3\" class=\"data row11 col3\" >5626</td> \n",
       "        <td id=\"T_3a0e30b0_94f0_11e8_9dfb_e4a4716aa4aerow11_col4\" class=\"data row11 col4\" >5637</td> \n",
       "        <td id=\"T_3a0e30b0_94f0_11e8_9dfb_e4a4716aa4aerow11_col5\" class=\"data row11 col5\" >4358</td> \n",
       "        <td id=\"T_3a0e30b0_94f0_11e8_9dfb_e4a4716aa4aerow11_col6\" class=\"data row11 col6\" >1343</td> \n",
       "        <td id=\"T_3a0e30b0_94f0_11e8_9dfb_e4a4716aa4aerow11_col7\" class=\"data row11 col7\" >1330</td> \n",
       "        <td id=\"T_3a0e30b0_94f0_11e8_9dfb_e4a4716aa4aerow11_col8\" class=\"data row11 col8\" >1532</td> \n",
       "        <td id=\"T_3a0e30b0_94f0_11e8_9dfb_e4a4716aa4aerow11_col9\" class=\"data row11 col9\" >1671</td> \n",
       "        <td id=\"T_3a0e30b0_94f0_11e8_9dfb_e4a4716aa4aerow11_col10\" class=\"data row11 col10\" >1472</td> \n",
       "        <td id=\"T_3a0e30b0_94f0_11e8_9dfb_e4a4716aa4aerow11_col11\" class=\"data row11 col11\" >1072</td> \n",
       "    </tr></tbody> \n",
       "</table> "
      ],
      "text/plain": [
       "<pandas.io.formats.style.Styler at 0x18e91c67160>"
      ]
     },
     "execution_count": 208,
     "metadata": {},
     "output_type": "execute_result"
    }
   ],
   "source": [
    "cr_final = cr_group.unstack()\n",
    "cr_final.style.highlight_max(color='lightgrey')"
   ]
  },
  {
   "cell_type": "markdown",
   "metadata": {},
   "source": [
    "#### Findings:  \n",
    "Crime is reported most often between 3 and 5 p.m. Most traffic accidents occur between 5 p.m. and 7 p.m."
   ]
  },
  {
   "cell_type": "markdown",
   "metadata": {},
   "source": [
    "### More\n",
    "The final result of this recipe is a DataFrame with MultiIndex columns. Using this DataFrame, it is possible to select just the crime or traffic accidents separately. The xs method allows you to select a single value from any index level. Let's see an example where we select only the section of data dealing with traffic:"
   ]
  },
  {
   "cell_type": "code",
   "execution_count": 209,
   "metadata": {},
   "outputs": [
    {
     "data": {
      "text/html": [
       "<div>\n",
       "<style scoped>\n",
       "    .dataframe tbody tr th:only-of-type {\n",
       "        vertical-align: middle;\n",
       "    }\n",
       "\n",
       "    .dataframe tbody tr th {\n",
       "        vertical-align: top;\n",
       "    }\n",
       "\n",
       "    .dataframe thead th {\n",
       "        text-align: right;\n",
       "    }\n",
       "</style>\n",
       "<table border=\"1\" class=\"dataframe\">\n",
       "  <thead>\n",
       "    <tr style=\"text-align: right;\">\n",
       "      <th></th>\n",
       "      <th>2012</th>\n",
       "      <th>2013</th>\n",
       "      <th>2014</th>\n",
       "      <th>2015</th>\n",
       "      <th>2016</th>\n",
       "      <th>2017</th>\n",
       "    </tr>\n",
       "  </thead>\n",
       "  <tbody>\n",
       "    <tr>\n",
       "      <th>0</th>\n",
       "      <td>919</td>\n",
       "      <td>792</td>\n",
       "      <td>978</td>\n",
       "      <td>1136</td>\n",
       "      <td>980</td>\n",
       "      <td>782</td>\n",
       "    </tr>\n",
       "    <tr>\n",
       "      <th>2</th>\n",
       "      <td>718</td>\n",
       "      <td>652</td>\n",
       "      <td>779</td>\n",
       "      <td>773</td>\n",
       "      <td>718</td>\n",
       "      <td>537</td>\n",
       "    </tr>\n",
       "    <tr>\n",
       "      <th>4</th>\n",
       "      <td>399</td>\n",
       "      <td>378</td>\n",
       "      <td>424</td>\n",
       "      <td>471</td>\n",
       "      <td>464</td>\n",
       "      <td>313</td>\n",
       "    </tr>\n",
       "    <tr>\n",
       "      <th>6</th>\n",
       "      <td>411</td>\n",
       "      <td>399</td>\n",
       "      <td>479</td>\n",
       "      <td>494</td>\n",
       "      <td>593</td>\n",
       "      <td>462</td>\n",
       "    </tr>\n",
       "    <tr>\n",
       "      <th>8</th>\n",
       "      <td>1957</td>\n",
       "      <td>1955</td>\n",
       "      <td>2210</td>\n",
       "      <td>2331</td>\n",
       "      <td>2372</td>\n",
       "      <td>1828</td>\n",
       "    </tr>\n",
       "  </tbody>\n",
       "</table>\n",
       "</div>"
      ],
      "text/plain": [
       "   2012  2013  2014  2015  2016  2017\n",
       "0   919   792   978  1136   980   782\n",
       "2   718   652   779   773   718   537\n",
       "4   399   378   424   471   464   313\n",
       "6   411   399   479   494   593   462\n",
       "8  1957  1955  2210  2331  2372  1828"
      ]
     },
     "execution_count": 209,
     "metadata": {},
     "output_type": "execute_result"
    }
   ],
   "source": [
    "cr_final.xs('IS_TRAFFIC', axis='columns', level=0).head()"
   ]
  },
  {
   "cell_type": "markdown",
   "metadata": {},
   "source": [
    "This is referred to as taking a cross section in pandas. We must use the axis and level parameters to specifically denote where our value is located. Let's use xs again to select only data from 2016, which is in a different level:"
   ]
  },
  {
   "cell_type": "code",
   "execution_count": 210,
   "metadata": {},
   "outputs": [
    {
     "data": {
      "text/html": [
       "<div>\n",
       "<style scoped>\n",
       "    .dataframe tbody tr th:only-of-type {\n",
       "        vertical-align: middle;\n",
       "    }\n",
       "\n",
       "    .dataframe tbody tr th {\n",
       "        vertical-align: top;\n",
       "    }\n",
       "\n",
       "    .dataframe thead th {\n",
       "        text-align: right;\n",
       "    }\n",
       "</style>\n",
       "<table border=\"1\" class=\"dataframe\">\n",
       "  <thead>\n",
       "    <tr style=\"text-align: right;\">\n",
       "      <th></th>\n",
       "      <th>IS_CRIME</th>\n",
       "      <th>IS_TRAFFIC</th>\n",
       "    </tr>\n",
       "  </thead>\n",
       "  <tbody>\n",
       "    <tr>\n",
       "      <th>0</th>\n",
       "      <td>5377</td>\n",
       "      <td>980</td>\n",
       "    </tr>\n",
       "    <tr>\n",
       "      <th>2</th>\n",
       "      <td>4091</td>\n",
       "      <td>718</td>\n",
       "    </tr>\n",
       "    <tr>\n",
       "      <th>4</th>\n",
       "      <td>3044</td>\n",
       "      <td>464</td>\n",
       "    </tr>\n",
       "    <tr>\n",
       "      <th>6</th>\n",
       "      <td>2108</td>\n",
       "      <td>593</td>\n",
       "    </tr>\n",
       "    <tr>\n",
       "      <th>8</th>\n",
       "      <td>4488</td>\n",
       "      <td>2372</td>\n",
       "    </tr>\n",
       "  </tbody>\n",
       "</table>\n",
       "</div>"
      ],
      "text/plain": [
       "   IS_CRIME  IS_TRAFFIC\n",
       "0      5377         980\n",
       "2      4091         718\n",
       "4      3044         464\n",
       "6      2108         593\n",
       "8      4488        2372"
      ]
     },
     "execution_count": 210,
     "metadata": {},
     "output_type": "execute_result"
    }
   ],
   "source": [
    "cr_final.xs(2016, axis='columns', level=1).head()"
   ]
  },
  {
   "cell_type": "markdown",
   "metadata": {},
   "source": [
    "#### Reference\n",
    "Pandas official documentation of the cross section method xs (http://bit.ly/2xkLzLv)"
   ]
  },
  {
   "cell_type": "markdown",
   "metadata": {},
   "source": [
    "### Grouping by a Timestamp and another column\n",
    "The resample method on its own, is unable to group by anything other than periods of time. The groupby method, however, has the ability to group by both periods of time and other columns.\n",
    "\n",
    "In this recipe, we will show two very similar but different approaches to group by Timestamps and another column.\n",
    "\n",
    "The read_csv function in step 1 allows to both convert columns into Timestamps and put them in the index at the same time creating a DatetimeIndex."
   ]
  },
  {
   "cell_type": "code",
   "execution_count": 211,
   "metadata": {},
   "outputs": [
    {
     "data": {
      "text/html": [
       "<div>\n",
       "<style scoped>\n",
       "    .dataframe tbody tr th:only-of-type {\n",
       "        vertical-align: middle;\n",
       "    }\n",
       "\n",
       "    .dataframe tbody tr th {\n",
       "        vertical-align: top;\n",
       "    }\n",
       "\n",
       "    .dataframe thead th {\n",
       "        text-align: right;\n",
       "    }\n",
       "</style>\n",
       "<table border=\"1\" class=\"dataframe\">\n",
       "  <thead>\n",
       "    <tr style=\"text-align: right;\">\n",
       "      <th></th>\n",
       "      <th>UNIQUE_ID</th>\n",
       "      <th>POSITION_TITLE</th>\n",
       "      <th>DEPARTMENT</th>\n",
       "      <th>BASE_SALARY</th>\n",
       "      <th>RACE</th>\n",
       "      <th>EMPLOYMENT_TYPE</th>\n",
       "      <th>GENDER</th>\n",
       "      <th>EMPLOYMENT_STATUS</th>\n",
       "      <th>JOB_DATE</th>\n",
       "    </tr>\n",
       "    <tr>\n",
       "      <th>HIRE_DATE</th>\n",
       "      <th></th>\n",
       "      <th></th>\n",
       "      <th></th>\n",
       "      <th></th>\n",
       "      <th></th>\n",
       "      <th></th>\n",
       "      <th></th>\n",
       "      <th></th>\n",
       "      <th></th>\n",
       "    </tr>\n",
       "  </thead>\n",
       "  <tbody>\n",
       "    <tr>\n",
       "      <th>2006-06-12</th>\n",
       "      <td>0</td>\n",
       "      <td>ASSISTANT DIRECTOR (EX LVL)</td>\n",
       "      <td>Municipal Courts Department</td>\n",
       "      <td>121862.0</td>\n",
       "      <td>Hispanic/Latino</td>\n",
       "      <td>Full Time</td>\n",
       "      <td>Female</td>\n",
       "      <td>Active</td>\n",
       "      <td>2012-10-13</td>\n",
       "    </tr>\n",
       "    <tr>\n",
       "      <th>2000-07-19</th>\n",
       "      <td>1</td>\n",
       "      <td>LIBRARY ASSISTANT</td>\n",
       "      <td>Library</td>\n",
       "      <td>26125.0</td>\n",
       "      <td>Hispanic/Latino</td>\n",
       "      <td>Full Time</td>\n",
       "      <td>Female</td>\n",
       "      <td>Active</td>\n",
       "      <td>2010-09-18</td>\n",
       "    </tr>\n",
       "    <tr>\n",
       "      <th>2015-02-03</th>\n",
       "      <td>2</td>\n",
       "      <td>POLICE OFFICER</td>\n",
       "      <td>Houston Police Department-HPD</td>\n",
       "      <td>45279.0</td>\n",
       "      <td>White</td>\n",
       "      <td>Full Time</td>\n",
       "      <td>Male</td>\n",
       "      <td>Active</td>\n",
       "      <td>2015-02-03</td>\n",
       "    </tr>\n",
       "    <tr>\n",
       "      <th>1982-02-08</th>\n",
       "      <td>3</td>\n",
       "      <td>ENGINEER/OPERATOR</td>\n",
       "      <td>Houston Fire Department (HFD)</td>\n",
       "      <td>63166.0</td>\n",
       "      <td>White</td>\n",
       "      <td>Full Time</td>\n",
       "      <td>Male</td>\n",
       "      <td>Active</td>\n",
       "      <td>1991-05-25</td>\n",
       "    </tr>\n",
       "    <tr>\n",
       "      <th>1989-06-19</th>\n",
       "      <td>4</td>\n",
       "      <td>ELECTRICIAN</td>\n",
       "      <td>General Services Department</td>\n",
       "      <td>56347.0</td>\n",
       "      <td>White</td>\n",
       "      <td>Full Time</td>\n",
       "      <td>Male</td>\n",
       "      <td>Active</td>\n",
       "      <td>1994-10-22</td>\n",
       "    </tr>\n",
       "  </tbody>\n",
       "</table>\n",
       "</div>"
      ],
      "text/plain": [
       "            UNIQUE_ID               POSITION_TITLE  \\\n",
       "HIRE_DATE                                            \n",
       "2006-06-12          0  ASSISTANT DIRECTOR (EX LVL)   \n",
       "2000-07-19          1            LIBRARY ASSISTANT   \n",
       "2015-02-03          2               POLICE OFFICER   \n",
       "1982-02-08          3            ENGINEER/OPERATOR   \n",
       "1989-06-19          4                  ELECTRICIAN   \n",
       "\n",
       "                               DEPARTMENT  BASE_SALARY             RACE  \\\n",
       "HIRE_DATE                                                                 \n",
       "2006-06-12    Municipal Courts Department     121862.0  Hispanic/Latino   \n",
       "2000-07-19                        Library      26125.0  Hispanic/Latino   \n",
       "2015-02-03  Houston Police Department-HPD      45279.0            White   \n",
       "1982-02-08  Houston Fire Department (HFD)      63166.0            White   \n",
       "1989-06-19    General Services Department      56347.0            White   \n",
       "\n",
       "           EMPLOYMENT_TYPE  GENDER EMPLOYMENT_STATUS   JOB_DATE  \n",
       "HIRE_DATE                                                        \n",
       "2006-06-12       Full Time  Female            Active 2012-10-13  \n",
       "2000-07-19       Full Time  Female            Active 2010-09-18  \n",
       "2015-02-03       Full Time    Male            Active 2015-02-03  \n",
       "1982-02-08       Full Time    Male            Active 1991-05-25  \n",
       "1989-06-19       Full Time    Male            Active 1994-10-22  "
      ]
     },
     "execution_count": 211,
     "metadata": {},
     "output_type": "execute_result"
    }
   ],
   "source": [
    "#Read in the employee dataset, and create a DatetimeIndex with the HIRE_DATE column:\n",
    "employee = pd.read_csv('data/bookPandasCookbook/employee.csv', \n",
    "                           parse_dates=['JOB_DATE', 'HIRE_DATE'], \n",
    "                           index_col='HIRE_DATE')\n",
    "employee.head()"
   ]
  },
  {
   "cell_type": "markdown",
   "metadata": {},
   "source": [
    "First do a simple grouping by just gender, and find the average salary for each:\n",
    "\n",
    "Steps 2 does a simple groupby operation with a single grouping column, gender."
   ]
  },
  {
   "cell_type": "code",
   "execution_count": 220,
   "metadata": {},
   "outputs": [
    {
     "data": {
      "text/plain": [
       "GENDER\n",
       "Female    52200.0\n",
       "Male      57400.0\n",
       "Name: BASE_SALARY, dtype: float64"
      ]
     },
     "execution_count": 220,
     "metadata": {},
     "output_type": "execute_result"
    }
   ],
   "source": [
    "employee.groupby('GENDER')['BASE_SALARY'].mean().round(-2)"
   ]
  },
  {
   "cell_type": "markdown",
   "metadata": {},
   "source": [
    "Let's find the average salary based on hire date, and group everyone into 10-year buckets:\n",
    "\n",
    "Step 3 uses the resample method with the offset alias 10AS to form groups in 10-year increments of time. The A is the alias for year and the S informs us that the beginning of the period is used as the label. For instance, the data for the label 1988-01-01 spans that date until December 31, 1997."
   ]
  },
  {
   "cell_type": "code",
   "execution_count": 229,
   "metadata": {},
   "outputs": [
    {
     "data": {
      "text/plain": [
       "HIRE_DATE\n",
       "1958-01-01     81200.0\n",
       "1968-01-01    106500.0\n",
       "1978-01-01     69600.0\n",
       "                ...   \n",
       "1998-01-01     58200.0\n",
       "2008-01-01     47200.0\n",
       "2018-01-01         NaN\n",
       "Name: BASE_SALARY, Length: 7, dtype: float64"
      ]
     },
     "execution_count": 229,
     "metadata": {},
     "output_type": "execute_result"
    }
   ],
   "source": [
    "employee.resample('10AS')['BASE_SALARY'].mean().round(-2)"
   ]
  },
  {
   "cell_type": "markdown",
   "metadata": {},
   "source": [
    "In step 4, for each gender, male and female, completely different starting dates for the 10-year periods are calculated based on the earliest hired employee.\n",
    "\n",
    "If we wanted to group by both gender and a five-year time span, we can call resample directly after calling groupby:"
   ]
  },
  {
   "cell_type": "code",
   "execution_count": 234,
   "metadata": {},
   "outputs": [],
   "source": [
    "#my attempt\n",
    "#employee.groupby('GENDER').resample('5AS')['BASE_SALARY'].mean().round(-2)\n",
    "\n",
    "sal_avg = employee.groupby('GENDER').resample('10AS')['BASE_SALARY'].mean().round(-2)"
   ]
  },
  {
   "cell_type": "markdown",
   "metadata": {},
   "source": [
    "Now, this does what we set out to do, but we run into a slight issue whenever we want to compare female to male salaries. Let's unstack the gender level and see what happens:"
   ]
  },
  {
   "cell_type": "code",
   "execution_count": 235,
   "metadata": {},
   "outputs": [
    {
     "data": {
      "text/html": [
       "<div>\n",
       "<style scoped>\n",
       "    .dataframe tbody tr th:only-of-type {\n",
       "        vertical-align: middle;\n",
       "    }\n",
       "\n",
       "    .dataframe tbody tr th {\n",
       "        vertical-align: top;\n",
       "    }\n",
       "\n",
       "    .dataframe thead th {\n",
       "        text-align: right;\n",
       "    }\n",
       "</style>\n",
       "<table border=\"1\" class=\"dataframe\">\n",
       "  <thead>\n",
       "    <tr style=\"text-align: right;\">\n",
       "      <th>GENDER</th>\n",
       "      <th>Female</th>\n",
       "      <th>Male</th>\n",
       "    </tr>\n",
       "    <tr>\n",
       "      <th>HIRE_DATE</th>\n",
       "      <th></th>\n",
       "      <th></th>\n",
       "    </tr>\n",
       "  </thead>\n",
       "  <tbody>\n",
       "    <tr>\n",
       "      <th>1958-01-01</th>\n",
       "      <td>NaN</td>\n",
       "      <td>81200.0</td>\n",
       "    </tr>\n",
       "    <tr>\n",
       "      <th>1968-01-01</th>\n",
       "      <td>NaN</td>\n",
       "      <td>106500.0</td>\n",
       "    </tr>\n",
       "    <tr>\n",
       "      <th>1975-01-01</th>\n",
       "      <td>51600.0</td>\n",
       "      <td>NaN</td>\n",
       "    </tr>\n",
       "    <tr>\n",
       "      <th>...</th>\n",
       "      <td>...</td>\n",
       "      <td>...</td>\n",
       "    </tr>\n",
       "    <tr>\n",
       "      <th>2015-01-01</th>\n",
       "      <td>38600.0</td>\n",
       "      <td>NaN</td>\n",
       "    </tr>\n",
       "    <tr>\n",
       "      <th>2018-01-01</th>\n",
       "      <td>NaN</td>\n",
       "      <td>NaN</td>\n",
       "    </tr>\n",
       "    <tr>\n",
       "      <th>2025-01-01</th>\n",
       "      <td>NaN</td>\n",
       "      <td>NaN</td>\n",
       "    </tr>\n",
       "  </tbody>\n",
       "</table>\n",
       "<p>13 rows × 2 columns</p>\n",
       "</div>"
      ],
      "text/plain": [
       "GENDER       Female      Male\n",
       "HIRE_DATE                    \n",
       "1958-01-01      NaN   81200.0\n",
       "1968-01-01      NaN  106500.0\n",
       "1975-01-01  51600.0       NaN\n",
       "...             ...       ...\n",
       "2015-01-01  38600.0       NaN\n",
       "2018-01-01      NaN       NaN\n",
       "2025-01-01      NaN       NaN\n",
       "\n",
       "[13 rows x 2 columns]"
      ]
     },
     "execution_count": 235,
     "metadata": {},
     "output_type": "execute_result"
    }
   ],
   "source": [
    "sal_avg.unstack('GENDER')"
   ]
  },
  {
   "cell_type": "markdown",
   "metadata": {},
   "source": [
    "Step 6 verifies that the year of the earliest hired employee for each gender matches the output from step 4. Step 5 shows how this causes misalignment when we try to compare salaries of females to males. They don't have the same 10-year periods.\n",
    "\n",
    "The 10-year periods for males and females do not begin on the same date. This happened because the data was first grouped by gender and then, within each gender, more groups were formed based on hire dates. Let's verify that the first hired male was in 1958 and the first hired female was in 1975:"
   ]
  },
  {
   "cell_type": "code",
   "execution_count": 236,
   "metadata": {},
   "outputs": [
    {
     "data": {
      "text/plain": [
       "Timestamp('1958-12-29 00:00:00')"
      ]
     },
     "execution_count": 236,
     "metadata": {},
     "output_type": "execute_result"
    }
   ],
   "source": [
    "employee[employee['GENDER'] == 'Male'].index.min()"
   ]
  },
  {
   "cell_type": "code",
   "execution_count": 237,
   "metadata": {},
   "outputs": [
    {
     "data": {
      "text/plain": [
       "Timestamp('1975-06-09 00:00:00')"
      ]
     },
     "execution_count": 237,
     "metadata": {},
     "output_type": "execute_result"
    }
   ],
   "source": [
    "employee[employee['GENDER'] == 'Female'].index.min()"
   ]
  },
  {
   "cell_type": "markdown",
   "metadata": {},
   "source": [
    "To alleviate this issue, we must group both the gender and Timestamp together. The resample method is only capable of grouping by a single column of Timestamps. We can only complete this operation with the groupby method. With pd.Grouper, we can replicate the functionality of resample. We simply pass the offset alias to the freq parameter and then place the object in a list with all the other columns that we wish to group, as done in step 7. As both males and females now have the same starting dates for the 10-year period, the reshaped data in step 8 will align for each gender making comparisons much easier. It appears that male salaries tend to be higher given a longer length of employment, though both genders have the same average salary with under 10 years of employment.\n",
    "\n",
    "To resolve this issue, we must group the date together with the gender, and this is only possible with the groupby method:"
   ]
  },
  {
   "cell_type": "code",
   "execution_count": 239,
   "metadata": {},
   "outputs": [
    {
     "data": {
      "text/plain": [
       "GENDER  HIRE_DATE \n",
       "Female  1968-01-01        NaN\n",
       "        1978-01-01    57100.0\n",
       "        1988-01-01    57100.0\n",
       "                       ...   \n",
       "Male    1988-01-01    64600.0\n",
       "        1998-01-01    59700.0\n",
       "        2008-01-01    47200.0\n",
       "Name: BASE_SALARY, Length: 11, dtype: float64"
      ]
     },
     "execution_count": 239,
     "metadata": {},
     "output_type": "execute_result"
    }
   ],
   "source": [
    "sal_avg2 = employee.groupby(['GENDER', \n",
    "                                 pd.Grouper(freq='10AS')])['BASE_SALARY'].mean().round(-2)\n",
    "sal_avg2"
   ]
  },
  {
   "cell_type": "code",
   "execution_count": 240,
   "metadata": {},
   "outputs": [
    {
     "data": {
      "text/html": [
       "<div>\n",
       "<style scoped>\n",
       "    .dataframe tbody tr th:only-of-type {\n",
       "        vertical-align: middle;\n",
       "    }\n",
       "\n",
       "    .dataframe tbody tr th {\n",
       "        vertical-align: top;\n",
       "    }\n",
       "\n",
       "    .dataframe thead th {\n",
       "        text-align: right;\n",
       "    }\n",
       "</style>\n",
       "<table border=\"1\" class=\"dataframe\">\n",
       "  <thead>\n",
       "    <tr style=\"text-align: right;\">\n",
       "      <th>GENDER</th>\n",
       "      <th>Female</th>\n",
       "      <th>Male</th>\n",
       "    </tr>\n",
       "    <tr>\n",
       "      <th>HIRE_DATE</th>\n",
       "      <th></th>\n",
       "      <th></th>\n",
       "    </tr>\n",
       "  </thead>\n",
       "  <tbody>\n",
       "    <tr>\n",
       "      <th>1968-01-01</th>\n",
       "      <td>NaN</td>\n",
       "      <td>106500.0</td>\n",
       "    </tr>\n",
       "    <tr>\n",
       "      <th>1978-01-01</th>\n",
       "      <td>57100.0</td>\n",
       "      <td>72300.0</td>\n",
       "    </tr>\n",
       "    <tr>\n",
       "      <th>1988-01-01</th>\n",
       "      <td>57100.0</td>\n",
       "      <td>64600.0</td>\n",
       "    </tr>\n",
       "    <tr>\n",
       "      <th>1998-01-01</th>\n",
       "      <td>54700.0</td>\n",
       "      <td>59700.0</td>\n",
       "    </tr>\n",
       "    <tr>\n",
       "      <th>2008-01-01</th>\n",
       "      <td>47300.0</td>\n",
       "      <td>47200.0</td>\n",
       "    </tr>\n",
       "    <tr>\n",
       "      <th>1958-01-01</th>\n",
       "      <td>NaN</td>\n",
       "      <td>81200.0</td>\n",
       "    </tr>\n",
       "  </tbody>\n",
       "</table>\n",
       "</div>"
      ],
      "text/plain": [
       "GENDER       Female      Male\n",
       "HIRE_DATE                    \n",
       "1968-01-01      NaN  106500.0\n",
       "1978-01-01  57100.0   72300.0\n",
       "1988-01-01  57100.0   64600.0\n",
       "1998-01-01  54700.0   59700.0\n",
       "2008-01-01  47300.0   47200.0\n",
       "1958-01-01      NaN   81200.0"
      ]
     },
     "execution_count": 240,
     "metadata": {},
     "output_type": "execute_result"
    }
   ],
   "source": [
    "#Now we can unstack the gender and get our rows aligned perfectly:\n",
    "sal_final = sal_avg2.unstack('GENDER')\n",
    "sal_final"
   ]
  },
  {
   "cell_type": "markdown",
   "metadata": {},
   "source": [
    "### More\n",
    "From an outsider's perspective, it would not be obvious that the rows from the output in step 8 represented 10-year intervals. One way to improve the index labels would be to show the beginning and end of each time interval. We can achieve this by concatenating the current index year with 9 added to itself:"
   ]
  },
  {
   "cell_type": "code",
   "execution_count": 241,
   "metadata": {},
   "outputs": [
    {
     "data": {
      "text/html": [
       "<div>\n",
       "<style scoped>\n",
       "    .dataframe tbody tr th:only-of-type {\n",
       "        vertical-align: middle;\n",
       "    }\n",
       "\n",
       "    .dataframe tbody tr th {\n",
       "        vertical-align: top;\n",
       "    }\n",
       "\n",
       "    .dataframe thead th {\n",
       "        text-align: right;\n",
       "    }\n",
       "</style>\n",
       "<table border=\"1\" class=\"dataframe\">\n",
       "  <thead>\n",
       "    <tr style=\"text-align: right;\">\n",
       "      <th>GENDER</th>\n",
       "      <th>Female</th>\n",
       "      <th>Male</th>\n",
       "    </tr>\n",
       "  </thead>\n",
       "  <tbody>\n",
       "    <tr>\n",
       "      <th>1968-1977</th>\n",
       "      <td>NaN</td>\n",
       "      <td>106500.0</td>\n",
       "    </tr>\n",
       "    <tr>\n",
       "      <th>1978-1987</th>\n",
       "      <td>57100.0</td>\n",
       "      <td>72300.0</td>\n",
       "    </tr>\n",
       "    <tr>\n",
       "      <th>1988-1997</th>\n",
       "      <td>57100.0</td>\n",
       "      <td>64600.0</td>\n",
       "    </tr>\n",
       "    <tr>\n",
       "      <th>1998-2007</th>\n",
       "      <td>54700.0</td>\n",
       "      <td>59700.0</td>\n",
       "    </tr>\n",
       "    <tr>\n",
       "      <th>2008-2017</th>\n",
       "      <td>47300.0</td>\n",
       "      <td>47200.0</td>\n",
       "    </tr>\n",
       "    <tr>\n",
       "      <th>1958-1967</th>\n",
       "      <td>NaN</td>\n",
       "      <td>81200.0</td>\n",
       "    </tr>\n",
       "  </tbody>\n",
       "</table>\n",
       "</div>"
      ],
      "text/plain": [
       "GENDER      Female      Male\n",
       "1968-1977      NaN  106500.0\n",
       "1978-1987  57100.0   72300.0\n",
       "1988-1997  57100.0   64600.0\n",
       "1998-2007  54700.0   59700.0\n",
       "2008-2017  47300.0   47200.0\n",
       "1958-1967      NaN   81200.0"
      ]
     },
     "execution_count": 241,
     "metadata": {},
     "output_type": "execute_result"
    }
   ],
   "source": [
    "years = sal_final.index.year\n",
    "years_right = years + 9\n",
    "sal_final.index = years.astype(str) + '-' + years_right.astype(str)\n",
    "sal_final"
   ]
  },
  {
   "cell_type": "markdown",
   "metadata": {},
   "source": [
    "There is actually a completely different way to do this recipe. We can use the cut function to create equal-width intervals based on the year that each employee was hired and form groups from it:"
   ]
  },
  {
   "cell_type": "code",
   "execution_count": 242,
   "metadata": {},
   "outputs": [
    {
     "data": {
      "text/plain": [
       "array([Interval(1958.0, 1970.0, closed='right'),\n",
       "       Interval(1970.0, 1981.0, closed='right'),\n",
       "       Interval(1981.0, 1993.0, closed='right'),\n",
       "       Interval(1993.0, 2004.0, closed='right'),\n",
       "       Interval(2004.0, 2016.0, closed='right')], dtype=object)"
      ]
     },
     "execution_count": 242,
     "metadata": {},
     "output_type": "execute_result"
    }
   ],
   "source": [
    "cuts = pd.cut(employee.index.year, bins=5, precision=0)\n",
    "cuts.categories.values"
   ]
  },
  {
   "cell_type": "code",
   "execution_count": 243,
   "metadata": {},
   "outputs": [
    {
     "data": {
      "text/html": [
       "<div>\n",
       "<style scoped>\n",
       "    .dataframe tbody tr th:only-of-type {\n",
       "        vertical-align: middle;\n",
       "    }\n",
       "\n",
       "    .dataframe tbody tr th {\n",
       "        vertical-align: top;\n",
       "    }\n",
       "\n",
       "    .dataframe thead th {\n",
       "        text-align: right;\n",
       "    }\n",
       "</style>\n",
       "<table border=\"1\" class=\"dataframe\">\n",
       "  <thead>\n",
       "    <tr style=\"text-align: right;\">\n",
       "      <th>GENDER</th>\n",
       "      <th>Female</th>\n",
       "      <th>Male</th>\n",
       "    </tr>\n",
       "  </thead>\n",
       "  <tbody>\n",
       "    <tr>\n",
       "      <th>(1958.0, 1970.0]</th>\n",
       "      <td>NaN</td>\n",
       "      <td>85400.0</td>\n",
       "    </tr>\n",
       "    <tr>\n",
       "      <th>(1970.0, 1981.0]</th>\n",
       "      <td>54400.0</td>\n",
       "      <td>72700.0</td>\n",
       "    </tr>\n",
       "    <tr>\n",
       "      <th>(1981.0, 1993.0]</th>\n",
       "      <td>55700.0</td>\n",
       "      <td>69300.0</td>\n",
       "    </tr>\n",
       "    <tr>\n",
       "      <th>(1993.0, 2004.0]</th>\n",
       "      <td>56500.0</td>\n",
       "      <td>62300.0</td>\n",
       "    </tr>\n",
       "    <tr>\n",
       "      <th>(2004.0, 2016.0]</th>\n",
       "      <td>49100.0</td>\n",
       "      <td>49800.0</td>\n",
       "    </tr>\n",
       "  </tbody>\n",
       "</table>\n",
       "</div>"
      ],
      "text/plain": [
       "GENDER             Female     Male\n",
       "(1958.0, 1970.0]      NaN  85400.0\n",
       "(1970.0, 1981.0]  54400.0  72700.0\n",
       "(1981.0, 1993.0]  55700.0  69300.0\n",
       "(1993.0, 2004.0]  56500.0  62300.0\n",
       "(2004.0, 2016.0]  49100.0  49800.0"
      ]
     },
     "execution_count": 243,
     "metadata": {},
     "output_type": "execute_result"
    }
   ],
   "source": [
    "employee.groupby([cuts, 'GENDER'])['BASE_SALARY'] \\\n",
    "            .mean().unstack('GENDER').round(-2)"
   ]
  },
  {
   "cell_type": "markdown",
   "metadata": {},
   "source": [
    "### Ex5. Finding the last time crime was 20% lower with merge_asof\n",
    "There are frequently times where we would like to know when the last time something happened. For example, we might be interested in the last time unemployment was below 5% or the last time the stock market went up five days in a row or the last time you had eight hours of sleep. The merge_asof function provides answers to these types of questions.\n",
    "\n",
    "In this recipe, we will find the current month's total number of crimes for each offense category and then find the last time there were 20% fewer incidences."
   ]
  },
  {
   "cell_type": "code",
   "execution_count": 247,
   "metadata": {},
   "outputs": [],
   "source": [
    "#Read in the Denver crime dataset, place the REPORTED_DATE in the index, and sort it:\n",
    "crime_sort = pd.read_hdf('data/bookPandasCookbook/crime.h5', 'crime') \\\n",
    "    .set_index('REPORTED_DATE') \\\n",
    "    .sort_index()"
   ]
  },
  {
   "cell_type": "markdown",
   "metadata": {},
   "source": [
    "Find the last full month of data:"
   ]
  },
  {
   "cell_type": "code",
   "execution_count": 248,
   "metadata": {},
   "outputs": [
    {
     "data": {
      "text/plain": [
       "Timestamp('2017-09-29 06:16:00')"
      ]
     },
     "execution_count": 248,
     "metadata": {},
     "output_type": "execute_result"
    }
   ],
   "source": [
    "crime_sort.index.max()"
   ]
  },
  {
   "cell_type": "markdown",
   "metadata": {},
   "source": [
    "As we don't quite have all of September's data, let's drop it from our dataset:"
   ]
  },
  {
   "cell_type": "code",
   "execution_count": 269,
   "metadata": {},
   "outputs": [
    {
     "data": {
      "text/plain": [
       "Timestamp('2017-08-31 23:52:00')"
      ]
     },
     "execution_count": 269,
     "metadata": {},
     "output_type": "execute_result"
    }
   ],
   "source": [
    "#After reading in our data, we decide not to include the 2017 September data, as it is not quite a complete month. \n",
    "#We use a partial date string to slice all the way up to and including any crimes in August of 2017. \n",
    "crime_sort = crime_sort[:'2017-8']\n",
    "crime_sort.index.max()"
   ]
  },
  {
   "cell_type": "markdown",
   "metadata": {},
   "source": [
    "Let's count the number of crimes and traffic accidents for every month:"
   ]
  },
  {
   "cell_type": "code",
   "execution_count": 270,
   "metadata": {},
   "outputs": [
    {
     "data": {
      "text/plain": [
       "REPORTED_DATE  OFFENSE_CATEGORY_ID\n",
       "2012-01-31     aggravated-assault     113\n",
       "               all-other-crimes       124\n",
       "               arson                    5\n",
       "               auto-theft             275\n",
       "               burglary               343\n",
       "dtype: int64"
      ]
     },
     "execution_count": 270,
     "metadata": {},
     "output_type": "execute_result"
    }
   ],
   "source": [
    "#In step 4, we tally all the crimes for each offense category per month\n",
    "all_data = crime_sort.groupby([pd.Grouper(freq='M'),\n",
    "                                   'OFFENSE_CATEGORY_ID']).size()\n",
    "all_data.head()"
   ]
  },
  {
   "cell_type": "markdown",
   "metadata": {},
   "source": [
    "Although the merge_asof function can work with the index, it will be easier to just reset it:"
   ]
  },
  {
   "cell_type": "code",
   "execution_count": 271,
   "metadata": {},
   "outputs": [
    {
     "data": {
      "text/html": [
       "<div>\n",
       "<style scoped>\n",
       "    .dataframe tbody tr th:only-of-type {\n",
       "        vertical-align: middle;\n",
       "    }\n",
       "\n",
       "    .dataframe tbody tr th {\n",
       "        vertical-align: top;\n",
       "    }\n",
       "\n",
       "    .dataframe thead th {\n",
       "        text-align: right;\n",
       "    }\n",
       "</style>\n",
       "<table border=\"1\" class=\"dataframe\">\n",
       "  <thead>\n",
       "    <tr style=\"text-align: right;\">\n",
       "      <th></th>\n",
       "      <th>REPORTED_DATE</th>\n",
       "      <th>OFFENSE_CATEGORY_ID</th>\n",
       "      <th>Total</th>\n",
       "    </tr>\n",
       "  </thead>\n",
       "  <tbody>\n",
       "    <tr>\n",
       "      <th>0</th>\n",
       "      <td>2014-12-31</td>\n",
       "      <td>murder</td>\n",
       "      <td>1</td>\n",
       "    </tr>\n",
       "    <tr>\n",
       "      <th>1</th>\n",
       "      <td>2013-01-31</td>\n",
       "      <td>arson</td>\n",
       "      <td>1</td>\n",
       "    </tr>\n",
       "    <tr>\n",
       "      <th>2</th>\n",
       "      <td>2016-05-31</td>\n",
       "      <td>murder</td>\n",
       "      <td>1</td>\n",
       "    </tr>\n",
       "    <tr>\n",
       "      <th>3</th>\n",
       "      <td>2012-12-31</td>\n",
       "      <td>murder</td>\n",
       "      <td>1</td>\n",
       "    </tr>\n",
       "    <tr>\n",
       "      <th>4</th>\n",
       "      <td>2016-12-31</td>\n",
       "      <td>murder</td>\n",
       "      <td>1</td>\n",
       "    </tr>\n",
       "  </tbody>\n",
       "</table>\n",
       "</div>"
      ],
      "text/plain": [
       "  REPORTED_DATE OFFENSE_CATEGORY_ID  Total\n",
       "0    2014-12-31              murder      1\n",
       "1    2013-01-31               arson      1\n",
       "2    2016-05-31              murder      1\n",
       "3    2012-12-31              murder      1\n",
       "4    2016-12-31              murder      1"
      ]
     },
     "execution_count": 271,
     "metadata": {},
     "output_type": "execute_result"
    }
   ],
   "source": [
    "#and in step 5, we sort by this total, which is required for merge_asof.\n",
    "all_data = all_data.sort_values().reset_index(name='Total')\n",
    "all_data.head()"
   ]
  },
  {
   "cell_type": "markdown",
   "metadata": {},
   "source": [
    "Let's get the current month's crime count and make a new column to represent the goal:"
   ]
  },
  {
   "cell_type": "code",
   "execution_count": 272,
   "metadata": {},
   "outputs": [
    {
     "data": {
      "text/html": [
       "<div>\n",
       "<style scoped>\n",
       "    .dataframe tbody tr th:only-of-type {\n",
       "        vertical-align: middle;\n",
       "    }\n",
       "\n",
       "    .dataframe tbody tr th {\n",
       "        vertical-align: top;\n",
       "    }\n",
       "\n",
       "    .dataframe thead th {\n",
       "        text-align: right;\n",
       "    }\n",
       "</style>\n",
       "<table border=\"1\" class=\"dataframe\">\n",
       "  <thead>\n",
       "    <tr style=\"text-align: right;\">\n",
       "      <th></th>\n",
       "      <th>REPORTED_DATE</th>\n",
       "      <th>OFFENSE_CATEGORY_ID</th>\n",
       "      <th>Total</th>\n",
       "      <th>Total_Goal</th>\n",
       "    </tr>\n",
       "  </thead>\n",
       "  <tbody>\n",
       "    <tr>\n",
       "      <th>0</th>\n",
       "      <td>2017-08-31</td>\n",
       "      <td>murder</td>\n",
       "      <td>7</td>\n",
       "      <td>5</td>\n",
       "    </tr>\n",
       "    <tr>\n",
       "      <th>1</th>\n",
       "      <td>2017-08-31</td>\n",
       "      <td>arson</td>\n",
       "      <td>7</td>\n",
       "      <td>5</td>\n",
       "    </tr>\n",
       "    <tr>\n",
       "      <th>2</th>\n",
       "      <td>2017-08-31</td>\n",
       "      <td>sexual-assault</td>\n",
       "      <td>57</td>\n",
       "      <td>45</td>\n",
       "    </tr>\n",
       "    <tr>\n",
       "      <th>3</th>\n",
       "      <td>2017-08-31</td>\n",
       "      <td>robbery</td>\n",
       "      <td>108</td>\n",
       "      <td>86</td>\n",
       "    </tr>\n",
       "    <tr>\n",
       "      <th>4</th>\n",
       "      <td>2017-08-31</td>\n",
       "      <td>white-collar-crime</td>\n",
       "      <td>138</td>\n",
       "      <td>110</td>\n",
       "    </tr>\n",
       "  </tbody>\n",
       "</table>\n",
       "</div>"
      ],
      "text/plain": [
       "  REPORTED_DATE OFFENSE_CATEGORY_ID  Total  Total_Goal\n",
       "0    2017-08-31              murder      7           5\n",
       "1    2017-08-31               arson      7           5\n",
       "2    2017-08-31      sexual-assault     57          45\n",
       "3    2017-08-31             robbery    108          86\n",
       "4    2017-08-31  white-collar-crime    138         110"
      ]
     },
     "execution_count": 272,
     "metadata": {},
     "output_type": "execute_result"
    }
   ],
   "source": [
    "#In step 6, we select the most recent data into a separate DataFrame. \n",
    "#We will use this month of August as our baseline and create a column, Total_Goal, that is 20% less than the current. \n",
    "goal = all_data[all_data['REPORTED_DATE'] == '2017-8-31'] \\\n",
    "                   .reset_index(drop=True)\n",
    "goal['Total_Goal'] = goal['Total'].mul(.8).astype(int)\n",
    "goal.head()"
   ]
  },
  {
   "cell_type": "code",
   "execution_count": 267,
   "metadata": {},
   "outputs": [
    {
     "data": {
      "text/plain": [
       "REPORTED_DATE          datetime64[ns]\n",
       "OFFENSE_CATEGORY_ID          category\n",
       "Total                           int64\n",
       "Total_Goal                      int64\n",
       "dtype: object"
      ]
     },
     "execution_count": 267,
     "metadata": {},
     "output_type": "execute_result"
    }
   ],
   "source": [
    "all_data.dtypes\n",
    "goal.dtypes #$bug -> Total_Goal is int32\n",
    "type(goal)\n",
    "goal['Total_Goal'] = goal['Total_Goal'].astype('int64')\n",
    "goal.dtypes"
   ]
  },
  {
   "cell_type": "markdown",
   "metadata": {},
   "source": [
    "Now use the merge_asof function to find the last time a monthly crime total was less than the column Total_Goal for each offense category:\n",
    "\n",
    "In step 7, we use merge_asof to find the last time a monthly crime count was less than the Total_Goal column."
   ]
  },
  {
   "cell_type": "code",
   "execution_count": 268,
   "metadata": {},
   "outputs": [
    {
     "data": {
      "text/html": [
       "<div>\n",
       "<style scoped>\n",
       "    .dataframe tbody tr th:only-of-type {\n",
       "        vertical-align: middle;\n",
       "    }\n",
       "\n",
       "    .dataframe tbody tr th {\n",
       "        vertical-align: top;\n",
       "    }\n",
       "\n",
       "    .dataframe thead th {\n",
       "        text-align: right;\n",
       "    }\n",
       "</style>\n",
       "<table border=\"1\" class=\"dataframe\">\n",
       "  <thead>\n",
       "    <tr style=\"text-align: right;\">\n",
       "      <th></th>\n",
       "      <th>REPORTED_DATE_Current</th>\n",
       "      <th>OFFENSE_CATEGORY_ID</th>\n",
       "      <th>Total_Current</th>\n",
       "      <th>Total_Goal</th>\n",
       "      <th>REPORTED_DATE_Last</th>\n",
       "      <th>Total_Last</th>\n",
       "    </tr>\n",
       "  </thead>\n",
       "  <tbody>\n",
       "    <tr>\n",
       "      <th>0</th>\n",
       "      <td>2017-08-31</td>\n",
       "      <td>murder</td>\n",
       "      <td>7</td>\n",
       "      <td>5</td>\n",
       "      <td>2017-01-31</td>\n",
       "      <td>5</td>\n",
       "    </tr>\n",
       "    <tr>\n",
       "      <th>1</th>\n",
       "      <td>2017-08-31</td>\n",
       "      <td>arson</td>\n",
       "      <td>7</td>\n",
       "      <td>5</td>\n",
       "      <td>2012-01-31</td>\n",
       "      <td>5</td>\n",
       "    </tr>\n",
       "    <tr>\n",
       "      <th>2</th>\n",
       "      <td>2017-08-31</td>\n",
       "      <td>sexual-assault</td>\n",
       "      <td>57</td>\n",
       "      <td>45</td>\n",
       "      <td>2013-01-31</td>\n",
       "      <td>45</td>\n",
       "    </tr>\n",
       "    <tr>\n",
       "      <th>...</th>\n",
       "      <td>...</td>\n",
       "      <td>...</td>\n",
       "      <td>...</td>\n",
       "      <td>...</td>\n",
       "      <td>...</td>\n",
       "      <td>...</td>\n",
       "    </tr>\n",
       "    <tr>\n",
       "      <th>12</th>\n",
       "      <td>2017-08-31</td>\n",
       "      <td>public-disorder</td>\n",
       "      <td>878</td>\n",
       "      <td>702</td>\n",
       "      <td>2015-12-31</td>\n",
       "      <td>699</td>\n",
       "    </tr>\n",
       "    <tr>\n",
       "      <th>13</th>\n",
       "      <td>2017-08-31</td>\n",
       "      <td>all-other-crimes</td>\n",
       "      <td>1583</td>\n",
       "      <td>1266</td>\n",
       "      <td>2016-11-30</td>\n",
       "      <td>1264</td>\n",
       "    </tr>\n",
       "    <tr>\n",
       "      <th>14</th>\n",
       "      <td>2017-08-31</td>\n",
       "      <td>traffic-accident</td>\n",
       "      <td>2126</td>\n",
       "      <td>1700</td>\n",
       "      <td>2013-12-31</td>\n",
       "      <td>1697</td>\n",
       "    </tr>\n",
       "  </tbody>\n",
       "</table>\n",
       "<p>15 rows × 6 columns</p>\n",
       "</div>"
      ],
      "text/plain": [
       "   REPORTED_DATE_Current OFFENSE_CATEGORY_ID  Total_Current  Total_Goal  \\\n",
       "0             2017-08-31              murder              7           5   \n",
       "1             2017-08-31               arson              7           5   \n",
       "2             2017-08-31      sexual-assault             57          45   \n",
       "..                   ...                 ...            ...         ...   \n",
       "12            2017-08-31     public-disorder            878         702   \n",
       "13            2017-08-31    all-other-crimes           1583        1266   \n",
       "14            2017-08-31    traffic-accident           2126        1700   \n",
       "\n",
       "   REPORTED_DATE_Last  Total_Last  \n",
       "0          2017-01-31           5  \n",
       "1          2012-01-31           5  \n",
       "2          2013-01-31          45  \n",
       "..                ...         ...  \n",
       "12         2015-12-31         699  \n",
       "13         2016-11-30        1264  \n",
       "14         2013-12-31        1697  \n",
       "\n",
       "[15 rows x 6 columns]"
      ]
     },
     "execution_count": 268,
     "metadata": {},
     "output_type": "execute_result"
    }
   ],
   "source": [
    "#$bug - see fix above\n",
    "#error: incompatible merge keys [1] int32 and int64, must be the same type\n",
    "pd.merge_asof(goal, all_data, left_on='Total_Goal',\n",
    "                  right_on='Total', by='OFFENSE_CATEGORY_ID',\n",
    "                  suffixes=('_Current', '_Last'))"
   ]
  },
  {
   "cell_type": "markdown",
   "metadata": {},
   "source": [
    "### More\n",
    "In addition to the Timestamp and Timedelta data types, pandas offers the Period type to represent an exact time period. For example, 2012-05 would represent the entire month of May, 2012. You can manually construct a Period in the following manner:"
   ]
  },
  {
   "cell_type": "code",
   "execution_count": 273,
   "metadata": {},
   "outputs": [
    {
     "data": {
      "text/plain": [
       "Period('2012-05-17 14:20', 'T')"
      ]
     },
     "execution_count": 273,
     "metadata": {},
     "output_type": "execute_result"
    }
   ],
   "source": [
    "pd.Period(year=2012, month=5, day=17, hour=14, minute=20, freq='T')"
   ]
  },
  {
   "cell_type": "markdown",
   "metadata": {},
   "source": [
    "This object represents the entire minute of May 17, 2012 at 2:20 p.m. It is possible to use these Periods in step 4 instead of grouping by date with pd.Grouper. DataFrames with a DatetimeIndex have the to_period method to convert Timestamps to Periods. It accepts an offset alias to determine the exact length of the time period."
   ]
  },
  {
   "cell_type": "code",
   "execution_count": 274,
   "metadata": {},
   "outputs": [
    {
     "data": {
      "text/html": [
       "<div>\n",
       "<style scoped>\n",
       "    .dataframe tbody tr th:only-of-type {\n",
       "        vertical-align: middle;\n",
       "    }\n",
       "\n",
       "    .dataframe tbody tr th {\n",
       "        vertical-align: top;\n",
       "    }\n",
       "\n",
       "    .dataframe thead th {\n",
       "        text-align: right;\n",
       "    }\n",
       "</style>\n",
       "<table border=\"1\" class=\"dataframe\">\n",
       "  <thead>\n",
       "    <tr style=\"text-align: right;\">\n",
       "      <th></th>\n",
       "      <th>REPORTED_DATE</th>\n",
       "      <th>OFFENSE_CATEGORY_ID</th>\n",
       "      <th>Total</th>\n",
       "    </tr>\n",
       "  </thead>\n",
       "  <tbody>\n",
       "    <tr>\n",
       "      <th>0</th>\n",
       "      <td>2014-12</td>\n",
       "      <td>murder</td>\n",
       "      <td>1</td>\n",
       "    </tr>\n",
       "    <tr>\n",
       "      <th>1</th>\n",
       "      <td>2013-01</td>\n",
       "      <td>arson</td>\n",
       "      <td>1</td>\n",
       "    </tr>\n",
       "    <tr>\n",
       "      <th>2</th>\n",
       "      <td>2016-05</td>\n",
       "      <td>murder</td>\n",
       "      <td>1</td>\n",
       "    </tr>\n",
       "    <tr>\n",
       "      <th>3</th>\n",
       "      <td>2012-12</td>\n",
       "      <td>murder</td>\n",
       "      <td>1</td>\n",
       "    </tr>\n",
       "    <tr>\n",
       "      <th>4</th>\n",
       "      <td>2016-12</td>\n",
       "      <td>murder</td>\n",
       "      <td>1</td>\n",
       "    </tr>\n",
       "  </tbody>\n",
       "</table>\n",
       "</div>"
      ],
      "text/plain": [
       "  REPORTED_DATE OFFENSE_CATEGORY_ID  Total\n",
       "0       2014-12              murder      1\n",
       "1       2013-01               arson      1\n",
       "2       2016-05              murder      1\n",
       "3       2012-12              murder      1\n",
       "4       2016-12              murder      1"
      ]
     },
     "execution_count": 274,
     "metadata": {},
     "output_type": "execute_result"
    }
   ],
   "source": [
    "ad_period = crime_sort.groupby([lambda x: x.to_period('M'), \n",
    "                                    'OFFENSE_CATEGORY_ID']).size()\n",
    "ad_period = ad_period.sort_values() \\\n",
    "                         .reset_index(name='Total') \\\n",
    "                         .rename(columns={'level_0':'REPORTED_DATE'})\n",
    "ad_period.head()"
   ]
  },
  {
   "cell_type": "markdown",
   "metadata": {},
   "source": [
    "Let's verify that the last two columns from this DataFrame are equivalent to all_data from step 5:"
   ]
  },
  {
   "cell_type": "code",
   "execution_count": 275,
   "metadata": {},
   "outputs": [
    {
     "data": {
      "text/plain": [
       "True"
      ]
     },
     "execution_count": 275,
     "metadata": {},
     "output_type": "execute_result"
    }
   ],
   "source": [
    "cols = ['OFFENSE_CATEGORY_ID', 'Total']\n",
    "all_data[cols].equals(ad_period[cols])"
   ]
  },
  {
   "cell_type": "markdown",
   "metadata": {},
   "source": [
    "Steps 6 and 7 can now be replicated in almost the exact same manner with the following code:\n"
   ]
  },
  {
   "cell_type": "code",
   "execution_count": 285,
   "metadata": {},
   "outputs": [
    {
     "data": {
      "text/html": [
       "<div>\n",
       "<style scoped>\n",
       "    .dataframe tbody tr th:only-of-type {\n",
       "        vertical-align: middle;\n",
       "    }\n",
       "\n",
       "    .dataframe tbody tr th {\n",
       "        vertical-align: top;\n",
       "    }\n",
       "\n",
       "    .dataframe thead th {\n",
       "        text-align: right;\n",
       "    }\n",
       "</style>\n",
       "<table border=\"1\" class=\"dataframe\">\n",
       "  <thead>\n",
       "    <tr style=\"text-align: right;\">\n",
       "      <th></th>\n",
       "      <th>REPORTED_DATE_Current</th>\n",
       "      <th>OFFENSE_CATEGORY_ID</th>\n",
       "      <th>Total_Current</th>\n",
       "      <th>Total_Goal</th>\n",
       "      <th>REPORTED_DATE_Last</th>\n",
       "      <th>Total_Last</th>\n",
       "    </tr>\n",
       "  </thead>\n",
       "  <tbody>\n",
       "    <tr>\n",
       "      <th>0</th>\n",
       "      <td>2017-08</td>\n",
       "      <td>murder</td>\n",
       "      <td>7</td>\n",
       "      <td>5</td>\n",
       "      <td>2017-01</td>\n",
       "      <td>5</td>\n",
       "    </tr>\n",
       "    <tr>\n",
       "      <th>1</th>\n",
       "      <td>2017-08</td>\n",
       "      <td>arson</td>\n",
       "      <td>7</td>\n",
       "      <td>5</td>\n",
       "      <td>2012-01</td>\n",
       "      <td>5</td>\n",
       "    </tr>\n",
       "    <tr>\n",
       "      <th>2</th>\n",
       "      <td>2017-08</td>\n",
       "      <td>sexual-assault</td>\n",
       "      <td>57</td>\n",
       "      <td>45</td>\n",
       "      <td>2013-01</td>\n",
       "      <td>45</td>\n",
       "    </tr>\n",
       "    <tr>\n",
       "      <th>3</th>\n",
       "      <td>2017-08</td>\n",
       "      <td>robbery</td>\n",
       "      <td>108</td>\n",
       "      <td>86</td>\n",
       "      <td>2015-03</td>\n",
       "      <td>86</td>\n",
       "    </tr>\n",
       "    <tr>\n",
       "      <th>4</th>\n",
       "      <td>2017-08</td>\n",
       "      <td>white-collar-crime</td>\n",
       "      <td>138</td>\n",
       "      <td>110</td>\n",
       "      <td>2016-10</td>\n",
       "      <td>110</td>\n",
       "    </tr>\n",
       "  </tbody>\n",
       "</table>\n",
       "</div>"
      ],
      "text/plain": [
       "  REPORTED_DATE_Current OFFENSE_CATEGORY_ID  Total_Current  Total_Goal  \\\n",
       "0               2017-08              murder              7           5   \n",
       "1               2017-08               arson              7           5   \n",
       "2               2017-08      sexual-assault             57          45   \n",
       "3               2017-08             robbery            108          86   \n",
       "4               2017-08  white-collar-crime            138         110   \n",
       "\n",
       "  REPORTED_DATE_Last  Total_Last  \n",
       "0            2017-01           5  \n",
       "1            2012-01           5  \n",
       "2            2013-01          45  \n",
       "3            2015-03          86  \n",
       "4            2016-10         110  "
      ]
     },
     "execution_count": 285,
     "metadata": {},
     "output_type": "execute_result"
    }
   ],
   "source": [
    "aug_2018 = pd.Period('2017-8', freq='M')\n",
    "goal_period = ad_period[ad_period['REPORTED_DATE'] == aug_2018] \\\n",
    "                           .reset_index(drop=True)\n",
    "goal_period['Total_Goal'] = goal_period['Total'].mul(.8).astype(int)\n",
    "\n",
    "#$bug same again, fix\n",
    "goal_period['Total_Goal'] = goal_period['Total_Goal'].astype('int64')\n",
    "\n",
    "\n",
    "pd.merge_asof(goal_period, ad_period, left_on='Total_Goal',\n",
    "                  right_on='Total', by='OFFENSE_CATEGORY_ID',\n",
    "                  suffixes=('_Current', '_Last')).head()"
   ]
  },
  {
   "cell_type": "code",
   "execution_count": null,
   "metadata": {},
   "outputs": [],
   "source": []
  }
 ],
 "metadata": {
  "kernelspec": {
   "display_name": "Python 3",
   "language": "python",
   "name": "python3"
  },
  "language_info": {
   "codemirror_mode": {
    "name": "ipython",
    "version": 3
   },
   "file_extension": ".py",
   "mimetype": "text/x-python",
   "name": "python",
   "nbconvert_exporter": "python",
   "pygments_lexer": "ipython3",
   "version": "3.6.5"
  }
 },
 "nbformat": 4,
 "nbformat_minor": 2
}
